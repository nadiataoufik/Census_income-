{
  "nbformat": 4,
  "nbformat_minor": 5,
  "metadata": {
    "kernelspec": {
      "display_name": "Python 3",
      "language": "python",
      "name": "python3"
    },
    "language_info": {
      "codemirror_mode": {
        "name": "ipython",
        "version": 3
      },
      "file_extension": ".py",
      "mimetype": "text/x-python",
      "name": "python",
      "nbconvert_exporter": "python",
      "pygments_lexer": "ipython3",
      "version": "3.8.8"
    },
    "colab": {
      "name": "ED_PATIENTS_LSTM.ipynb",
      "provenance": [],
      "collapsed_sections": [],
      "include_colab_link": true
    }
  },
  "cells": [
    {
      "cell_type": "markdown",
      "metadata": {
        "id": "view-in-github",
        "colab_type": "text"
      },
      "source": [
        "<a href=\"https://colab.research.google.com/github/nadiataoufik/Census_income-/blob/master/ED_PATIENTS_LSTM.ipynb\" target=\"_parent\"><img src=\"https://colab.research.google.com/assets/colab-badge.svg\" alt=\"Open In Colab\"/></a>"
      ]
    },
    {
      "cell_type": "code",
      "metadata": {
        "id": "eb1d7fb9"
      },
      "source": [
        "import numpy as np \n",
        "import warnings"
      ],
      "id": "eb1d7fb9",
      "execution_count": null,
      "outputs": []
    },
    {
      "cell_type": "code",
      "metadata": {
        "id": "52ac52ef"
      },
      "source": [
        "warnings.filterwarnings('ignore')"
      ],
      "id": "52ac52ef",
      "execution_count": null,
      "outputs": []
    },
    {
      "cell_type": "code",
      "metadata": {
        "id": "8eaf96f6",
        "outputId": "902c4212-69ab-4401-b870-27e110eb7550"
      },
      "source": [
        "#2018-06-16 00:00:00    27.524297\n",
        "#2018-06-16 01:00:00    26.442883\n",
        "#2018-06-16 02:00:00    23.595677\n",
        "#2018-06-16 03:00:00    19.609593\n",
        "import pandas as pd \n",
        "df=pd.read_excel(r\"C:\\Users\\Ntaoufi\\Documents\\ED_Cencus.xlsx\")\n",
        "df.columns"
      ],
      "id": "8eaf96f6",
      "execution_count": null,
      "outputs": [
        {
          "data": {
            "text/plain": [
              "Index(['Date', 'Hour', 'Total_Ed_Patients', 'MaxAdmitWaitTime',\n",
              "       'MinMinutesToEta', 'HU_Patients', 'MinFromResGr40', 'OneToOnePatients',\n",
              "       'EDHolds', 'EDLocRed', 'EDLocBlue', 'EDLocGreen', 'EDLocGold',\n",
              "       'EDLocPeds', 'EDLocMinor', 'EDLocOth', 'EDStaffRN', 'EDStaffPCA',\n",
              "       'EDStaffCSS', 'EDStaffTrans', 'EDStaffOther', 'Total_Adm_Patients',\n",
              "       'AvgDoor2Doc', 'AvgDoor2Rm', 'Total_Ed_Patients_Bud',\n",
              "       'Total_Ed_Nurse_Bud', 'Total_Ed_PCA_Bud', 'Max_WR_Time',\n",
              "       'AvgConv2BedAssign', 'Nurse_Ratio_Bud', 'PCA_Ratio_Bud', 'AdmBedReq',\n",
              "       'Minute', 'ArrivedLast30Minutes'],\n",
              "      dtype='object')"
            ]
          },
          "execution_count": 116,
          "metadata": {},
          "output_type": "execute_result"
        }
      ]
    },
    {
      "cell_type": "code",
      "metadata": {
        "id": "4a9e7d89"
      },
      "source": [
        "df=df.drop(['MaxAdmitWaitTime',\n",
        "       'MinMinutesToEta', 'HU_Patients', 'MinFromResGr40', 'OneToOnePatients',\n",
        "       'EDHolds', 'EDLocRed', 'EDLocBlue', 'EDLocGreen', 'EDLocGold',\n",
        "       'EDLocPeds', 'EDLocMinor', 'EDLocOth', 'EDStaffRN', 'EDStaffPCA',\n",
        "       'EDStaffCSS', 'EDStaffTrans', 'EDStaffOther', 'Total_Adm_Patients',\n",
        "       'AvgDoor2Doc', 'AvgDoor2Rm', 'Total_Ed_Patients_Bud',\n",
        "       'Total_Ed_Nurse_Bud', 'Total_Ed_PCA_Bud', 'Max_WR_Time',\n",
        "       'AvgConv2BedAssign', 'Nurse_Ratio_Bud', 'PCA_Ratio_Bud', 'AdmBedReq', 'ArrivedLast30Minutes'],axis=1)"
      ],
      "id": "4a9e7d89",
      "execution_count": null,
      "outputs": []
    },
    {
      "cell_type": "code",
      "metadata": {
        "id": "1893a68d",
        "outputId": "d771e811-e271-4f85-bb4b-cb4dd8ea2bbb"
      },
      "source": [
        "df=df.dropna()\n",
        "df.head()"
      ],
      "id": "1893a68d",
      "execution_count": null,
      "outputs": [
        {
          "data": {
            "text/html": [
              "<div>\n",
              "<style scoped>\n",
              "    .dataframe tbody tr th:only-of-type {\n",
              "        vertical-align: middle;\n",
              "    }\n",
              "\n",
              "    .dataframe tbody tr th {\n",
              "        vertical-align: top;\n",
              "    }\n",
              "\n",
              "    .dataframe thead th {\n",
              "        text-align: right;\n",
              "    }\n",
              "</style>\n",
              "<table border=\"1\" class=\"dataframe\">\n",
              "  <thead>\n",
              "    <tr style=\"text-align: right;\">\n",
              "      <th></th>\n",
              "      <th>Date</th>\n",
              "      <th>Hour</th>\n",
              "      <th>Total_Ed_Patients</th>\n",
              "      <th>Minute</th>\n",
              "    </tr>\n",
              "  </thead>\n",
              "  <tbody>\n",
              "    <tr>\n",
              "      <th>0</th>\n",
              "      <td>2018-06-08</td>\n",
              "      <td>15</td>\n",
              "      <td>44</td>\n",
              "      <td>0</td>\n",
              "    </tr>\n",
              "    <tr>\n",
              "      <th>1</th>\n",
              "      <td>2018-06-08</td>\n",
              "      <td>16</td>\n",
              "      <td>50</td>\n",
              "      <td>0</td>\n",
              "    </tr>\n",
              "    <tr>\n",
              "      <th>2</th>\n",
              "      <td>2018-06-08</td>\n",
              "      <td>17</td>\n",
              "      <td>54</td>\n",
              "      <td>0</td>\n",
              "    </tr>\n",
              "    <tr>\n",
              "      <th>3</th>\n",
              "      <td>2018-06-08</td>\n",
              "      <td>18</td>\n",
              "      <td>58</td>\n",
              "      <td>0</td>\n",
              "    </tr>\n",
              "    <tr>\n",
              "      <th>4</th>\n",
              "      <td>2018-06-08</td>\n",
              "      <td>19</td>\n",
              "      <td>64</td>\n",
              "      <td>0</td>\n",
              "    </tr>\n",
              "  </tbody>\n",
              "</table>\n",
              "</div>"
            ],
            "text/plain": [
              "        Date  Hour  Total_Ed_Patients  Minute\n",
              "0 2018-06-08    15                 44       0\n",
              "1 2018-06-08    16                 50       0\n",
              "2 2018-06-08    17                 54       0\n",
              "3 2018-06-08    18                 58       0\n",
              "4 2018-06-08    19                 64       0"
            ]
          },
          "execution_count": 118,
          "metadata": {},
          "output_type": "execute_result"
        }
      ]
    },
    {
      "cell_type": "code",
      "metadata": {
        "id": "806c64a5"
      },
      "source": [
        "df[\"day\"] = df['Date'].map(lambda x: x.day)\n",
        "df[\"month\"] = df['Date'].map(lambda x: x.month)\n",
        "df[\"year\"] = df['Date'].map(lambda x: x.year)"
      ],
      "id": "806c64a5",
      "execution_count": null,
      "outputs": []
    },
    {
      "cell_type": "code",
      "metadata": {
        "id": "42e40232",
        "outputId": "78a613a2-9129-44d4-832d-0f5f724ec740"
      },
      "source": [
        "df=df.drop('Date',axis=1)\n",
        "df.head()"
      ],
      "id": "42e40232",
      "execution_count": null,
      "outputs": [
        {
          "data": {
            "text/html": [
              "<div>\n",
              "<style scoped>\n",
              "    .dataframe tbody tr th:only-of-type {\n",
              "        vertical-align: middle;\n",
              "    }\n",
              "\n",
              "    .dataframe tbody tr th {\n",
              "        vertical-align: top;\n",
              "    }\n",
              "\n",
              "    .dataframe thead th {\n",
              "        text-align: right;\n",
              "    }\n",
              "</style>\n",
              "<table border=\"1\" class=\"dataframe\">\n",
              "  <thead>\n",
              "    <tr style=\"text-align: right;\">\n",
              "      <th></th>\n",
              "      <th>Hour</th>\n",
              "      <th>Total_Ed_Patients</th>\n",
              "      <th>Minute</th>\n",
              "      <th>day</th>\n",
              "      <th>month</th>\n",
              "      <th>year</th>\n",
              "    </tr>\n",
              "  </thead>\n",
              "  <tbody>\n",
              "    <tr>\n",
              "      <th>0</th>\n",
              "      <td>15</td>\n",
              "      <td>44</td>\n",
              "      <td>0</td>\n",
              "      <td>8</td>\n",
              "      <td>6</td>\n",
              "      <td>2018</td>\n",
              "    </tr>\n",
              "    <tr>\n",
              "      <th>1</th>\n",
              "      <td>16</td>\n",
              "      <td>50</td>\n",
              "      <td>0</td>\n",
              "      <td>8</td>\n",
              "      <td>6</td>\n",
              "      <td>2018</td>\n",
              "    </tr>\n",
              "    <tr>\n",
              "      <th>2</th>\n",
              "      <td>17</td>\n",
              "      <td>54</td>\n",
              "      <td>0</td>\n",
              "      <td>8</td>\n",
              "      <td>6</td>\n",
              "      <td>2018</td>\n",
              "    </tr>\n",
              "    <tr>\n",
              "      <th>3</th>\n",
              "      <td>18</td>\n",
              "      <td>58</td>\n",
              "      <td>0</td>\n",
              "      <td>8</td>\n",
              "      <td>6</td>\n",
              "      <td>2018</td>\n",
              "    </tr>\n",
              "    <tr>\n",
              "      <th>4</th>\n",
              "      <td>19</td>\n",
              "      <td>64</td>\n",
              "      <td>0</td>\n",
              "      <td>8</td>\n",
              "      <td>6</td>\n",
              "      <td>2018</td>\n",
              "    </tr>\n",
              "  </tbody>\n",
              "</table>\n",
              "</div>"
            ],
            "text/plain": [
              "   Hour  Total_Ed_Patients  Minute  day  month  year\n",
              "0    15                 44       0    8      6  2018\n",
              "1    16                 50       0    8      6  2018\n",
              "2    17                 54       0    8      6  2018\n",
              "3    18                 58       0    8      6  2018\n",
              "4    19                 64       0    8      6  2018"
            ]
          },
          "execution_count": 120,
          "metadata": {},
          "output_type": "execute_result"
        }
      ]
    },
    {
      "cell_type": "code",
      "metadata": {
        "id": "136792bd"
      },
      "source": [
        "df['Date']=pd.to_datetime({'year':df['year'],'month':df['month'],'day':df['day'],'Hour':df['Hour'],'Minute':df['Minute']})"
      ],
      "id": "136792bd",
      "execution_count": null,
      "outputs": []
    },
    {
      "cell_type": "code",
      "metadata": {
        "id": "bb107ad7",
        "outputId": "7bf2dc35-710f-42ec-e7de-25f8687846a4"
      },
      "source": [
        "df.head()"
      ],
      "id": "bb107ad7",
      "execution_count": null,
      "outputs": [
        {
          "data": {
            "text/html": [
              "<div>\n",
              "<style scoped>\n",
              "    .dataframe tbody tr th:only-of-type {\n",
              "        vertical-align: middle;\n",
              "    }\n",
              "\n",
              "    .dataframe tbody tr th {\n",
              "        vertical-align: top;\n",
              "    }\n",
              "\n",
              "    .dataframe thead th {\n",
              "        text-align: right;\n",
              "    }\n",
              "</style>\n",
              "<table border=\"1\" class=\"dataframe\">\n",
              "  <thead>\n",
              "    <tr style=\"text-align: right;\">\n",
              "      <th></th>\n",
              "      <th>Hour</th>\n",
              "      <th>Total_Ed_Patients</th>\n",
              "      <th>Minute</th>\n",
              "      <th>day</th>\n",
              "      <th>month</th>\n",
              "      <th>year</th>\n",
              "      <th>Date</th>\n",
              "    </tr>\n",
              "  </thead>\n",
              "  <tbody>\n",
              "    <tr>\n",
              "      <th>0</th>\n",
              "      <td>15</td>\n",
              "      <td>44</td>\n",
              "      <td>0</td>\n",
              "      <td>8</td>\n",
              "      <td>6</td>\n",
              "      <td>2018</td>\n",
              "      <td>2018-06-08 15:00:00</td>\n",
              "    </tr>\n",
              "    <tr>\n",
              "      <th>1</th>\n",
              "      <td>16</td>\n",
              "      <td>50</td>\n",
              "      <td>0</td>\n",
              "      <td>8</td>\n",
              "      <td>6</td>\n",
              "      <td>2018</td>\n",
              "      <td>2018-06-08 16:00:00</td>\n",
              "    </tr>\n",
              "    <tr>\n",
              "      <th>2</th>\n",
              "      <td>17</td>\n",
              "      <td>54</td>\n",
              "      <td>0</td>\n",
              "      <td>8</td>\n",
              "      <td>6</td>\n",
              "      <td>2018</td>\n",
              "      <td>2018-06-08 17:00:00</td>\n",
              "    </tr>\n",
              "    <tr>\n",
              "      <th>3</th>\n",
              "      <td>18</td>\n",
              "      <td>58</td>\n",
              "      <td>0</td>\n",
              "      <td>8</td>\n",
              "      <td>6</td>\n",
              "      <td>2018</td>\n",
              "      <td>2018-06-08 18:00:00</td>\n",
              "    </tr>\n",
              "    <tr>\n",
              "      <th>4</th>\n",
              "      <td>19</td>\n",
              "      <td>64</td>\n",
              "      <td>0</td>\n",
              "      <td>8</td>\n",
              "      <td>6</td>\n",
              "      <td>2018</td>\n",
              "      <td>2018-06-08 19:00:00</td>\n",
              "    </tr>\n",
              "  </tbody>\n",
              "</table>\n",
              "</div>"
            ],
            "text/plain": [
              "   Hour  Total_Ed_Patients  Minute  day  month  year                Date\n",
              "0    15                 44       0    8      6  2018 2018-06-08 15:00:00\n",
              "1    16                 50       0    8      6  2018 2018-06-08 16:00:00\n",
              "2    17                 54       0    8      6  2018 2018-06-08 17:00:00\n",
              "3    18                 58       0    8      6  2018 2018-06-08 18:00:00\n",
              "4    19                 64       0    8      6  2018 2018-06-08 19:00:00"
            ]
          },
          "execution_count": 122,
          "metadata": {},
          "output_type": "execute_result"
        }
      ]
    },
    {
      "cell_type": "code",
      "metadata": {
        "id": "b0dbc60f",
        "outputId": "b6b740f1-d713-40e4-ebaa-d44a2b6cb0b0"
      },
      "source": [
        "df= df.set_index('Date')\n",
        "df.head()"
      ],
      "id": "b0dbc60f",
      "execution_count": null,
      "outputs": [
        {
          "data": {
            "text/html": [
              "<div>\n",
              "<style scoped>\n",
              "    .dataframe tbody tr th:only-of-type {\n",
              "        vertical-align: middle;\n",
              "    }\n",
              "\n",
              "    .dataframe tbody tr th {\n",
              "        vertical-align: top;\n",
              "    }\n",
              "\n",
              "    .dataframe thead th {\n",
              "        text-align: right;\n",
              "    }\n",
              "</style>\n",
              "<table border=\"1\" class=\"dataframe\">\n",
              "  <thead>\n",
              "    <tr style=\"text-align: right;\">\n",
              "      <th></th>\n",
              "      <th>Hour</th>\n",
              "      <th>Total_Ed_Patients</th>\n",
              "      <th>Minute</th>\n",
              "      <th>day</th>\n",
              "      <th>month</th>\n",
              "      <th>year</th>\n",
              "    </tr>\n",
              "    <tr>\n",
              "      <th>Date</th>\n",
              "      <th></th>\n",
              "      <th></th>\n",
              "      <th></th>\n",
              "      <th></th>\n",
              "      <th></th>\n",
              "      <th></th>\n",
              "    </tr>\n",
              "  </thead>\n",
              "  <tbody>\n",
              "    <tr>\n",
              "      <th>2018-06-08 15:00:00</th>\n",
              "      <td>15</td>\n",
              "      <td>44</td>\n",
              "      <td>0</td>\n",
              "      <td>8</td>\n",
              "      <td>6</td>\n",
              "      <td>2018</td>\n",
              "    </tr>\n",
              "    <tr>\n",
              "      <th>2018-06-08 16:00:00</th>\n",
              "      <td>16</td>\n",
              "      <td>50</td>\n",
              "      <td>0</td>\n",
              "      <td>8</td>\n",
              "      <td>6</td>\n",
              "      <td>2018</td>\n",
              "    </tr>\n",
              "    <tr>\n",
              "      <th>2018-06-08 17:00:00</th>\n",
              "      <td>17</td>\n",
              "      <td>54</td>\n",
              "      <td>0</td>\n",
              "      <td>8</td>\n",
              "      <td>6</td>\n",
              "      <td>2018</td>\n",
              "    </tr>\n",
              "    <tr>\n",
              "      <th>2018-06-08 18:00:00</th>\n",
              "      <td>18</td>\n",
              "      <td>58</td>\n",
              "      <td>0</td>\n",
              "      <td>8</td>\n",
              "      <td>6</td>\n",
              "      <td>2018</td>\n",
              "    </tr>\n",
              "    <tr>\n",
              "      <th>2018-06-08 19:00:00</th>\n",
              "      <td>19</td>\n",
              "      <td>64</td>\n",
              "      <td>0</td>\n",
              "      <td>8</td>\n",
              "      <td>6</td>\n",
              "      <td>2018</td>\n",
              "    </tr>\n",
              "  </tbody>\n",
              "</table>\n",
              "</div>"
            ],
            "text/plain": [
              "                     Hour  Total_Ed_Patients  Minute  day  month  year\n",
              "Date                                                                  \n",
              "2018-06-08 15:00:00    15                 44       0    8      6  2018\n",
              "2018-06-08 16:00:00    16                 50       0    8      6  2018\n",
              "2018-06-08 17:00:00    17                 54       0    8      6  2018\n",
              "2018-06-08 18:00:00    18                 58       0    8      6  2018\n",
              "2018-06-08 19:00:00    19                 64       0    8      6  2018"
            ]
          },
          "execution_count": 123,
          "metadata": {},
          "output_type": "execute_result"
        }
      ]
    },
    {
      "cell_type": "code",
      "metadata": {
        "id": "3f53dc4c"
      },
      "source": [
        "df=df.asfreq('H')"
      ],
      "id": "3f53dc4c",
      "execution_count": null,
      "outputs": []
    },
    {
      "cell_type": "code",
      "metadata": {
        "id": "03329759",
        "outputId": "bc20aa5f-6d7a-4761-e0ad-6b5ef401ffbf"
      },
      "source": [
        "df['Total_Ed_Patients'].plot(figsize=(12,4))"
      ],
      "id": "03329759",
      "execution_count": null,
      "outputs": [
        {
          "data": {
            "text/plain": [
              "<AxesSubplot:xlabel='Date'>"
            ]
          },
          "execution_count": 125,
          "metadata": {},
          "output_type": "execute_result"
        },
        {
          "data": {
            "image/png": "[encoded data removed]",
            "text/plain": [
              "<Figure size 864x288 with 1 Axes>"
            ]
          },
          "metadata": {
            "needs_background": "light"
          },
          "output_type": "display_data"
        }
      ]
    },
    {
      "cell_type": "code",
      "metadata": {
        "id": "cfc54c58"
      },
      "source": [
        "df=df.head(201)"
      ],
      "id": "cfc54c58",
      "execution_count": null,
      "outputs": []
    },
    {
      "cell_type": "code",
      "metadata": {
        "id": "65e6ff59"
      },
      "source": [
        "from statsmodels.tsa.seasonal import seasonal_decompose"
      ],
      "id": "65e6ff59",
      "execution_count": null,
      "outputs": []
    },
    {
      "cell_type": "code",
      "metadata": {
        "id": "e7990f3a",
        "outputId": "3f38ba09-7b37-4873-a809-5432324be43d"
      },
      "source": [
        "results = seasonal_decompose(df['Total_Ed_Patients'])\n",
        "results.observed.plot(figsize=(12,2))"
      ],
      "id": "e7990f3a",
      "execution_count": null,
      "outputs": [
        {
          "data": {
            "text/plain": [
              "<AxesSubplot:xlabel='Date'>"
            ]
          },
          "execution_count": 128,
          "metadata": {},
          "output_type": "execute_result"
        },
        {
          "data": {
            "image/png": "[encoded data removed]",
            "text/plain": [
              "<Figure size 864x144 with 1 Axes>"
            ]
          },
          "metadata": {
            "needs_background": "light"
          },
          "output_type": "display_data"
        }
      ]
    },
    {
      "cell_type": "code",
      "metadata": {
        "id": "a89a149f",
        "outputId": "260532a2-1c7f-434d-8129-6c69ed566c2a"
      },
      "source": [
        "results.trend.plot(figsize=(12,2))"
      ],
      "id": "a89a149f",
      "execution_count": null,
      "outputs": [
        {
          "data": {
            "text/plain": [
              "<AxesSubplot:xlabel='Date'>"
            ]
          },
          "execution_count": 129,
          "metadata": {},
          "output_type": "execute_result"
        },
        {
          "data": {
            "image/png": "[encoded data removed]",
            "text/plain": [
              "<Figure size 864x144 with 1 Axes>"
            ]
          },
          "metadata": {
            "needs_background": "light"
          },
          "output_type": "display_data"
        }
      ]
    },
    {
      "cell_type": "code",
      "metadata": {
        "id": "ef4e5090",
        "outputId": "7b8b5397-c247-4007-ac3c-a3037cce1841"
      },
      "source": [
        "results.seasonal.plot(figsize=(12,2))"
      ],
      "id": "ef4e5090",
      "execution_count": null,
      "outputs": [
        {
          "data": {
            "text/plain": [
              "<AxesSubplot:xlabel='Date'>"
            ]
          },
          "execution_count": 130,
          "metadata": {},
          "output_type": "execute_result"
        },
        {
          "data": {
            "image/png": "[encoded data removed]",
            "text/plain": [
              "<Figure size 864x144 with 1 Axes>"
            ]
          },
          "metadata": {
            "needs_background": "light"
          },
          "output_type": "display_data"
        }
      ]
    },
    {
      "cell_type": "code",
      "metadata": {
        "id": "fc46576b",
        "outputId": "e0be55bf-68b6-472a-dce7-48238659603b"
      },
      "source": [
        "results.resid.plot(figsize=(12,2))"
      ],
      "id": "fc46576b",
      "execution_count": null,
      "outputs": [
        {
          "data": {
            "text/plain": [
              "<AxesSubplot:xlabel='Date'>"
            ]
          },
          "execution_count": 131,
          "metadata": {},
          "output_type": "execute_result"
        },
        {
          "data": {
            "image/png": "[encoded data removed]",
            "text/plain": [
              "<Figure size 864x144 with 1 Axes>"
            ]
          },
          "metadata": {
            "needs_background": "light"
          },
          "output_type": "display_data"
        }
      ]
    },
    {
      "cell_type": "code",
      "metadata": {
        "id": "5be1c999",
        "outputId": "3c657a72-3ba2-4e27-ac2f-f3ad98a1da18"
      },
      "source": [
        "#train test split \n",
        "len(df)"
      ],
      "id": "5be1c999",
      "execution_count": null,
      "outputs": [
        {
          "data": {
            "text/plain": [
              "201"
            ]
          },
          "execution_count": 132,
          "metadata": {},
          "output_type": "execute_result"
        }
      ]
    },
    {
      "cell_type": "code",
      "metadata": {
        "id": "cfd5577b",
        "outputId": "c8190ac6-15a0-43f7-a2b6-6b172b165246"
      },
      "source": [
        "df.tail(24)"
      ],
      "id": "cfd5577b",
      "execution_count": null,
      "outputs": [
        {
          "data": {
            "text/html": [
              "<div>\n",
              "<style scoped>\n",
              "    .dataframe tbody tr th:only-of-type {\n",
              "        vertical-align: middle;\n",
              "    }\n",
              "\n",
              "    .dataframe tbody tr th {\n",
              "        vertical-align: top;\n",
              "    }\n",
              "\n",
              "    .dataframe thead th {\n",
              "        text-align: right;\n",
              "    }\n",
              "</style>\n",
              "<table border=\"1\" class=\"dataframe\">\n",
              "  <thead>\n",
              "    <tr style=\"text-align: right;\">\n",
              "      <th></th>\n",
              "      <th>Hour</th>\n",
              "      <th>Total_Ed_Patients</th>\n",
              "      <th>Minute</th>\n",
              "      <th>day</th>\n",
              "      <th>month</th>\n",
              "      <th>year</th>\n",
              "    </tr>\n",
              "    <tr>\n",
              "      <th>Date</th>\n",
              "      <th></th>\n",
              "      <th></th>\n",
              "      <th></th>\n",
              "      <th></th>\n",
              "      <th></th>\n",
              "      <th></th>\n",
              "    </tr>\n",
              "  </thead>\n",
              "  <tbody>\n",
              "    <tr>\n",
              "      <th>2018-06-16 00:00:00</th>\n",
              "      <td>0.0</td>\n",
              "      <td>26.0</td>\n",
              "      <td>0.0</td>\n",
              "      <td>16.0</td>\n",
              "      <td>6.0</td>\n",
              "      <td>2018.0</td>\n",
              "    </tr>\n",
              "    <tr>\n",
              "      <th>2018-06-16 01:00:00</th>\n",
              "      <td>1.0</td>\n",
              "      <td>20.0</td>\n",
              "      <td>0.0</td>\n",
              "      <td>16.0</td>\n",
              "      <td>6.0</td>\n",
              "      <td>2018.0</td>\n",
              "    </tr>\n",
              "    <tr>\n",
              "      <th>2018-06-16 02:00:00</th>\n",
              "      <td>2.0</td>\n",
              "      <td>16.0</td>\n",
              "      <td>0.0</td>\n",
              "      <td>16.0</td>\n",
              "      <td>6.0</td>\n",
              "      <td>2018.0</td>\n",
              "    </tr>\n",
              "    <tr>\n",
              "      <th>2018-06-16 03:00:00</th>\n",
              "      <td>3.0</td>\n",
              "      <td>17.0</td>\n",
              "      <td>0.0</td>\n",
              "      <td>16.0</td>\n",
              "      <td>6.0</td>\n",
              "      <td>2018.0</td>\n",
              "    </tr>\n",
              "    <tr>\n",
              "      <th>2018-06-16 04:00:00</th>\n",
              "      <td>4.0</td>\n",
              "      <td>13.0</td>\n",
              "      <td>0.0</td>\n",
              "      <td>16.0</td>\n",
              "      <td>6.0</td>\n",
              "      <td>2018.0</td>\n",
              "    </tr>\n",
              "    <tr>\n",
              "      <th>2018-06-16 05:00:00</th>\n",
              "      <td>5.0</td>\n",
              "      <td>13.0</td>\n",
              "      <td>0.0</td>\n",
              "      <td>16.0</td>\n",
              "      <td>6.0</td>\n",
              "      <td>2018.0</td>\n",
              "    </tr>\n",
              "    <tr>\n",
              "      <th>2018-06-16 06:00:00</th>\n",
              "      <td>6.0</td>\n",
              "      <td>17.0</td>\n",
              "      <td>0.0</td>\n",
              "      <td>16.0</td>\n",
              "      <td>6.0</td>\n",
              "      <td>2018.0</td>\n",
              "    </tr>\n",
              "    <tr>\n",
              "      <th>2018-06-16 07:00:00</th>\n",
              "      <td>7.0</td>\n",
              "      <td>20.0</td>\n",
              "      <td>0.0</td>\n",
              "      <td>16.0</td>\n",
              "      <td>6.0</td>\n",
              "      <td>2018.0</td>\n",
              "    </tr>\n",
              "    <tr>\n",
              "      <th>2018-06-16 08:00:00</th>\n",
              "      <td>8.0</td>\n",
              "      <td>19.0</td>\n",
              "      <td>0.0</td>\n",
              "      <td>16.0</td>\n",
              "      <td>6.0</td>\n",
              "      <td>2018.0</td>\n",
              "    </tr>\n",
              "    <tr>\n",
              "      <th>2018-06-16 09:00:00</th>\n",
              "      <td>9.0</td>\n",
              "      <td>19.0</td>\n",
              "      <td>0.0</td>\n",
              "      <td>16.0</td>\n",
              "      <td>6.0</td>\n",
              "      <td>2018.0</td>\n",
              "    </tr>\n",
              "    <tr>\n",
              "      <th>2018-06-16 10:00:00</th>\n",
              "      <td>10.0</td>\n",
              "      <td>25.0</td>\n",
              "      <td>0.0</td>\n",
              "      <td>16.0</td>\n",
              "      <td>6.0</td>\n",
              "      <td>2018.0</td>\n",
              "    </tr>\n",
              "    <tr>\n",
              "      <th>2018-06-16 11:00:00</th>\n",
              "      <td>11.0</td>\n",
              "      <td>26.0</td>\n",
              "      <td>0.0</td>\n",
              "      <td>16.0</td>\n",
              "      <td>6.0</td>\n",
              "      <td>2018.0</td>\n",
              "    </tr>\n",
              "    <tr>\n",
              "      <th>2018-06-16 12:00:00</th>\n",
              "      <td>12.0</td>\n",
              "      <td>33.0</td>\n",
              "      <td>0.0</td>\n",
              "      <td>16.0</td>\n",
              "      <td>6.0</td>\n",
              "      <td>2018.0</td>\n",
              "    </tr>\n",
              "    <tr>\n",
              "      <th>2018-06-16 13:00:00</th>\n",
              "      <td>13.0</td>\n",
              "      <td>42.0</td>\n",
              "      <td>0.0</td>\n",
              "      <td>16.0</td>\n",
              "      <td>6.0</td>\n",
              "      <td>2018.0</td>\n",
              "    </tr>\n",
              "    <tr>\n",
              "      <th>2018-06-16 14:00:00</th>\n",
              "      <td>14.0</td>\n",
              "      <td>45.0</td>\n",
              "      <td>0.0</td>\n",
              "      <td>16.0</td>\n",
              "      <td>6.0</td>\n",
              "      <td>2018.0</td>\n",
              "    </tr>\n",
              "    <tr>\n",
              "      <th>2018-06-16 15:00:00</th>\n",
              "      <td>15.0</td>\n",
              "      <td>54.0</td>\n",
              "      <td>0.0</td>\n",
              "      <td>16.0</td>\n",
              "      <td>6.0</td>\n",
              "      <td>2018.0</td>\n",
              "    </tr>\n",
              "    <tr>\n",
              "      <th>2018-06-16 16:00:00</th>\n",
              "      <td>16.0</td>\n",
              "      <td>53.0</td>\n",
              "      <td>0.0</td>\n",
              "      <td>16.0</td>\n",
              "      <td>6.0</td>\n",
              "      <td>2018.0</td>\n",
              "    </tr>\n",
              "    <tr>\n",
              "      <th>2018-06-16 17:00:00</th>\n",
              "      <td>17.0</td>\n",
              "      <td>47.0</td>\n",
              "      <td>0.0</td>\n",
              "      <td>16.0</td>\n",
              "      <td>6.0</td>\n",
              "      <td>2018.0</td>\n",
              "    </tr>\n",
              "    <tr>\n",
              "      <th>2018-06-16 18:00:00</th>\n",
              "      <td>18.0</td>\n",
              "      <td>47.0</td>\n",
              "      <td>0.0</td>\n",
              "      <td>16.0</td>\n",
              "      <td>6.0</td>\n",
              "      <td>2018.0</td>\n",
              "    </tr>\n",
              "    <tr>\n",
              "      <th>2018-06-16 19:00:00</th>\n",
              "      <td>19.0</td>\n",
              "      <td>44.0</td>\n",
              "      <td>0.0</td>\n",
              "      <td>16.0</td>\n",
              "      <td>6.0</td>\n",
              "      <td>2018.0</td>\n",
              "    </tr>\n",
              "    <tr>\n",
              "      <th>2018-06-16 20:00:00</th>\n",
              "      <td>20.0</td>\n",
              "      <td>39.0</td>\n",
              "      <td>0.0</td>\n",
              "      <td>16.0</td>\n",
              "      <td>6.0</td>\n",
              "      <td>2018.0</td>\n",
              "    </tr>\n",
              "    <tr>\n",
              "      <th>2018-06-16 21:00:00</th>\n",
              "      <td>21.0</td>\n",
              "      <td>41.0</td>\n",
              "      <td>0.0</td>\n",
              "      <td>16.0</td>\n",
              "      <td>6.0</td>\n",
              "      <td>2018.0</td>\n",
              "    </tr>\n",
              "    <tr>\n",
              "      <th>2018-06-16 22:00:00</th>\n",
              "      <td>22.0</td>\n",
              "      <td>33.0</td>\n",
              "      <td>0.0</td>\n",
              "      <td>16.0</td>\n",
              "      <td>6.0</td>\n",
              "      <td>2018.0</td>\n",
              "    </tr>\n",
              "    <tr>\n",
              "      <th>2018-06-16 23:00:00</th>\n",
              "      <td>23.0</td>\n",
              "      <td>27.0</td>\n",
              "      <td>0.0</td>\n",
              "      <td>16.0</td>\n",
              "      <td>6.0</td>\n",
              "      <td>2018.0</td>\n",
              "    </tr>\n",
              "  </tbody>\n",
              "</table>\n",
              "</div>"
            ],
            "text/plain": [
              "                     Hour  Total_Ed_Patients  Minute   day  month    year\n",
              "Date                                                                     \n",
              "2018-06-16 00:00:00   0.0               26.0     0.0  16.0    6.0  2018.0\n",
              "2018-06-16 01:00:00   1.0               20.0     0.0  16.0    6.0  2018.0\n",
              "2018-06-16 02:00:00   2.0               16.0     0.0  16.0    6.0  2018.0\n",
              "2018-06-16 03:00:00   3.0               17.0     0.0  16.0    6.0  2018.0\n",
              "2018-06-16 04:00:00   4.0               13.0     0.0  16.0    6.0  2018.0\n",
              "2018-06-16 05:00:00   5.0               13.0     0.0  16.0    6.0  2018.0\n",
              "2018-06-16 06:00:00   6.0               17.0     0.0  16.0    6.0  2018.0\n",
              "2018-06-16 07:00:00   7.0               20.0     0.0  16.0    6.0  2018.0\n",
              "2018-06-16 08:00:00   8.0               19.0     0.0  16.0    6.0  2018.0\n",
              "2018-06-16 09:00:00   9.0               19.0     0.0  16.0    6.0  2018.0\n",
              "2018-06-16 10:00:00  10.0               25.0     0.0  16.0    6.0  2018.0\n",
              "2018-06-16 11:00:00  11.0               26.0     0.0  16.0    6.0  2018.0\n",
              "2018-06-16 12:00:00  12.0               33.0     0.0  16.0    6.0  2018.0\n",
              "2018-06-16 13:00:00  13.0               42.0     0.0  16.0    6.0  2018.0\n",
              "2018-06-16 14:00:00  14.0               45.0     0.0  16.0    6.0  2018.0\n",
              "2018-06-16 15:00:00  15.0               54.0     0.0  16.0    6.0  2018.0\n",
              "2018-06-16 16:00:00  16.0               53.0     0.0  16.0    6.0  2018.0\n",
              "2018-06-16 17:00:00  17.0               47.0     0.0  16.0    6.0  2018.0\n",
              "2018-06-16 18:00:00  18.0               47.0     0.0  16.0    6.0  2018.0\n",
              "2018-06-16 19:00:00  19.0               44.0     0.0  16.0    6.0  2018.0\n",
              "2018-06-16 20:00:00  20.0               39.0     0.0  16.0    6.0  2018.0\n",
              "2018-06-16 21:00:00  21.0               41.0     0.0  16.0    6.0  2018.0\n",
              "2018-06-16 22:00:00  22.0               33.0     0.0  16.0    6.0  2018.0\n",
              "2018-06-16 23:00:00  23.0               27.0     0.0  16.0    6.0  2018.0"
            ]
          },
          "execution_count": 133,
          "metadata": {},
          "output_type": "execute_result"
        }
      ]
    },
    {
      "cell_type": "code",
      "metadata": {
        "id": "46563b17",
        "outputId": "12e86945-ebe0-477c-c782-b476ba01c222"
      },
      "source": [
        "df1=df[['Total_Ed_Patients']]\n",
        "df1.head()"
      ],
      "id": "46563b17",
      "execution_count": null,
      "outputs": [
        {
          "data": {
            "text/html": [
              "<div>\n",
              "<style scoped>\n",
              "    .dataframe tbody tr th:only-of-type {\n",
              "        vertical-align: middle;\n",
              "    }\n",
              "\n",
              "    .dataframe tbody tr th {\n",
              "        vertical-align: top;\n",
              "    }\n",
              "\n",
              "    .dataframe thead th {\n",
              "        text-align: right;\n",
              "    }\n",
              "</style>\n",
              "<table border=\"1\" class=\"dataframe\">\n",
              "  <thead>\n",
              "    <tr style=\"text-align: right;\">\n",
              "      <th></th>\n",
              "      <th>Total_Ed_Patients</th>\n",
              "    </tr>\n",
              "    <tr>\n",
              "      <th>Date</th>\n",
              "      <th></th>\n",
              "    </tr>\n",
              "  </thead>\n",
              "  <tbody>\n",
              "    <tr>\n",
              "      <th>2018-06-08 15:00:00</th>\n",
              "      <td>44.0</td>\n",
              "    </tr>\n",
              "    <tr>\n",
              "      <th>2018-06-08 16:00:00</th>\n",
              "      <td>50.0</td>\n",
              "    </tr>\n",
              "    <tr>\n",
              "      <th>2018-06-08 17:00:00</th>\n",
              "      <td>54.0</td>\n",
              "    </tr>\n",
              "    <tr>\n",
              "      <th>2018-06-08 18:00:00</th>\n",
              "      <td>58.0</td>\n",
              "    </tr>\n",
              "    <tr>\n",
              "      <th>2018-06-08 19:00:00</th>\n",
              "      <td>64.0</td>\n",
              "    </tr>\n",
              "  </tbody>\n",
              "</table>\n",
              "</div>"
            ],
            "text/plain": [
              "                     Total_Ed_Patients\n",
              "Date                                  \n",
              "2018-06-08 15:00:00               44.0\n",
              "2018-06-08 16:00:00               50.0\n",
              "2018-06-08 17:00:00               54.0\n",
              "2018-06-08 18:00:00               58.0\n",
              "2018-06-08 19:00:00               64.0"
            ]
          },
          "execution_count": 195,
          "metadata": {},
          "output_type": "execute_result"
        }
      ]
    },
    {
      "cell_type": "code",
      "metadata": {
        "id": "95991356"
      },
      "source": [
        "train = df1.iloc[:177]\n",
        "test = df1.iloc[177:]"
      ],
      "id": "95991356",
      "execution_count": null,
      "outputs": []
    },
    {
      "cell_type": "code",
      "metadata": {
        "id": "886bf632",
        "outputId": "49581928-d774-4e7b-d6a2-79ddf0d10a01"
      },
      "source": [
        "train"
      ],
      "id": "886bf632",
      "execution_count": null,
      "outputs": [
        {
          "data": {
            "text/html": [
              "<div>\n",
              "<style scoped>\n",
              "    .dataframe tbody tr th:only-of-type {\n",
              "        vertical-align: middle;\n",
              "    }\n",
              "\n",
              "    .dataframe tbody tr th {\n",
              "        vertical-align: top;\n",
              "    }\n",
              "\n",
              "    .dataframe thead th {\n",
              "        text-align: right;\n",
              "    }\n",
              "</style>\n",
              "<table border=\"1\" class=\"dataframe\">\n",
              "  <thead>\n",
              "    <tr style=\"text-align: right;\">\n",
              "      <th></th>\n",
              "      <th>Total_Ed_Patients</th>\n",
              "    </tr>\n",
              "    <tr>\n",
              "      <th>Date</th>\n",
              "      <th></th>\n",
              "    </tr>\n",
              "  </thead>\n",
              "  <tbody>\n",
              "    <tr>\n",
              "      <th>2018-06-08 15:00:00</th>\n",
              "      <td>44.0</td>\n",
              "    </tr>\n",
              "    <tr>\n",
              "      <th>2018-06-08 16:00:00</th>\n",
              "      <td>50.0</td>\n",
              "    </tr>\n",
              "    <tr>\n",
              "      <th>2018-06-08 17:00:00</th>\n",
              "      <td>54.0</td>\n",
              "    </tr>\n",
              "    <tr>\n",
              "      <th>2018-06-08 18:00:00</th>\n",
              "      <td>58.0</td>\n",
              "    </tr>\n",
              "    <tr>\n",
              "      <th>2018-06-08 19:00:00</th>\n",
              "      <td>64.0</td>\n",
              "    </tr>\n",
              "    <tr>\n",
              "      <th>...</th>\n",
              "      <td>...</td>\n",
              "    </tr>\n",
              "    <tr>\n",
              "      <th>2018-06-15 19:00:00</th>\n",
              "      <td>37.0</td>\n",
              "    </tr>\n",
              "    <tr>\n",
              "      <th>2018-06-15 20:00:00</th>\n",
              "      <td>32.0</td>\n",
              "    </tr>\n",
              "    <tr>\n",
              "      <th>2018-06-15 21:00:00</th>\n",
              "      <td>25.0</td>\n",
              "    </tr>\n",
              "    <tr>\n",
              "      <th>2018-06-15 22:00:00</th>\n",
              "      <td>23.0</td>\n",
              "    </tr>\n",
              "    <tr>\n",
              "      <th>2018-06-15 23:00:00</th>\n",
              "      <td>30.0</td>\n",
              "    </tr>\n",
              "  </tbody>\n",
              "</table>\n",
              "<p>177 rows × 1 columns</p>\n",
              "</div>"
            ],
            "text/plain": [
              "                     Total_Ed_Patients\n",
              "Date                                  \n",
              "2018-06-08 15:00:00               44.0\n",
              "2018-06-08 16:00:00               50.0\n",
              "2018-06-08 17:00:00               54.0\n",
              "2018-06-08 18:00:00               58.0\n",
              "2018-06-08 19:00:00               64.0\n",
              "...                                ...\n",
              "2018-06-15 19:00:00               37.0\n",
              "2018-06-15 20:00:00               32.0\n",
              "2018-06-15 21:00:00               25.0\n",
              "2018-06-15 22:00:00               23.0\n",
              "2018-06-15 23:00:00               30.0\n",
              "\n",
              "[177 rows x 1 columns]"
            ]
          },
          "execution_count": 197,
          "metadata": {},
          "output_type": "execute_result"
        }
      ]
    },
    {
      "cell_type": "code",
      "metadata": {
        "id": "ccc6a9c4",
        "outputId": "f220c84e-d0e8-402f-9dc2-4bc461e9b2fe"
      },
      "source": [
        "len(test)"
      ],
      "id": "ccc6a9c4",
      "execution_count": null,
      "outputs": [
        {
          "data": {
            "text/plain": [
              "24"
            ]
          },
          "execution_count": 198,
          "metadata": {},
          "output_type": "execute_result"
        }
      ]
    },
    {
      "cell_type": "code",
      "metadata": {
        "id": "7ce440dc"
      },
      "source": [
        "#scaled the data \n",
        "from sklearn.preprocessing import MinMaxScaler"
      ],
      "id": "7ce440dc",
      "execution_count": null,
      "outputs": []
    },
    {
      "cell_type": "code",
      "metadata": {
        "id": "aee896e3",
        "outputId": "04f2057e-b66e-4cdd-f0b1-78b885417d27"
      },
      "source": [
        "scaler = MinMaxScaler()\n",
        "scaler.fit(train)"
      ],
      "id": "aee896e3",
      "execution_count": null,
      "outputs": [
        {
          "data": {
            "text/plain": [
              "MinMaxScaler()"
            ]
          },
          "execution_count": 200,
          "metadata": {},
          "output_type": "execute_result"
        }
      ]
    },
    {
      "cell_type": "code",
      "metadata": {
        "id": "c2fee18b"
      },
      "source": [
        "scaled_train = scaler.transform(train)\n",
        "scaled_test = scaler.transform(test)"
      ],
      "id": "c2fee18b",
      "execution_count": null,
      "outputs": []
    },
    {
      "cell_type": "code",
      "metadata": {
        "id": "487d12bd"
      },
      "source": [
        "#TIME SERIE GENERATOR \n",
        "from keras.preprocessing.sequence import TimeseriesGenerator"
      ],
      "id": "487d12bd",
      "execution_count": null,
      "outputs": []
    },
    {
      "cell_type": "code",
      "metadata": {
        "id": "bedaccff"
      },
      "source": [
        "# Let's define the train generator  to get 24 hours back and then predict the next 4 hours out\n",
        "n_input = 24\n",
        "generator = TimeseriesGenerator(scaled_train, scaled_train, length=n_input, batch_size=1)"
      ],
      "id": "bedaccff",
      "execution_count": null,
      "outputs": []
    },
    {
      "cell_type": "code",
      "metadata": {
        "id": "5f23e591",
        "outputId": "502c7fa6-19f3-4e57-efa5-817a2a2f792e"
      },
      "source": [
        "X,y=generator[0]\n",
        "print(X,y)"
      ],
      "id": "5f23e591",
      "execution_count": null,
      "outputs": [
        {
          "name": "stdout",
          "output_type": "stream",
          "text": [
            "[[[0.6031746 ]\n",
            "  [0.6984127 ]\n",
            "  [0.76190476]\n",
            "  [0.82539683]\n",
            "  [0.92063492]\n",
            "  [0.66666667]\n",
            "  [0.68253968]\n",
            "  [0.52380952]\n",
            "  [0.50793651]\n",
            "  [0.3015873 ]\n",
            "  [0.26984127]\n",
            "  [0.22222222]\n",
            "  [0.11111111]\n",
            "  [0.07936508]\n",
            "  [0.0952381 ]\n",
            "  [0.04761905]\n",
            "  [0.03174603]\n",
            "  [0.03174603]\n",
            "  [0.14285714]\n",
            "  [0.3015873 ]\n",
            "  [0.3968254 ]\n",
            "  [0.52380952]\n",
            "  [0.55555556]\n",
            "  [0.61904762]]] [[0.65079365]]\n"
          ]
        }
      ]
    },
    {
      "cell_type": "code",
      "metadata": {
        "id": "763eae5a",
        "outputId": "90184471-d4e6-4dcb-c534-4069e9b750ff"
      },
      "source": [
        "scaled_train[:5]"
      ],
      "id": "763eae5a",
      "execution_count": null,
      "outputs": [
        {
          "data": {
            "text/plain": [
              "array([[0.6031746 ],\n",
              "       [0.6984127 ],\n",
              "       [0.76190476],\n",
              "       [0.82539683],\n",
              "       [0.92063492]])"
            ]
          },
          "execution_count": 205,
          "metadata": {},
          "output_type": "execute_result"
        }
      ]
    },
    {
      "cell_type": "code",
      "metadata": {
        "id": "a82dc3f0",
        "outputId": "c89898a6-dc33-472b-d61a-0fa2b6d04ad9"
      },
      "source": [
        "len(generator)"
      ],
      "id": "a82dc3f0",
      "execution_count": null,
      "outputs": [
        {
          "data": {
            "text/plain": [
              "153"
            ]
          },
          "execution_count": 178,
          "metadata": {},
          "output_type": "execute_result"
        }
      ]
    },
    {
      "cell_type": "code",
      "metadata": {
        "id": "22e14248",
        "outputId": "6d09dbf8-caf1-4629-961c-638346b95963"
      },
      "source": [
        "X.shape"
      ],
      "id": "22e14248",
      "execution_count": null,
      "outputs": [
        {
          "data": {
            "text/plain": [
              "(1, 24, 1)"
            ]
          },
          "execution_count": 210,
          "metadata": {},
          "output_type": "execute_result"
        }
      ]
    },
    {
      "cell_type": "code",
      "metadata": {
        "id": "883dbe31"
      },
      "source": [
        "#Create the model \n",
        "from keras.models import Sequential\n",
        "from keras.layers import Dense\n",
        "from keras.layers import LSTM"
      ],
      "id": "883dbe31",
      "execution_count": null,
      "outputs": []
    },
    {
      "cell_type": "code",
      "metadata": {
        "id": "ae49ff59"
      },
      "source": [
        " #define model\n",
        "n_features=1\n",
        "n_input=24\n",
        "model = Sequential()\n",
        "model.add(LSTM(100, activation='relu', input_shape=(n_input, n_features)))\n",
        "model.add(Dense(1))\n",
        "model.compile(optimizer='adam', loss='mse')## define model\n",
        "model = Sequential()\n",
        "model.add(LSTM(150, activation='relu', input_shape=(n_input, n_features)))\n",
        "model.add(Dense(1))\n",
        "model.compile(optimizer='adam', loss='mse')"
      ],
      "id": "ae49ff59",
      "execution_count": null,
      "outputs": []
    },
    {
      "cell_type": "code",
      "metadata": {
        "id": "15946612",
        "outputId": "89b06aef-3656-4ed6-d81e-71e6e228ff5d"
      },
      "source": [
        "model.summary()"
      ],
      "id": "15946612",
      "execution_count": null,
      "outputs": [
        {
          "name": "stdout",
          "output_type": "stream",
          "text": [
            "Model: \"sequential_16\"\n",
            "_________________________________________________________________\n",
            "Layer (type)                 Output Shape              Param #   \n",
            "=================================================================\n",
            "lstm_15 (LSTM)               (None, 150)               91200     \n",
            "_________________________________________________________________\n",
            "dense_15 (Dense)             (None, 1)                 151       \n",
            "=================================================================\n",
            "Total params: 91,351\n",
            "Trainable params: 91,351\n",
            "Non-trainable params: 0\n",
            "_________________________________________________________________\n"
          ]
        }
      ]
    },
    {
      "cell_type": "code",
      "metadata": {
        "id": "a55ab502",
        "outputId": "12873094-f833-4794-87f5-53c2d3042888"
      },
      "source": [
        "#fit the model \n",
        "model.fit_generator(generator,epochs=50)"
      ],
      "id": "a55ab502",
      "execution_count": null,
      "outputs": [
        {
          "name": "stdout",
          "output_type": "stream",
          "text": [
            "Epoch 1/50\n",
            "153/153 [==============================] - 1s 9ms/step - loss: 0.0057\n",
            "Epoch 2/50\n",
            "153/153 [==============================] - 1s 8ms/step - loss: 0.0057\n",
            "Epoch 3/50\n",
            "153/153 [==============================] - 1s 9ms/step - loss: 0.0053\n",
            "Epoch 4/50\n",
            "153/153 [==============================] - 1s 9ms/step - loss: 0.0052\n",
            "Epoch 5/50\n",
            "153/153 [==============================] - 1s 9ms/step - loss: 0.0050\n",
            "Epoch 6/50\n",
            "153/153 [==============================] - 1s 8ms/step - loss: 0.0054\n",
            "Epoch 7/50\n",
            "153/153 [==============================] - 1s 9ms/step - loss: 0.0053\n",
            "Epoch 8/50\n",
            "153/153 [==============================] - 1s 9ms/step - loss: 0.0052\n",
            "Epoch 9/50\n",
            "153/153 [==============================] - 1s 9ms/step - loss: 0.0049\n",
            "Epoch 10/50\n",
            "153/153 [==============================] - 1s 9ms/step - loss: 0.0053\n",
            "Epoch 11/50\n",
            "153/153 [==============================] - 1s 9ms/step - loss: 0.0051\n",
            "Epoch 12/50\n",
            "153/153 [==============================] - 1s 9ms/step - loss: 0.0048\n",
            "Epoch 13/50\n",
            "153/153 [==============================] - 1s 9ms/step - loss: 0.0051\n",
            "Epoch 14/50\n",
            "153/153 [==============================] - 1s 8ms/step - loss: 0.0044\n",
            "Epoch 15/50\n",
            "153/153 [==============================] - 1s 8ms/step - loss: 0.0042\n",
            "Epoch 16/50\n",
            "153/153 [==============================] - 1s 9ms/step - loss: 0.0050\n",
            "Epoch 17/50\n",
            "153/153 [==============================] - 1s 9ms/step - loss: 0.0046\n",
            "Epoch 18/50\n",
            "153/153 [==============================] - 1s 9ms/step - loss: 0.0043\n",
            "Epoch 19/50\n",
            "153/153 [==============================] - 1s 9ms/step - loss: 0.0046\n",
            "Epoch 20/50\n",
            "153/153 [==============================] - 1s 8ms/step - loss: 0.0046\n",
            "Epoch 21/50\n",
            "153/153 [==============================] - 1s 8ms/step - loss: 0.0044\n",
            "Epoch 22/50\n",
            "153/153 [==============================] - 2s 11ms/step - loss: 0.0044\n",
            "Epoch 23/50\n",
            "153/153 [==============================] - 1s 9ms/step - loss: 0.0039\n",
            "Epoch 24/50\n",
            "153/153 [==============================] - 1s 9ms/step - loss: 0.0048\n",
            "Epoch 25/50\n",
            "153/153 [==============================] - 1s 9ms/step - loss: 0.0040\n",
            "Epoch 26/50\n",
            "153/153 [==============================] - 1s 9ms/step - loss: 0.0043\n",
            "Epoch 27/50\n",
            "153/153 [==============================] - 1s 9ms/step - loss: 0.0043A: 0s - l\n",
            "Epoch 28/50\n",
            "153/153 [==============================] - 1s 9ms/step - loss: 0.0041\n",
            "Epoch 29/50\n",
            "153/153 [==============================] - 1s 9ms/step - loss: 0.0041\n",
            "Epoch 30/50\n",
            "153/153 [==============================] - 1s 9ms/step - loss: 0.0041\n",
            "Epoch 31/50\n",
            "153/153 [==============================] - 2s 10ms/step - loss: 0.0040\n",
            "Epoch 32/50\n",
            "153/153 [==============================] - 2s 10ms/step - loss: 0.0036\n",
            "Epoch 33/50\n",
            "153/153 [==============================] - 1s 9ms/step - loss: 0.0041\n",
            "Epoch 34/50\n",
            "153/153 [==============================] - 1s 9ms/step - loss: 0.0040\n",
            "Epoch 35/50\n",
            "153/153 [==============================] - 1s 10ms/step - loss: 0.0040\n",
            "Epoch 36/50\n",
            "153/153 [==============================] - 1s 9ms/step - loss: 0.0039\n",
            "Epoch 37/50\n",
            "153/153 [==============================] - 1s 9ms/step - loss: 0.0042\n",
            "Epoch 38/50\n",
            "153/153 [==============================] - 1s 9ms/step - loss: 0.0040\n",
            "Epoch 39/50\n",
            "153/153 [==============================] - 1s 9ms/step - loss: 0.0040\n",
            "Epoch 40/50\n",
            "153/153 [==============================] - 2s 10ms/step - loss: 0.0037\n",
            "Epoch 41/50\n",
            "153/153 [==============================] - 1s 9ms/step - loss: 0.0041\n",
            "Epoch 42/50\n",
            "153/153 [==============================] - 1s 10ms/step - loss: 0.0038\n",
            "Epoch 43/50\n",
            "153/153 [==============================] - 2s 12ms/step - loss: 0.0040\n",
            "Epoch 44/50\n",
            "153/153 [==============================] - 2s 13ms/step - loss: 0.0037\n",
            "Epoch 45/50\n",
            "153/153 [==============================] - 2s 11ms/step - loss: 0.0038\n",
            "Epoch 46/50\n",
            "153/153 [==============================] - 2s 11ms/step - loss: 0.0037\n",
            "Epoch 47/50\n",
            "153/153 [==============================] - 2s 11ms/step - loss: 0.0039\n",
            "Epoch 48/50\n",
            "153/153 [==============================] - 2s 10ms/step - loss: 0.0038\n",
            "Epoch 49/50\n",
            "153/153 [==============================] - 2s 10ms/step - loss: 0.0038\n",
            "Epoch 50/50\n",
            "153/153 [==============================] - 1s 9ms/step - loss: 0.0037\n"
          ]
        },
        {
          "data": {
            "text/plain": [
              "<keras.callbacks.History at 0x11642bd87c0>"
            ]
          },
          "execution_count": 217,
          "metadata": {},
          "output_type": "execute_result"
        }
      ]
    },
    {
      "cell_type": "code",
      "metadata": {
        "id": "5b5569f8",
        "outputId": "eb79fc1e-042d-4d92-ef05-971e97a3f593"
      },
      "source": [
        "import matplotlib.pyplot as plt\n",
        "loss_per_epoch = model.history.history['loss']\n",
        "plt.plot(range(len(loss_per_epoch)),loss_per_epoch)"
      ],
      "id": "5b5569f8",
      "execution_count": null,
      "outputs": [
        {
          "data": {
            "text/plain": [
              "[<matplotlib.lines.Line2D at 0x11642c08940>]"
            ]
          },
          "execution_count": 218,
          "metadata": {},
          "output_type": "execute_result"
        },
        {
          "data": {
            "image/png": "[encoded data removed]",
            "text/plain": [
              "<Figure size 432x288 with 1 Axes>"
            ]
          },
          "metadata": {
            "needs_background": "light"
          },
          "output_type": "display_data"
        }
      ]
    },
    {
      "cell_type": "code",
      "metadata": {
        "id": "4409df84"
      },
      "source": [
        "first_eval_batch = scaled_train[-24:] # last 24 hours"
      ],
      "id": "4409df84",
      "execution_count": null,
      "outputs": []
    },
    {
      "cell_type": "code",
      "metadata": {
        "id": "c022a878"
      },
      "source": [
        "first_eval_batch = first_eval_batch.reshape((1, n_input, n_features))"
      ],
      "id": "c022a878",
      "execution_count": null,
      "outputs": []
    },
    {
      "cell_type": "code",
      "metadata": {
        "id": "c560c31c",
        "outputId": "5271ce82-2609-4629-a43b-481cdd69376d"
      },
      "source": [
        "model.predict(first_eval_batch)"
      ],
      "id": "c560c31c",
      "execution_count": null,
      "outputs": [
        {
          "data": {
            "text/plain": [
              "array([[0.3640685]], dtype=float32)"
            ]
          },
          "execution_count": 221,
          "metadata": {},
          "output_type": "execute_result"
        }
      ]
    },
    {
      "cell_type": "code",
      "metadata": {
        "id": "27e47b4b",
        "outputId": "5c26bca3-cdfb-4a18-bbf6-3dc3ffe1e4be"
      },
      "source": [
        "scaled_test[0]"
      ],
      "id": "27e47b4b",
      "execution_count": null,
      "outputs": [
        {
          "data": {
            "text/plain": [
              "array([0.31746032])"
            ]
          },
          "execution_count": 222,
          "metadata": {},
          "output_type": "execute_result"
        }
      ]
    },
    {
      "cell_type": "code",
      "metadata": {
        "id": "40d398e2"
      },
      "source": [
        "#Now let's put this logic in a for loop to predict into the future for the entire test range.\n",
        "\n",
        "test_predictions = []\n",
        "\n",
        "first_eval_batch = scaled_train[-n_input:]\n",
        "current_batch = first_eval_batch.reshape((1, n_input, n_features))"
      ],
      "id": "40d398e2",
      "execution_count": null,
      "outputs": []
    },
    {
      "cell_type": "code",
      "metadata": {
        "id": "901179fe",
        "outputId": "31153d52-8e79-4a1a-d62d-ecced4981a4a"
      },
      "source": [
        "current_batch.shape"
      ],
      "id": "901179fe",
      "execution_count": null,
      "outputs": [
        {
          "data": {
            "text/plain": [
              "(1, 24, 1)"
            ]
          },
          "execution_count": 224,
          "metadata": {},
          "output_type": "execute_result"
        }
      ]
    },
    {
      "cell_type": "code",
      "metadata": {
        "id": "9fb0c55d",
        "outputId": "aa6144c6-102b-4cd1-f6fd-35a2c7096e04"
      },
      "source": [
        "np.append(current_batch[:,1:,:],[[[99]]],axis=1)"
      ],
      "id": "9fb0c55d",
      "execution_count": null,
      "outputs": [
        {
          "data": {
            "text/plain": [
              "array([[[ 0.31746032],\n",
              "        [ 0.3015873 ],\n",
              "        [ 0.20634921],\n",
              "        [ 0.12698413],\n",
              "        [ 0.11111111],\n",
              "        [ 0.11111111],\n",
              "        [ 0.17460317],\n",
              "        [ 0.17460317],\n",
              "        [ 0.14285714],\n",
              "        [ 0.23809524],\n",
              "        [ 0.3968254 ],\n",
              "        [ 0.50793651],\n",
              "        [ 0.57142857],\n",
              "        [ 0.61904762],\n",
              "        [ 0.66666667],\n",
              "        [ 0.61904762],\n",
              "        [ 0.52380952],\n",
              "        [ 0.53968254],\n",
              "        [ 0.49206349],\n",
              "        [ 0.41269841],\n",
              "        [ 0.3015873 ],\n",
              "        [ 0.26984127],\n",
              "        [ 0.38095238],\n",
              "        [99.        ]]])"
            ]
          },
          "execution_count": 225,
          "metadata": {},
          "output_type": "execute_result"
        }
      ]
    },
    {
      "cell_type": "code",
      "metadata": {
        "id": "94434070"
      },
      "source": [
        "test_predictions = []\n",
        "\n",
        "first_eval_batch = scaled_train[-n_input:]\n",
        "current_batch = first_eval_batch.reshape((1, n_input, n_features))\n",
        "\n",
        "for i in range(len(test)):\n",
        "    \n",
        "    # get prediction 1 time stamp ahead ([0] is for grabbing just the number instead of [array])\n",
        "    current_pred = model.predict(current_batch)[0]\n",
        "    \n",
        "    # store prediction\n",
        "    test_predictions.append(current_pred) \n",
        "    \n",
        "    # update batch to now include prediction and drop first value\n",
        "    current_batch = np.append(current_batch[:,1:,:],[[current_pred]],axis=1)"
      ],
      "id": "94434070",
      "execution_count": null,
      "outputs": []
    },
    {
      "cell_type": "code",
      "metadata": {
        "id": "63063d23",
        "outputId": "a60d2a75-7358-4510-ed14-0c4d7e4c25e1"
      },
      "source": [
        "#let s inverse the transformation and compare\n",
        "\n",
        "true_predictions = scaler.inverse_transform(test_predictions)\n",
        "test['Predictions'] = true_predictions\n",
        "test.plot(figsize=(12,8))"
      ],
      "id": "63063d23",
      "execution_count": null,
      "outputs": [
        {
          "data": {
            "text/plain": [
              "<AxesSubplot:xlabel='Date'>"
            ]
          },
          "execution_count": 227,
          "metadata": {},
          "output_type": "execute_result"
        },
        {
          "data": {
            "image/png": "[encoded data removed]",
            "text/plain": [
              "<Figure size 864x576 with 1 Axes>"
            ]
          },
          "metadata": {
            "needs_background": "light"
          },
          "output_type": "display_data"
        }
      ]
    },
    {
      "cell_type": "code",
      "metadata": {
        "id": "3e35ace8",
        "outputId": "01e7eed1-e698-42ae-afbc-ff3ad1e3c2be"
      },
      "source": [
        "from statsmodels.tools.eval_measures import rmse\n",
        "error=rmse(test['Total_Ed_Patients'],test['Predictions'])\n",
        "error"
      ],
      "id": "3e35ace8",
      "execution_count": null,
      "outputs": [
        {
          "data": {
            "text/plain": [
              "6.215257704938515"
            ]
          },
          "execution_count": 230,
          "metadata": {},
          "output_type": "execute_result"
        }
      ]
    },
    {
      "cell_type": "code",
      "metadata": {
        "id": "afd3c65b",
        "outputId": "059c4e3f-6a00-4d73-c176-a58486a46789"
      },
      "source": [
        "test['Total_Ed_Patients'].mean()"
      ],
      "id": "afd3c65b",
      "execution_count": null,
      "outputs": [
        {
          "data": {
            "text/plain": [
              "30.666666666666668"
            ]
          },
          "execution_count": 231,
          "metadata": {},
          "output_type": "execute_result"
        }
      ]
    },
    {
      "cell_type": "code",
      "metadata": {
        "id": "2df76351"
      },
      "source": [
        ""
      ],
      "id": "2df76351",
      "execution_count": null,
      "outputs": []
    }
  ]
}