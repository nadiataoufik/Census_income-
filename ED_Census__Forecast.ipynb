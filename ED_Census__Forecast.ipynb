{
  "nbformat": 4,
  "nbformat_minor": 5,
  "metadata": {
    "kernelspec": {
      "display_name": "Python 3",
      "language": "python",
      "name": "python3"
    },
    "language_info": {
      "codemirror_mode": {
        "name": "ipython",
        "version": 3
      },
      "file_extension": ".py",
      "mimetype": "text/x-python",
      "name": "python",
      "nbconvert_exporter": "python",
      "pygments_lexer": "ipython3",
      "version": "3.8.8"
    },
    "colab": {
      "name": "ED_Census _Forecast.ipynb",
      "provenance": [],
      "collapsed_sections": [],
      "include_colab_link": true
    }
  },
  "cells": [
    {
      "cell_type": "markdown",
      "metadata": {
        "id": "view-in-github",
        "colab_type": "text"
      },
      "source": [
        "<a href=\"https://colab.research.google.com/github/nadiataoufik/Census_income-/blob/master/ED_Census__Forecast.ipynb\" target=\"_parent\"><img src=\"https://colab.research.google.com/assets/colab-badge.svg\" alt=\"Open In Colab\"/></a>"
      ]
    },
    {
      "cell_type": "code",
      "metadata": {
        "id": "5be09cad"
      },
      "source": [
        "#time setries with pandas \n",
        "from datetime import datetime \n",
        "import pandas as pd\n"
      ],
      "id": "5be09cad",
      "execution_count": null,
      "outputs": []
    },
    {
      "cell_type": "code",
      "metadata": {
        "id": "e423a2eb"
      },
      "source": [
        "df=pd.read_excel(r\"C:\\Users\\Ntaoufi\\Documents\\ED_Cencus.xlsx\")\n",
        "df.head(30)"
      ],
      "id": "e423a2eb",
      "execution_count": null,
      "outputs": []
    },
    {
      "cell_type": "code",
      "metadata": {
        "id": "95ae036a",
        "outputId": "2134b772-2cc4-4e2b-9a4c-4d865a771abe"
      },
      "source": [
        "len(df)"
      ],
      "id": "95ae036a",
      "execution_count": null,
      "outputs": [
        {
          "data": {
            "text/plain": [
              "1000"
            ]
          },
          "execution_count": 4,
          "metadata": {},
          "output_type": "execute_result"
        }
      ]
    },
    {
      "cell_type": "code",
      "metadata": {
        "id": "c17467c5",
        "outputId": "7a1cd2ec-bf58-47d0-dcf8-068673524e5f"
      },
      "source": [
        "df.columns"
      ],
      "id": "c17467c5",
      "execution_count": null,
      "outputs": [
        {
          "data": {
            "text/plain": [
              "Index(['Date', 'Hour', 'Total_Ed_Patients', 'MaxAdmitWaitTime',\n",
              "       'MinMinutesToEta', 'HU_Patients', 'MinFromResGr40', 'OneToOnePatients',\n",
              "       'EDHolds', 'EDLocRed', 'EDLocBlue', 'EDLocGreen', 'EDLocGold',\n",
              "       'EDLocPeds', 'EDLocMinor', 'EDLocOth', 'EDStaffRN', 'EDStaffPCA',\n",
              "       'EDStaffCSS', 'EDStaffTrans', 'EDStaffOther', 'Total_Adm_Patients',\n",
              "       'AvgDoor2Doc', 'AvgDoor2Rm', 'Total_Ed_Patients_Bud',\n",
              "       'Total_Ed_Nurse_Bud', 'Total_Ed_PCA_Bud', 'Max_WR_Time',\n",
              "       'AvgConv2BedAssign', 'Nurse_Ratio_Bud', 'PCA_Ratio_Bud', 'AdmBedReq',\n",
              "       'Minute', 'ArrivedLast30Minutes'],\n",
              "      dtype='object')"
            ]
          },
          "execution_count": 5,
          "metadata": {},
          "output_type": "execute_result"
        }
      ]
    },
    {
      "cell_type": "code",
      "metadata": {
        "id": "334d4205"
      },
      "source": [
        "df=df.drop(['MaxAdmitWaitTime',\n",
        "       'MinMinutesToEta', 'HU_Patients', 'MinFromResGr40', 'OneToOnePatients',\n",
        "       'EDHolds', 'EDLocRed', 'EDLocBlue', 'EDLocGreen', 'EDLocGold',\n",
        "       'EDLocPeds', 'EDLocMinor', 'EDLocOth', 'EDStaffRN', 'EDStaffPCA',\n",
        "       'EDStaffCSS', 'EDStaffTrans', 'EDStaffOther', 'Total_Adm_Patients',\n",
        "       'AvgDoor2Doc', 'AvgDoor2Rm', 'Total_Ed_Patients_Bud',\n",
        "       'Total_Ed_Nurse_Bud', 'Total_Ed_PCA_Bud', 'Max_WR_Time',\n",
        "       'AvgConv2BedAssign', 'Nurse_Ratio_Bud', 'PCA_Ratio_Bud', 'AdmBedReq', 'ArrivedLast30Minutes'],axis=1)"
      ],
      "id": "334d4205",
      "execution_count": null,
      "outputs": []
    },
    {
      "cell_type": "code",
      "metadata": {
        "id": "e84cc396"
      },
      "source": [
        "df.head(30)"
      ],
      "id": "e84cc396",
      "execution_count": null,
      "outputs": []
    },
    {
      "cell_type": "code",
      "metadata": {
        "id": "a1bc2ee7",
        "outputId": "6d9512ee-e36b-46df-f613-89ff541b242f"
      },
      "source": [
        "df=df.dropna()\n",
        "df.head()"
      ],
      "id": "a1bc2ee7",
      "execution_count": null,
      "outputs": [
        {
          "data": {
            "text/html": [
              "<div>\n",
              "<style scoped>\n",
              "    .dataframe tbody tr th:only-of-type {\n",
              "        vertical-align: middle;\n",
              "    }\n",
              "\n",
              "    .dataframe tbody tr th {\n",
              "        vertical-align: top;\n",
              "    }\n",
              "\n",
              "    .dataframe thead th {\n",
              "        text-align: right;\n",
              "    }\n",
              "</style>\n",
              "<table border=\"1\" class=\"dataframe\">\n",
              "  <thead>\n",
              "    <tr style=\"text-align: right;\">\n",
              "      <th></th>\n",
              "      <th>Date</th>\n",
              "      <th>Hour</th>\n",
              "      <th>Total_Ed_Patients</th>\n",
              "      <th>Minute</th>\n",
              "    </tr>\n",
              "  </thead>\n",
              "  <tbody>\n",
              "    <tr>\n",
              "      <th>0</th>\n",
              "      <td>2018-06-08</td>\n",
              "      <td>15</td>\n",
              "      <td>44</td>\n",
              "      <td>0</td>\n",
              "    </tr>\n",
              "    <tr>\n",
              "      <th>1</th>\n",
              "      <td>2018-06-08</td>\n",
              "      <td>16</td>\n",
              "      <td>50</td>\n",
              "      <td>0</td>\n",
              "    </tr>\n",
              "    <tr>\n",
              "      <th>2</th>\n",
              "      <td>2018-06-08</td>\n",
              "      <td>17</td>\n",
              "      <td>54</td>\n",
              "      <td>0</td>\n",
              "    </tr>\n",
              "    <tr>\n",
              "      <th>3</th>\n",
              "      <td>2018-06-08</td>\n",
              "      <td>18</td>\n",
              "      <td>58</td>\n",
              "      <td>0</td>\n",
              "    </tr>\n",
              "    <tr>\n",
              "      <th>4</th>\n",
              "      <td>2018-06-08</td>\n",
              "      <td>19</td>\n",
              "      <td>64</td>\n",
              "      <td>0</td>\n",
              "    </tr>\n",
              "  </tbody>\n",
              "</table>\n",
              "</div>"
            ],
            "text/plain": [
              "        Date  Hour  Total_Ed_Patients  Minute\n",
              "0 2018-06-08    15                 44       0\n",
              "1 2018-06-08    16                 50       0\n",
              "2 2018-06-08    17                 54       0\n",
              "3 2018-06-08    18                 58       0\n",
              "4 2018-06-08    19                 64       0"
            ]
          },
          "execution_count": 8,
          "metadata": {},
          "output_type": "execute_result"
        }
      ]
    },
    {
      "cell_type": "code",
      "metadata": {
        "id": "ea568299"
      },
      "source": [
        "df[\"day\"] = df['Date'].map(lambda x: x.day)\n",
        "df[\"month\"] = df['Date'].map(lambda x: x.month)\n",
        "df[\"year\"] = df['Date'].map(lambda x: x.year)\n"
      ],
      "id": "ea568299",
      "execution_count": null,
      "outputs": []
    },
    {
      "cell_type": "code",
      "metadata": {
        "id": "ae8ef812",
        "outputId": "5102fa97-7429-42aa-8581-9b7ba51bf713"
      },
      "source": [
        "df=df.drop('Date',axis=1)\n",
        "df.head()"
      ],
      "id": "ae8ef812",
      "execution_count": null,
      "outputs": [
        {
          "data": {
            "text/html": [
              "<div>\n",
              "<style scoped>\n",
              "    .dataframe tbody tr th:only-of-type {\n",
              "        vertical-align: middle;\n",
              "    }\n",
              "\n",
              "    .dataframe tbody tr th {\n",
              "        vertical-align: top;\n",
              "    }\n",
              "\n",
              "    .dataframe thead th {\n",
              "        text-align: right;\n",
              "    }\n",
              "</style>\n",
              "<table border=\"1\" class=\"dataframe\">\n",
              "  <thead>\n",
              "    <tr style=\"text-align: right;\">\n",
              "      <th></th>\n",
              "      <th>Hour</th>\n",
              "      <th>Total_Ed_Patients</th>\n",
              "      <th>Minute</th>\n",
              "      <th>day</th>\n",
              "      <th>month</th>\n",
              "      <th>year</th>\n",
              "    </tr>\n",
              "  </thead>\n",
              "  <tbody>\n",
              "    <tr>\n",
              "      <th>0</th>\n",
              "      <td>15</td>\n",
              "      <td>44</td>\n",
              "      <td>0</td>\n",
              "      <td>8</td>\n",
              "      <td>6</td>\n",
              "      <td>2018</td>\n",
              "    </tr>\n",
              "    <tr>\n",
              "      <th>1</th>\n",
              "      <td>16</td>\n",
              "      <td>50</td>\n",
              "      <td>0</td>\n",
              "      <td>8</td>\n",
              "      <td>6</td>\n",
              "      <td>2018</td>\n",
              "    </tr>\n",
              "    <tr>\n",
              "      <th>2</th>\n",
              "      <td>17</td>\n",
              "      <td>54</td>\n",
              "      <td>0</td>\n",
              "      <td>8</td>\n",
              "      <td>6</td>\n",
              "      <td>2018</td>\n",
              "    </tr>\n",
              "    <tr>\n",
              "      <th>3</th>\n",
              "      <td>18</td>\n",
              "      <td>58</td>\n",
              "      <td>0</td>\n",
              "      <td>8</td>\n",
              "      <td>6</td>\n",
              "      <td>2018</td>\n",
              "    </tr>\n",
              "    <tr>\n",
              "      <th>4</th>\n",
              "      <td>19</td>\n",
              "      <td>64</td>\n",
              "      <td>0</td>\n",
              "      <td>8</td>\n",
              "      <td>6</td>\n",
              "      <td>2018</td>\n",
              "    </tr>\n",
              "  </tbody>\n",
              "</table>\n",
              "</div>"
            ],
            "text/plain": [
              "   Hour  Total_Ed_Patients  Minute  day  month  year\n",
              "0    15                 44       0    8      6  2018\n",
              "1    16                 50       0    8      6  2018\n",
              "2    17                 54       0    8      6  2018\n",
              "3    18                 58       0    8      6  2018\n",
              "4    19                 64       0    8      6  2018"
            ]
          },
          "execution_count": 10,
          "metadata": {},
          "output_type": "execute_result"
        }
      ]
    },
    {
      "cell_type": "code",
      "metadata": {
        "id": "3c97c0fc"
      },
      "source": [
        "df['Date']=pd.to_datetime({'year':df['year'],'month':df['month'],'day':df['day'],'Hour':df['Hour'],'Minute':df['Minute']})"
      ],
      "id": "3c97c0fc",
      "execution_count": null,
      "outputs": []
    },
    {
      "cell_type": "code",
      "metadata": {
        "id": "a38d71ea",
        "outputId": "fd3e7b33-0d78-456c-97e3-edae2563784d"
      },
      "source": [
        "df.head()"
      ],
      "id": "a38d71ea",
      "execution_count": null,
      "outputs": [
        {
          "data": {
            "text/html": [
              "<div>\n",
              "<style scoped>\n",
              "    .dataframe tbody tr th:only-of-type {\n",
              "        vertical-align: middle;\n",
              "    }\n",
              "\n",
              "    .dataframe tbody tr th {\n",
              "        vertical-align: top;\n",
              "    }\n",
              "\n",
              "    .dataframe thead th {\n",
              "        text-align: right;\n",
              "    }\n",
              "</style>\n",
              "<table border=\"1\" class=\"dataframe\">\n",
              "  <thead>\n",
              "    <tr style=\"text-align: right;\">\n",
              "      <th></th>\n",
              "      <th>Hour</th>\n",
              "      <th>Total_Ed_Patients</th>\n",
              "      <th>Minute</th>\n",
              "      <th>day</th>\n",
              "      <th>month</th>\n",
              "      <th>year</th>\n",
              "      <th>Date</th>\n",
              "    </tr>\n",
              "  </thead>\n",
              "  <tbody>\n",
              "    <tr>\n",
              "      <th>0</th>\n",
              "      <td>15</td>\n",
              "      <td>44</td>\n",
              "      <td>0</td>\n",
              "      <td>8</td>\n",
              "      <td>6</td>\n",
              "      <td>2018</td>\n",
              "      <td>2018-06-08 15:00:00</td>\n",
              "    </tr>\n",
              "    <tr>\n",
              "      <th>1</th>\n",
              "      <td>16</td>\n",
              "      <td>50</td>\n",
              "      <td>0</td>\n",
              "      <td>8</td>\n",
              "      <td>6</td>\n",
              "      <td>2018</td>\n",
              "      <td>2018-06-08 16:00:00</td>\n",
              "    </tr>\n",
              "    <tr>\n",
              "      <th>2</th>\n",
              "      <td>17</td>\n",
              "      <td>54</td>\n",
              "      <td>0</td>\n",
              "      <td>8</td>\n",
              "      <td>6</td>\n",
              "      <td>2018</td>\n",
              "      <td>2018-06-08 17:00:00</td>\n",
              "    </tr>\n",
              "    <tr>\n",
              "      <th>3</th>\n",
              "      <td>18</td>\n",
              "      <td>58</td>\n",
              "      <td>0</td>\n",
              "      <td>8</td>\n",
              "      <td>6</td>\n",
              "      <td>2018</td>\n",
              "      <td>2018-06-08 18:00:00</td>\n",
              "    </tr>\n",
              "    <tr>\n",
              "      <th>4</th>\n",
              "      <td>19</td>\n",
              "      <td>64</td>\n",
              "      <td>0</td>\n",
              "      <td>8</td>\n",
              "      <td>6</td>\n",
              "      <td>2018</td>\n",
              "      <td>2018-06-08 19:00:00</td>\n",
              "    </tr>\n",
              "  </tbody>\n",
              "</table>\n",
              "</div>"
            ],
            "text/plain": [
              "   Hour  Total_Ed_Patients  Minute  day  month  year                Date\n",
              "0    15                 44       0    8      6  2018 2018-06-08 15:00:00\n",
              "1    16                 50       0    8      6  2018 2018-06-08 16:00:00\n",
              "2    17                 54       0    8      6  2018 2018-06-08 17:00:00\n",
              "3    18                 58       0    8      6  2018 2018-06-08 18:00:00\n",
              "4    19                 64       0    8      6  2018 2018-06-08 19:00:00"
            ]
          },
          "execution_count": 12,
          "metadata": {},
          "output_type": "execute_result"
        }
      ]
    },
    {
      "cell_type": "code",
      "metadata": {
        "id": "d5d33b03",
        "outputId": "b04e49a5-f2ca-4498-aeed-7c0315d07190"
      },
      "source": [
        "df= df.set_index('Date')\n",
        "df.head()"
      ],
      "id": "d5d33b03",
      "execution_count": null,
      "outputs": [
        {
          "data": {
            "text/html": [
              "<div>\n",
              "<style scoped>\n",
              "    .dataframe tbody tr th:only-of-type {\n",
              "        vertical-align: middle;\n",
              "    }\n",
              "\n",
              "    .dataframe tbody tr th {\n",
              "        vertical-align: top;\n",
              "    }\n",
              "\n",
              "    .dataframe thead th {\n",
              "        text-align: right;\n",
              "    }\n",
              "</style>\n",
              "<table border=\"1\" class=\"dataframe\">\n",
              "  <thead>\n",
              "    <tr style=\"text-align: right;\">\n",
              "      <th></th>\n",
              "      <th>Hour</th>\n",
              "      <th>Total_Ed_Patients</th>\n",
              "      <th>Minute</th>\n",
              "      <th>day</th>\n",
              "      <th>month</th>\n",
              "      <th>year</th>\n",
              "    </tr>\n",
              "    <tr>\n",
              "      <th>Date</th>\n",
              "      <th></th>\n",
              "      <th></th>\n",
              "      <th></th>\n",
              "      <th></th>\n",
              "      <th></th>\n",
              "      <th></th>\n",
              "    </tr>\n",
              "  </thead>\n",
              "  <tbody>\n",
              "    <tr>\n",
              "      <th>2018-06-08 15:00:00</th>\n",
              "      <td>15</td>\n",
              "      <td>44</td>\n",
              "      <td>0</td>\n",
              "      <td>8</td>\n",
              "      <td>6</td>\n",
              "      <td>2018</td>\n",
              "    </tr>\n",
              "    <tr>\n",
              "      <th>2018-06-08 16:00:00</th>\n",
              "      <td>16</td>\n",
              "      <td>50</td>\n",
              "      <td>0</td>\n",
              "      <td>8</td>\n",
              "      <td>6</td>\n",
              "      <td>2018</td>\n",
              "    </tr>\n",
              "    <tr>\n",
              "      <th>2018-06-08 17:00:00</th>\n",
              "      <td>17</td>\n",
              "      <td>54</td>\n",
              "      <td>0</td>\n",
              "      <td>8</td>\n",
              "      <td>6</td>\n",
              "      <td>2018</td>\n",
              "    </tr>\n",
              "    <tr>\n",
              "      <th>2018-06-08 18:00:00</th>\n",
              "      <td>18</td>\n",
              "      <td>58</td>\n",
              "      <td>0</td>\n",
              "      <td>8</td>\n",
              "      <td>6</td>\n",
              "      <td>2018</td>\n",
              "    </tr>\n",
              "    <tr>\n",
              "      <th>2018-06-08 19:00:00</th>\n",
              "      <td>19</td>\n",
              "      <td>64</td>\n",
              "      <td>0</td>\n",
              "      <td>8</td>\n",
              "      <td>6</td>\n",
              "      <td>2018</td>\n",
              "    </tr>\n",
              "  </tbody>\n",
              "</table>\n",
              "</div>"
            ],
            "text/plain": [
              "                     Hour  Total_Ed_Patients  Minute  day  month  year\n",
              "Date                                                                  \n",
              "2018-06-08 15:00:00    15                 44       0    8      6  2018\n",
              "2018-06-08 16:00:00    16                 50       0    8      6  2018\n",
              "2018-06-08 17:00:00    17                 54       0    8      6  2018\n",
              "2018-06-08 18:00:00    18                 58       0    8      6  2018\n",
              "2018-06-08 19:00:00    19                 64       0    8      6  2018"
            ]
          },
          "execution_count": 235,
          "metadata": {},
          "output_type": "execute_result"
        }
      ]
    },
    {
      "cell_type": "code",
      "metadata": {
        "id": "d4e5b175"
      },
      "source": [
        "df=df.asfreq('H')"
      ],
      "id": "d4e5b175",
      "execution_count": null,
      "outputs": []
    },
    {
      "cell_type": "code",
      "metadata": {
        "id": "048ce584",
        "outputId": "50f22336-4ed6-436a-bf3c-b2d61db5410c"
      },
      "source": [
        "df.index"
      ],
      "id": "048ce584",
      "execution_count": null,
      "outputs": [
        {
          "data": {
            "text/plain": [
              "DatetimeIndex(['2018-06-08 15:00:00', '2018-06-08 16:00:00',\n",
              "               '2018-06-08 17:00:00', '2018-06-08 18:00:00',\n",
              "               '2018-06-08 19:00:00', '2018-06-08 20:00:00',\n",
              "               '2018-06-08 21:00:00', '2018-06-08 22:00:00',\n",
              "               '2018-06-08 23:00:00', '2018-06-09 00:00:00',\n",
              "               ...\n",
              "               '2018-07-20 00:00:00', '2018-07-20 01:00:00',\n",
              "               '2018-07-20 02:00:00', '2018-07-20 03:00:00',\n",
              "               '2018-07-20 04:00:00', '2018-07-20 05:00:00',\n",
              "               '2018-07-20 06:00:00', '2018-07-20 07:00:00',\n",
              "               '2018-07-20 08:00:00', '2018-07-20 09:00:00'],\n",
              "              dtype='datetime64[ns]', name='Date', length=1003, freq='H')"
            ]
          },
          "execution_count": 237,
          "metadata": {},
          "output_type": "execute_result"
        }
      ]
    },
    {
      "cell_type": "code",
      "metadata": {
        "id": "c60903ba",
        "outputId": "734a7a56-bc4c-4aa7-966e-b9deadd39ca0"
      },
      "source": [
        "df['Total_Ed_Patients'].plot(figsize=(12,4))"
      ],
      "id": "c60903ba",
      "execution_count": null,
      "outputs": [
        {
          "data": {
            "text/plain": [
              "<AxesSubplot:xlabel='Date'>"
            ]
          },
          "execution_count": 238,
          "metadata": {},
          "output_type": "execute_result"
        },
        {
          "data": {
            "image/png": "[encoded data removed]",
            "text/plain": [
              "<Figure size 864x288 with 1 Axes>"
            ]
          },
          "metadata": {
            "needs_background": "light"
          },
          "output_type": "display_data"
        }
      ]
    },
    {
      "cell_type": "code",
      "metadata": {
        "id": "257b6db2"
      },
      "source": [
        "from statsmodels.tsa.seasonal import seasonal_decompose"
      ],
      "id": "257b6db2",
      "execution_count": null,
      "outputs": []
    },
    {
      "cell_type": "code",
      "metadata": {
        "id": "373b7f07",
        "outputId": "3fec6a2a-ed32-48d6-fd91-e71a3a10cf00"
      },
      "source": [
        "df['Total_Ed_Patients'].isnull().sum()"
      ],
      "id": "373b7f07",
      "execution_count": null,
      "outputs": [
        {
          "data": {
            "text/plain": [
              "3"
            ]
          },
          "execution_count": 220,
          "metadata": {},
          "output_type": "execute_result"
        }
      ]
    },
    {
      "cell_type": "code",
      "metadata": {
        "id": "0ae028c8"
      },
      "source": [
        "df=df.head(200)"
      ],
      "id": "0ae028c8",
      "execution_count": null,
      "outputs": []
    },
    {
      "cell_type": "code",
      "metadata": {
        "id": "01a34972",
        "outputId": "91aaa4d9-3c5c-4e8c-f52f-a14784d5d777"
      },
      "source": [
        "len(df)"
      ],
      "id": "01a34972",
      "execution_count": null,
      "outputs": [
        {
          "data": {
            "text/plain": [
              "200"
            ]
          },
          "execution_count": 243,
          "metadata": {},
          "output_type": "execute_result"
        }
      ]
    },
    {
      "cell_type": "code",
      "metadata": {
        "id": "0cd9d5e4",
        "outputId": "bd14efe5-1200-424d-911a-c349cfc4aaa9"
      },
      "source": [
        "result=seasonal_decompose(df['Total_Ed_Patients'],model='add')\n",
        "result.plot();"
      ],
      "id": "0cd9d5e4",
      "execution_count": null,
      "outputs": [
        {
          "data": {
            "image/png": "[encoded data removed]",
            "text/plain": [
              "<Figure size 432x288 with 4 Axes>"
            ]
          },
          "metadata": {
            "needs_background": "light"
          },
          "output_type": "display_data"
        }
      ]
    },
    {
      "cell_type": "code",
      "metadata": {
        "id": "84119f76"
      },
      "source": [
        "#test the stationarity \n",
        "from statsmodels.tsa.stattools import adfuller\n",
        "\n",
        "def adf_test(series,title=''):\n",
        "    \"\"\"\n",
        "    Pass in a time series and an optional title, returns an ADF report\n",
        "    \"\"\"\n",
        "    print(f'Augmented Dickey-Fuller Test: {title}')\n",
        "    result = adfuller(series.dropna(),autolag='AIC') # .dropna() handles differenced data\n",
        "    \n",
        "    labels = ['ADF test statistic','p-value','# lags used','# observations']\n",
        "    out = pd.Series(result[0:4],index=labels)\n",
        "\n",
        "    for key,val in result[4].items():\n",
        "        out[f'critical value ({key})']=val\n",
        "        \n",
        "    print(out.to_string())          # .to_string() removes the line \"dtype: float64\"\n",
        "    \n",
        "    if result[1] <= 0.05:\n",
        "        print(\"Strong evidence against the null hypothesis\")\n",
        "        print(\"Reject the null hypothesis\")\n",
        "        print(\"Data has no unit root and is stationary\")\n",
        "    else:\n",
        "        print(\"Weak evidence against the null hypothesis\")\n",
        "        print(\"Fail to reject the null hypothesis\")\n",
        "        print(\"Data has a unit root and is non-stationary\")"
      ],
      "id": "84119f76",
      "execution_count": null,
      "outputs": []
    },
    {
      "cell_type": "code",
      "metadata": {
        "id": "1a6fef47",
        "outputId": "811daa82-2732-4e6d-bc0e-9e22c4950dc2"
      },
      "source": [
        "adf_test(df['Total_Ed_Patients'])"
      ],
      "id": "1a6fef47",
      "execution_count": null,
      "outputs": [
        {
          "name": "stdout",
          "output_type": "stream",
          "text": [
            "Augmented Dickey-Fuller Test: \n",
            "ADF test statistic     -6.515340e+00\n",
            "p-value                 1.074842e-08\n",
            "# lags used             8.000000e+00\n",
            "# observations          1.910000e+02\n",
            "critical value (1%)    -3.465059e+00\n",
            "critical value (5%)    -2.876794e+00\n",
            "critical value (10%)   -2.574901e+00\n",
            "Strong evidence against the null hypothesis\n",
            "Reject the null hypothesis\n",
            "Data has no unit root and is stationary\n"
          ]
        }
      ]
    },
    {
      "cell_type": "code",
      "metadata": {
        "id": "9808182f",
        "outputId": "fcd6da25-90ec-404d-cfb7-0bb2fd0963a8"
      },
      "source": [
        "pip install pmdarima"
      ],
      "id": "9808182f",
      "execution_count": null,
      "outputs": [
        {
          "name": "stdout",
          "output_type": "stream",
          "text": [
            "Requirement already satisfied: pmdarima in c:\\users\\ntaoufi\\anaconda3\\lib\\site-packages (1.8.2)Note: you may need to restart the kernel to use updated packages.\n",
            "Requirement already satisfied: scipy>=1.3.2 in c:\\users\\ntaoufi\\anaconda3\\lib\\site-packages (from pmdarima) (1.6.2)\n",
            "Requirement already satisfied: pandas>=0.19 in c:\\users\\ntaoufi\\anaconda3\\lib\\site-packages (from pmdarima) (1.2.4)\n",
            "Requirement already satisfied: scikit-learn>=0.22 in c:\\users\\ntaoufi\\anaconda3\\lib\\site-packages (from pmdarima) (0.24.1)\n",
            "Requirement already satisfied: statsmodels!=0.12.0,>=0.11 in c:\\users\\ntaoufi\\anaconda3\\lib\\site-packages (from pmdarima) (0.12.2)\n",
            "Requirement already satisfied: urllib3 in c:\\users\\ntaoufi\\anaconda3\\lib\\site-packages (from pmdarima) (1.26.4)\n",
            "Requirement already satisfied: setuptools!=50.0.0,>=38.6.0 in c:\\users\\ntaoufi\\anaconda3\\lib\\site-packages (from pmdarima) (52.0.0.post20210125)\n",
            "Requirement already satisfied: numpy~=1.19.0 in c:\\users\\ntaoufi\\anaconda3\\lib\\site-packages (from pmdarima) (1.19.5)\n",
            "Requirement already satisfied: Cython!=0.29.18,>=0.29 in c:\\users\\ntaoufi\\anaconda3\\lib\\site-packages (from pmdarima) (0.29.23)\n",
            "Requirement already satisfied: joblib>=0.11 in c:\\users\\ntaoufi\\anaconda3\\lib\\site-packages (from pmdarima) (1.0.1)\n",
            "Requirement already satisfied: python-dateutil>=2.7.3 in c:\\users\\ntaoufi\\anaconda3\\lib\\site-packages (from pandas>=0.19->pmdarima) (2.8.1)\n",
            "Requirement already satisfied: pytz>=2017.3 in c:\\users\\ntaoufi\\anaconda3\\lib\\site-packages (from pandas>=0.19->pmdarima) (2021.1)\n",
            "Requirement already satisfied: six>=1.5 in c:\\users\\ntaoufi\\anaconda3\\lib\\site-packages (from python-dateutil>=2.7.3->pandas>=0.19->pmdarima) (1.15.0)\n",
            "Requirement already satisfied: threadpoolctl>=2.0.0 in c:\\users\\ntaoufi\\anaconda3\\lib\\site-packages (from scikit-learn>=0.22->pmdarima) (2.1.0)\n",
            "Requirement already satisfied: patsy>=0.5 in c:\\users\\ntaoufi\\anaconda3\\lib\\site-packages (from statsmodels!=0.12.0,>=0.11->pmdarima) (0.5.1)\n",
            "\n"
          ]
        }
      ]
    },
    {
      "cell_type": "code",
      "metadata": {
        "id": "a20341d3"
      },
      "source": [
        "from pmdarima import auto_arima"
      ],
      "id": "a20341d3",
      "execution_count": null,
      "outputs": []
    },
    {
      "cell_type": "code",
      "metadata": {
        "id": "61024934",
        "outputId": "3d08f428-01c9-474e-afb9-b91c96971260"
      },
      "source": [
        "#without seasonality \n",
        "model1=auto_arima(df['Total_Ed_Patients'],start_p=0,start_q=0,max_p=6,max_q=3,seasonal=False,trace=False)\n",
        "model1.summary()"
      ],
      "id": "61024934",
      "execution_count": null,
      "outputs": [
        {
          "data": {
            "text/html": [
              "<table class=\"simpletable\">\n",
              "<caption>SARIMAX Results</caption>\n",
              "<tr>\n",
              "  <th>Dep. Variable:</th>           <td>y</td>        <th>  No. Observations:  </th>    <td>177</td>  \n",
              "</tr>\n",
              "<tr>\n",
              "  <th>Model:</th>           <td>SARIMAX(2, 0, 1)</td> <th>  Log Likelihood     </th> <td>-508.254</td>\n",
              "</tr>\n",
              "<tr>\n",
              "  <th>Date:</th>            <td>Mon, 13 Sep 2021</td> <th>  AIC                </th> <td>1026.508</td>\n",
              "</tr>\n",
              "<tr>\n",
              "  <th>Time:</th>                <td>12:28:52</td>     <th>  BIC                </th> <td>1042.389</td>\n",
              "</tr>\n",
              "<tr>\n",
              "  <th>Sample:</th>                  <td>0</td>        <th>  HQIC               </th> <td>1032.949</td>\n",
              "</tr>\n",
              "<tr>\n",
              "  <th></th>                      <td> - 177</td>      <th>                     </th>     <td> </td>   \n",
              "</tr>\n",
              "<tr>\n",
              "  <th>Covariance Type:</th>        <td>opg</td>       <th>                     </th>     <td> </td>   \n",
              "</tr>\n",
              "</table>\n",
              "<table class=\"simpletable\">\n",
              "<tr>\n",
              "      <td></td>         <th>coef</th>     <th>std err</th>      <th>z</th>      <th>P>|z|</th>  <th>[0.025</th>    <th>0.975]</th>  \n",
              "</tr>\n",
              "<tr>\n",
              "  <th>intercept</th> <td>    2.1600</td> <td>    0.357</td> <td>    6.043</td> <td> 0.000</td> <td>    1.459</td> <td>    2.861</td>\n",
              "</tr>\n",
              "<tr>\n",
              "  <th>ar.L1</th>     <td>    1.8551</td> <td>    0.040</td> <td>   46.252</td> <td> 0.000</td> <td>    1.776</td> <td>    1.934</td>\n",
              "</tr>\n",
              "<tr>\n",
              "  <th>ar.L2</th>     <td>   -0.9203</td> <td>    0.037</td> <td>  -24.830</td> <td> 0.000</td> <td>   -0.993</td> <td>   -0.848</td>\n",
              "</tr>\n",
              "<tr>\n",
              "  <th>ma.L1</th>     <td>   -0.7357</td> <td>    0.077</td> <td>   -9.579</td> <td> 0.000</td> <td>   -0.886</td> <td>   -0.585</td>\n",
              "</tr>\n",
              "<tr>\n",
              "  <th>sigma2</th>    <td>   17.9388</td> <td>    1.424</td> <td>   12.594</td> <td> 0.000</td> <td>   15.147</td> <td>   20.731</td>\n",
              "</tr>\n",
              "</table>\n",
              "<table class=\"simpletable\">\n",
              "<tr>\n",
              "  <th>Ljung-Box (L1) (Q):</th>     <td>0.00</td> <th>  Jarque-Bera (JB):  </th> <td>27.74</td>\n",
              "</tr>\n",
              "<tr>\n",
              "  <th>Prob(Q):</th>                <td>0.95</td> <th>  Prob(JB):          </th> <td>0.00</td> \n",
              "</tr>\n",
              "<tr>\n",
              "  <th>Heteroskedasticity (H):</th> <td>0.96</td> <th>  Skew:              </th> <td>0.14</td> \n",
              "</tr>\n",
              "<tr>\n",
              "  <th>Prob(H) (two-sided):</th>    <td>0.87</td> <th>  Kurtosis:          </th> <td>4.92</td> \n",
              "</tr>\n",
              "</table><br/><br/>Warnings:<br/>[1] Covariance matrix calculated using the outer product of gradients (complex-step)."
            ],
            "text/plain": [
              "<class 'statsmodels.iolib.summary.Summary'>\n",
              "\"\"\"\n",
              "                               SARIMAX Results                                \n",
              "==============================================================================\n",
              "Dep. Variable:                      y   No. Observations:                  177\n",
              "Model:               SARIMAX(2, 0, 1)   Log Likelihood                -508.254\n",
              "Date:                Mon, 13 Sep 2021   AIC                           1026.508\n",
              "Time:                        12:28:52   BIC                           1042.389\n",
              "Sample:                             0   HQIC                          1032.949\n",
              "                                - 177                                         \n",
              "Covariance Type:                  opg                                         \n",
              "==============================================================================\n",
              "                 coef    std err          z      P>|z|      [0.025      0.975]\n",
              "------------------------------------------------------------------------------\n",
              "intercept      2.1600      0.357      6.043      0.000       1.459       2.861\n",
              "ar.L1          1.8551      0.040     46.252      0.000       1.776       1.934\n",
              "ar.L2         -0.9203      0.037    -24.830      0.000      -0.993      -0.848\n",
              "ma.L1         -0.7357      0.077     -9.579      0.000      -0.886      -0.585\n",
              "sigma2        17.9388      1.424     12.594      0.000      15.147      20.731\n",
              "===================================================================================\n",
              "Ljung-Box (L1) (Q):                   0.00   Jarque-Bera (JB):                27.74\n",
              "Prob(Q):                              0.95   Prob(JB):                         0.00\n",
              "Heteroskedasticity (H):               0.96   Skew:                             0.14\n",
              "Prob(H) (two-sided):                  0.87   Kurtosis:                         4.92\n",
              "===================================================================================\n",
              "\n",
              "Warnings:\n",
              "[1] Covariance matrix calculated using the outer product of gradients (complex-step).\n",
              "\"\"\""
            ]
          },
          "execution_count": 281,
          "metadata": {},
          "output_type": "execute_result"
        }
      ]
    },
    {
      "cell_type": "code",
      "metadata": {
        "id": "0192bdf5"
      },
      "source": [
        "\n",
        "df = df[:-22]"
      ],
      "id": "0192bdf5",
      "execution_count": null,
      "outputs": []
    },
    {
      "cell_type": "code",
      "metadata": {
        "id": "3666dcae",
        "outputId": "7d20c3f3-48b5-4708-ed39-f1056a25bfc0"
      },
      "source": [
        "len(df)"
      ],
      "id": "3666dcae",
      "execution_count": null,
      "outputs": [
        {
          "data": {
            "text/plain": [
              "177"
            ]
          },
          "execution_count": 275,
          "metadata": {},
          "output_type": "execute_result"
        }
      ]
    },
    {
      "cell_type": "code",
      "metadata": {
        "id": "3a8e1334",
        "outputId": "cf37e02a-b4fd-423a-ff85-54c6fd6feb35"
      },
      "source": [
        "df.tail(24)"
      ],
      "id": "3a8e1334",
      "execution_count": null,
      "outputs": [
        {
          "data": {
            "text/html": [
              "<div>\n",
              "<style scoped>\n",
              "    .dataframe tbody tr th:only-of-type {\n",
              "        vertical-align: middle;\n",
              "    }\n",
              "\n",
              "    .dataframe tbody tr th {\n",
              "        vertical-align: top;\n",
              "    }\n",
              "\n",
              "    .dataframe thead th {\n",
              "        text-align: right;\n",
              "    }\n",
              "</style>\n",
              "<table border=\"1\" class=\"dataframe\">\n",
              "  <thead>\n",
              "    <tr style=\"text-align: right;\">\n",
              "      <th></th>\n",
              "      <th>Hour</th>\n",
              "      <th>Total_Ed_Patients</th>\n",
              "      <th>Minute</th>\n",
              "      <th>day</th>\n",
              "      <th>month</th>\n",
              "      <th>year</th>\n",
              "    </tr>\n",
              "    <tr>\n",
              "      <th>Date</th>\n",
              "      <th></th>\n",
              "      <th></th>\n",
              "      <th></th>\n",
              "      <th></th>\n",
              "      <th></th>\n",
              "      <th></th>\n",
              "    </tr>\n",
              "  </thead>\n",
              "  <tbody>\n",
              "    <tr>\n",
              "      <th>2018-06-15 00:00:00</th>\n",
              "      <td>0.0</td>\n",
              "      <td>31.0</td>\n",
              "      <td>0.0</td>\n",
              "      <td>15.0</td>\n",
              "      <td>6.0</td>\n",
              "      <td>2018.0</td>\n",
              "    </tr>\n",
              "    <tr>\n",
              "      <th>2018-06-15 01:00:00</th>\n",
              "      <td>1.0</td>\n",
              "      <td>26.0</td>\n",
              "      <td>0.0</td>\n",
              "      <td>15.0</td>\n",
              "      <td>6.0</td>\n",
              "      <td>2018.0</td>\n",
              "    </tr>\n",
              "    <tr>\n",
              "      <th>2018-06-15 02:00:00</th>\n",
              "      <td>2.0</td>\n",
              "      <td>25.0</td>\n",
              "      <td>0.0</td>\n",
              "      <td>15.0</td>\n",
              "      <td>6.0</td>\n",
              "      <td>2018.0</td>\n",
              "    </tr>\n",
              "    <tr>\n",
              "      <th>2018-06-15 03:00:00</th>\n",
              "      <td>3.0</td>\n",
              "      <td>19.0</td>\n",
              "      <td>0.0</td>\n",
              "      <td>15.0</td>\n",
              "      <td>6.0</td>\n",
              "      <td>2018.0</td>\n",
              "    </tr>\n",
              "    <tr>\n",
              "      <th>2018-06-15 04:00:00</th>\n",
              "      <td>4.0</td>\n",
              "      <td>14.0</td>\n",
              "      <td>0.0</td>\n",
              "      <td>15.0</td>\n",
              "      <td>6.0</td>\n",
              "      <td>2018.0</td>\n",
              "    </tr>\n",
              "    <tr>\n",
              "      <th>2018-06-15 05:00:00</th>\n",
              "      <td>5.0</td>\n",
              "      <td>13.0</td>\n",
              "      <td>0.0</td>\n",
              "      <td>15.0</td>\n",
              "      <td>6.0</td>\n",
              "      <td>2018.0</td>\n",
              "    </tr>\n",
              "    <tr>\n",
              "      <th>2018-06-15 06:00:00</th>\n",
              "      <td>6.0</td>\n",
              "      <td>13.0</td>\n",
              "      <td>0.0</td>\n",
              "      <td>15.0</td>\n",
              "      <td>6.0</td>\n",
              "      <td>2018.0</td>\n",
              "    </tr>\n",
              "    <tr>\n",
              "      <th>2018-06-15 07:00:00</th>\n",
              "      <td>7.0</td>\n",
              "      <td>17.0</td>\n",
              "      <td>0.0</td>\n",
              "      <td>15.0</td>\n",
              "      <td>6.0</td>\n",
              "      <td>2018.0</td>\n",
              "    </tr>\n",
              "    <tr>\n",
              "      <th>2018-06-15 08:00:00</th>\n",
              "      <td>8.0</td>\n",
              "      <td>17.0</td>\n",
              "      <td>0.0</td>\n",
              "      <td>15.0</td>\n",
              "      <td>6.0</td>\n",
              "      <td>2018.0</td>\n",
              "    </tr>\n",
              "    <tr>\n",
              "      <th>2018-06-15 09:00:00</th>\n",
              "      <td>9.0</td>\n",
              "      <td>15.0</td>\n",
              "      <td>0.0</td>\n",
              "      <td>15.0</td>\n",
              "      <td>6.0</td>\n",
              "      <td>2018.0</td>\n",
              "    </tr>\n",
              "    <tr>\n",
              "      <th>2018-06-15 10:00:00</th>\n",
              "      <td>10.0</td>\n",
              "      <td>21.0</td>\n",
              "      <td>0.0</td>\n",
              "      <td>15.0</td>\n",
              "      <td>6.0</td>\n",
              "      <td>2018.0</td>\n",
              "    </tr>\n",
              "    <tr>\n",
              "      <th>2018-06-15 11:00:00</th>\n",
              "      <td>11.0</td>\n",
              "      <td>31.0</td>\n",
              "      <td>0.0</td>\n",
              "      <td>15.0</td>\n",
              "      <td>6.0</td>\n",
              "      <td>2018.0</td>\n",
              "    </tr>\n",
              "    <tr>\n",
              "      <th>2018-06-15 12:00:00</th>\n",
              "      <td>12.0</td>\n",
              "      <td>38.0</td>\n",
              "      <td>0.0</td>\n",
              "      <td>15.0</td>\n",
              "      <td>6.0</td>\n",
              "      <td>2018.0</td>\n",
              "    </tr>\n",
              "    <tr>\n",
              "      <th>2018-06-15 13:00:00</th>\n",
              "      <td>13.0</td>\n",
              "      <td>42.0</td>\n",
              "      <td>0.0</td>\n",
              "      <td>15.0</td>\n",
              "      <td>6.0</td>\n",
              "      <td>2018.0</td>\n",
              "    </tr>\n",
              "    <tr>\n",
              "      <th>2018-06-15 14:00:00</th>\n",
              "      <td>14.0</td>\n",
              "      <td>45.0</td>\n",
              "      <td>0.0</td>\n",
              "      <td>15.0</td>\n",
              "      <td>6.0</td>\n",
              "      <td>2018.0</td>\n",
              "    </tr>\n",
              "    <tr>\n",
              "      <th>2018-06-15 15:00:00</th>\n",
              "      <td>15.0</td>\n",
              "      <td>48.0</td>\n",
              "      <td>0.0</td>\n",
              "      <td>15.0</td>\n",
              "      <td>6.0</td>\n",
              "      <td>2018.0</td>\n",
              "    </tr>\n",
              "    <tr>\n",
              "      <th>2018-06-15 16:00:00</th>\n",
              "      <td>16.0</td>\n",
              "      <td>45.0</td>\n",
              "      <td>0.0</td>\n",
              "      <td>15.0</td>\n",
              "      <td>6.0</td>\n",
              "      <td>2018.0</td>\n",
              "    </tr>\n",
              "    <tr>\n",
              "      <th>2018-06-15 17:00:00</th>\n",
              "      <td>17.0</td>\n",
              "      <td>39.0</td>\n",
              "      <td>0.0</td>\n",
              "      <td>15.0</td>\n",
              "      <td>6.0</td>\n",
              "      <td>2018.0</td>\n",
              "    </tr>\n",
              "    <tr>\n",
              "      <th>2018-06-15 18:00:00</th>\n",
              "      <td>18.0</td>\n",
              "      <td>40.0</td>\n",
              "      <td>0.0</td>\n",
              "      <td>15.0</td>\n",
              "      <td>6.0</td>\n",
              "      <td>2018.0</td>\n",
              "    </tr>\n",
              "    <tr>\n",
              "      <th>2018-06-15 19:00:00</th>\n",
              "      <td>19.0</td>\n",
              "      <td>37.0</td>\n",
              "      <td>0.0</td>\n",
              "      <td>15.0</td>\n",
              "      <td>6.0</td>\n",
              "      <td>2018.0</td>\n",
              "    </tr>\n",
              "    <tr>\n",
              "      <th>2018-06-15 20:00:00</th>\n",
              "      <td>20.0</td>\n",
              "      <td>32.0</td>\n",
              "      <td>0.0</td>\n",
              "      <td>15.0</td>\n",
              "      <td>6.0</td>\n",
              "      <td>2018.0</td>\n",
              "    </tr>\n",
              "    <tr>\n",
              "      <th>2018-06-15 21:00:00</th>\n",
              "      <td>21.0</td>\n",
              "      <td>25.0</td>\n",
              "      <td>0.0</td>\n",
              "      <td>15.0</td>\n",
              "      <td>6.0</td>\n",
              "      <td>2018.0</td>\n",
              "    </tr>\n",
              "    <tr>\n",
              "      <th>2018-06-15 22:00:00</th>\n",
              "      <td>22.0</td>\n",
              "      <td>23.0</td>\n",
              "      <td>0.0</td>\n",
              "      <td>15.0</td>\n",
              "      <td>6.0</td>\n",
              "      <td>2018.0</td>\n",
              "    </tr>\n",
              "    <tr>\n",
              "      <th>2018-06-15 23:00:00</th>\n",
              "      <td>23.0</td>\n",
              "      <td>30.0</td>\n",
              "      <td>0.0</td>\n",
              "      <td>15.0</td>\n",
              "      <td>6.0</td>\n",
              "      <td>2018.0</td>\n",
              "    </tr>\n",
              "  </tbody>\n",
              "</table>\n",
              "</div>"
            ],
            "text/plain": [
              "                     Hour  Total_Ed_Patients  Minute   day  month    year\n",
              "Date                                                                     \n",
              "2018-06-15 00:00:00   0.0               31.0     0.0  15.0    6.0  2018.0\n",
              "2018-06-15 01:00:00   1.0               26.0     0.0  15.0    6.0  2018.0\n",
              "2018-06-15 02:00:00   2.0               25.0     0.0  15.0    6.0  2018.0\n",
              "2018-06-15 03:00:00   3.0               19.0     0.0  15.0    6.0  2018.0\n",
              "2018-06-15 04:00:00   4.0               14.0     0.0  15.0    6.0  2018.0\n",
              "2018-06-15 05:00:00   5.0               13.0     0.0  15.0    6.0  2018.0\n",
              "2018-06-15 06:00:00   6.0               13.0     0.0  15.0    6.0  2018.0\n",
              "2018-06-15 07:00:00   7.0               17.0     0.0  15.0    6.0  2018.0\n",
              "2018-06-15 08:00:00   8.0               17.0     0.0  15.0    6.0  2018.0\n",
              "2018-06-15 09:00:00   9.0               15.0     0.0  15.0    6.0  2018.0\n",
              "2018-06-15 10:00:00  10.0               21.0     0.0  15.0    6.0  2018.0\n",
              "2018-06-15 11:00:00  11.0               31.0     0.0  15.0    6.0  2018.0\n",
              "2018-06-15 12:00:00  12.0               38.0     0.0  15.0    6.0  2018.0\n",
              "2018-06-15 13:00:00  13.0               42.0     0.0  15.0    6.0  2018.0\n",
              "2018-06-15 14:00:00  14.0               45.0     0.0  15.0    6.0  2018.0\n",
              "2018-06-15 15:00:00  15.0               48.0     0.0  15.0    6.0  2018.0\n",
              "2018-06-15 16:00:00  16.0               45.0     0.0  15.0    6.0  2018.0\n",
              "2018-06-15 17:00:00  17.0               39.0     0.0  15.0    6.0  2018.0\n",
              "2018-06-15 18:00:00  18.0               40.0     0.0  15.0    6.0  2018.0\n",
              "2018-06-15 19:00:00  19.0               37.0     0.0  15.0    6.0  2018.0\n",
              "2018-06-15 20:00:00  20.0               32.0     0.0  15.0    6.0  2018.0\n",
              "2018-06-15 21:00:00  21.0               25.0     0.0  15.0    6.0  2018.0\n",
              "2018-06-15 22:00:00  22.0               23.0     0.0  15.0    6.0  2018.0\n",
              "2018-06-15 23:00:00  23.0               30.0     0.0  15.0    6.0  2018.0"
            ]
          },
          "execution_count": 276,
          "metadata": {},
          "output_type": "execute_result"
        }
      ]
    },
    {
      "cell_type": "code",
      "metadata": {
        "id": "4a7c8f8b",
        "outputId": "18b6a8e6-ac79-45eb-c287-01f516581201"
      },
      "source": [
        "177-24"
      ],
      "id": "4a7c8f8b",
      "execution_count": null,
      "outputs": [
        {
          "data": {
            "text/plain": [
              "153"
            ]
          },
          "execution_count": 297,
          "metadata": {},
          "output_type": "execute_result"
        }
      ]
    },
    {
      "cell_type": "code",
      "metadata": {
        "id": "16e1fd12"
      },
      "source": [
        "train=df[:153]\n",
        "test=df[153:]"
      ],
      "id": "16e1fd12",
      "execution_count": null,
      "outputs": []
    },
    {
      "cell_type": "code",
      "metadata": {
        "id": "1be4ca6d",
        "outputId": "e21ad5b4-2841-4b0b-ddb1-610f8e6db8a2"
      },
      "source": [
        "test"
      ],
      "id": "1be4ca6d",
      "execution_count": null,
      "outputs": [
        {
          "data": {
            "text/html": [
              "<div>\n",
              "<style scoped>\n",
              "    .dataframe tbody tr th:only-of-type {\n",
              "        vertical-align: middle;\n",
              "    }\n",
              "\n",
              "    .dataframe tbody tr th {\n",
              "        vertical-align: top;\n",
              "    }\n",
              "\n",
              "    .dataframe thead th {\n",
              "        text-align: right;\n",
              "    }\n",
              "</style>\n",
              "<table border=\"1\" class=\"dataframe\">\n",
              "  <thead>\n",
              "    <tr style=\"text-align: right;\">\n",
              "      <th></th>\n",
              "      <th>Hour</th>\n",
              "      <th>Total_Ed_Patients</th>\n",
              "      <th>Minute</th>\n",
              "      <th>day</th>\n",
              "      <th>month</th>\n",
              "      <th>year</th>\n",
              "    </tr>\n",
              "    <tr>\n",
              "      <th>Date</th>\n",
              "      <th></th>\n",
              "      <th></th>\n",
              "      <th></th>\n",
              "      <th></th>\n",
              "      <th></th>\n",
              "      <th></th>\n",
              "    </tr>\n",
              "  </thead>\n",
              "  <tbody>\n",
              "    <tr>\n",
              "      <th>2018-06-15 00:00:00</th>\n",
              "      <td>0.0</td>\n",
              "      <td>31.0</td>\n",
              "      <td>0.0</td>\n",
              "      <td>15.0</td>\n",
              "      <td>6.0</td>\n",
              "      <td>2018.0</td>\n",
              "    </tr>\n",
              "    <tr>\n",
              "      <th>2018-06-15 01:00:00</th>\n",
              "      <td>1.0</td>\n",
              "      <td>26.0</td>\n",
              "      <td>0.0</td>\n",
              "      <td>15.0</td>\n",
              "      <td>6.0</td>\n",
              "      <td>2018.0</td>\n",
              "    </tr>\n",
              "    <tr>\n",
              "      <th>2018-06-15 02:00:00</th>\n",
              "      <td>2.0</td>\n",
              "      <td>25.0</td>\n",
              "      <td>0.0</td>\n",
              "      <td>15.0</td>\n",
              "      <td>6.0</td>\n",
              "      <td>2018.0</td>\n",
              "    </tr>\n",
              "    <tr>\n",
              "      <th>2018-06-15 03:00:00</th>\n",
              "      <td>3.0</td>\n",
              "      <td>19.0</td>\n",
              "      <td>0.0</td>\n",
              "      <td>15.0</td>\n",
              "      <td>6.0</td>\n",
              "      <td>2018.0</td>\n",
              "    </tr>\n",
              "    <tr>\n",
              "      <th>2018-06-15 04:00:00</th>\n",
              "      <td>4.0</td>\n",
              "      <td>14.0</td>\n",
              "      <td>0.0</td>\n",
              "      <td>15.0</td>\n",
              "      <td>6.0</td>\n",
              "      <td>2018.0</td>\n",
              "    </tr>\n",
              "    <tr>\n",
              "      <th>2018-06-15 05:00:00</th>\n",
              "      <td>5.0</td>\n",
              "      <td>13.0</td>\n",
              "      <td>0.0</td>\n",
              "      <td>15.0</td>\n",
              "      <td>6.0</td>\n",
              "      <td>2018.0</td>\n",
              "    </tr>\n",
              "    <tr>\n",
              "      <th>2018-06-15 06:00:00</th>\n",
              "      <td>6.0</td>\n",
              "      <td>13.0</td>\n",
              "      <td>0.0</td>\n",
              "      <td>15.0</td>\n",
              "      <td>6.0</td>\n",
              "      <td>2018.0</td>\n",
              "    </tr>\n",
              "    <tr>\n",
              "      <th>2018-06-15 07:00:00</th>\n",
              "      <td>7.0</td>\n",
              "      <td>17.0</td>\n",
              "      <td>0.0</td>\n",
              "      <td>15.0</td>\n",
              "      <td>6.0</td>\n",
              "      <td>2018.0</td>\n",
              "    </tr>\n",
              "    <tr>\n",
              "      <th>2018-06-15 08:00:00</th>\n",
              "      <td>8.0</td>\n",
              "      <td>17.0</td>\n",
              "      <td>0.0</td>\n",
              "      <td>15.0</td>\n",
              "      <td>6.0</td>\n",
              "      <td>2018.0</td>\n",
              "    </tr>\n",
              "    <tr>\n",
              "      <th>2018-06-15 09:00:00</th>\n",
              "      <td>9.0</td>\n",
              "      <td>15.0</td>\n",
              "      <td>0.0</td>\n",
              "      <td>15.0</td>\n",
              "      <td>6.0</td>\n",
              "      <td>2018.0</td>\n",
              "    </tr>\n",
              "    <tr>\n",
              "      <th>2018-06-15 10:00:00</th>\n",
              "      <td>10.0</td>\n",
              "      <td>21.0</td>\n",
              "      <td>0.0</td>\n",
              "      <td>15.0</td>\n",
              "      <td>6.0</td>\n",
              "      <td>2018.0</td>\n",
              "    </tr>\n",
              "    <tr>\n",
              "      <th>2018-06-15 11:00:00</th>\n",
              "      <td>11.0</td>\n",
              "      <td>31.0</td>\n",
              "      <td>0.0</td>\n",
              "      <td>15.0</td>\n",
              "      <td>6.0</td>\n",
              "      <td>2018.0</td>\n",
              "    </tr>\n",
              "    <tr>\n",
              "      <th>2018-06-15 12:00:00</th>\n",
              "      <td>12.0</td>\n",
              "      <td>38.0</td>\n",
              "      <td>0.0</td>\n",
              "      <td>15.0</td>\n",
              "      <td>6.0</td>\n",
              "      <td>2018.0</td>\n",
              "    </tr>\n",
              "    <tr>\n",
              "      <th>2018-06-15 13:00:00</th>\n",
              "      <td>13.0</td>\n",
              "      <td>42.0</td>\n",
              "      <td>0.0</td>\n",
              "      <td>15.0</td>\n",
              "      <td>6.0</td>\n",
              "      <td>2018.0</td>\n",
              "    </tr>\n",
              "    <tr>\n",
              "      <th>2018-06-15 14:00:00</th>\n",
              "      <td>14.0</td>\n",
              "      <td>45.0</td>\n",
              "      <td>0.0</td>\n",
              "      <td>15.0</td>\n",
              "      <td>6.0</td>\n",
              "      <td>2018.0</td>\n",
              "    </tr>\n",
              "    <tr>\n",
              "      <th>2018-06-15 15:00:00</th>\n",
              "      <td>15.0</td>\n",
              "      <td>48.0</td>\n",
              "      <td>0.0</td>\n",
              "      <td>15.0</td>\n",
              "      <td>6.0</td>\n",
              "      <td>2018.0</td>\n",
              "    </tr>\n",
              "    <tr>\n",
              "      <th>2018-06-15 16:00:00</th>\n",
              "      <td>16.0</td>\n",
              "      <td>45.0</td>\n",
              "      <td>0.0</td>\n",
              "      <td>15.0</td>\n",
              "      <td>6.0</td>\n",
              "      <td>2018.0</td>\n",
              "    </tr>\n",
              "    <tr>\n",
              "      <th>2018-06-15 17:00:00</th>\n",
              "      <td>17.0</td>\n",
              "      <td>39.0</td>\n",
              "      <td>0.0</td>\n",
              "      <td>15.0</td>\n",
              "      <td>6.0</td>\n",
              "      <td>2018.0</td>\n",
              "    </tr>\n",
              "    <tr>\n",
              "      <th>2018-06-15 18:00:00</th>\n",
              "      <td>18.0</td>\n",
              "      <td>40.0</td>\n",
              "      <td>0.0</td>\n",
              "      <td>15.0</td>\n",
              "      <td>6.0</td>\n",
              "      <td>2018.0</td>\n",
              "    </tr>\n",
              "    <tr>\n",
              "      <th>2018-06-15 19:00:00</th>\n",
              "      <td>19.0</td>\n",
              "      <td>37.0</td>\n",
              "      <td>0.0</td>\n",
              "      <td>15.0</td>\n",
              "      <td>6.0</td>\n",
              "      <td>2018.0</td>\n",
              "    </tr>\n",
              "    <tr>\n",
              "      <th>2018-06-15 20:00:00</th>\n",
              "      <td>20.0</td>\n",
              "      <td>32.0</td>\n",
              "      <td>0.0</td>\n",
              "      <td>15.0</td>\n",
              "      <td>6.0</td>\n",
              "      <td>2018.0</td>\n",
              "    </tr>\n",
              "    <tr>\n",
              "      <th>2018-06-15 21:00:00</th>\n",
              "      <td>21.0</td>\n",
              "      <td>25.0</td>\n",
              "      <td>0.0</td>\n",
              "      <td>15.0</td>\n",
              "      <td>6.0</td>\n",
              "      <td>2018.0</td>\n",
              "    </tr>\n",
              "    <tr>\n",
              "      <th>2018-06-15 22:00:00</th>\n",
              "      <td>22.0</td>\n",
              "      <td>23.0</td>\n",
              "      <td>0.0</td>\n",
              "      <td>15.0</td>\n",
              "      <td>6.0</td>\n",
              "      <td>2018.0</td>\n",
              "    </tr>\n",
              "    <tr>\n",
              "      <th>2018-06-15 23:00:00</th>\n",
              "      <td>23.0</td>\n",
              "      <td>30.0</td>\n",
              "      <td>0.0</td>\n",
              "      <td>15.0</td>\n",
              "      <td>6.0</td>\n",
              "      <td>2018.0</td>\n",
              "    </tr>\n",
              "  </tbody>\n",
              "</table>\n",
              "</div>"
            ],
            "text/plain": [
              "                     Hour  Total_Ed_Patients  Minute   day  month    year\n",
              "Date                                                                     \n",
              "2018-06-15 00:00:00   0.0               31.0     0.0  15.0    6.0  2018.0\n",
              "2018-06-15 01:00:00   1.0               26.0     0.0  15.0    6.0  2018.0\n",
              "2018-06-15 02:00:00   2.0               25.0     0.0  15.0    6.0  2018.0\n",
              "2018-06-15 03:00:00   3.0               19.0     0.0  15.0    6.0  2018.0\n",
              "2018-06-15 04:00:00   4.0               14.0     0.0  15.0    6.0  2018.0\n",
              "2018-06-15 05:00:00   5.0               13.0     0.0  15.0    6.0  2018.0\n",
              "2018-06-15 06:00:00   6.0               13.0     0.0  15.0    6.0  2018.0\n",
              "2018-06-15 07:00:00   7.0               17.0     0.0  15.0    6.0  2018.0\n",
              "2018-06-15 08:00:00   8.0               17.0     0.0  15.0    6.0  2018.0\n",
              "2018-06-15 09:00:00   9.0               15.0     0.0  15.0    6.0  2018.0\n",
              "2018-06-15 10:00:00  10.0               21.0     0.0  15.0    6.0  2018.0\n",
              "2018-06-15 11:00:00  11.0               31.0     0.0  15.0    6.0  2018.0\n",
              "2018-06-15 12:00:00  12.0               38.0     0.0  15.0    6.0  2018.0\n",
              "2018-06-15 13:00:00  13.0               42.0     0.0  15.0    6.0  2018.0\n",
              "2018-06-15 14:00:00  14.0               45.0     0.0  15.0    6.0  2018.0\n",
              "2018-06-15 15:00:00  15.0               48.0     0.0  15.0    6.0  2018.0\n",
              "2018-06-15 16:00:00  16.0               45.0     0.0  15.0    6.0  2018.0\n",
              "2018-06-15 17:00:00  17.0               39.0     0.0  15.0    6.0  2018.0\n",
              "2018-06-15 18:00:00  18.0               40.0     0.0  15.0    6.0  2018.0\n",
              "2018-06-15 19:00:00  19.0               37.0     0.0  15.0    6.0  2018.0\n",
              "2018-06-15 20:00:00  20.0               32.0     0.0  15.0    6.0  2018.0\n",
              "2018-06-15 21:00:00  21.0               25.0     0.0  15.0    6.0  2018.0\n",
              "2018-06-15 22:00:00  22.0               23.0     0.0  15.0    6.0  2018.0\n",
              "2018-06-15 23:00:00  23.0               30.0     0.0  15.0    6.0  2018.0"
            ]
          },
          "execution_count": 299,
          "metadata": {},
          "output_type": "execute_result"
        }
      ]
    },
    {
      "cell_type": "code",
      "metadata": {
        "id": "1834f3ab"
      },
      "source": [
        "from statsmodels.tsa.arima_model import ARIMA,ARIMAResults"
      ],
      "id": "1834f3ab",
      "execution_count": null,
      "outputs": []
    },
    {
      "cell_type": "code",
      "metadata": {
        "id": "eac9ad7b",
        "outputId": "1a8ad503-7a2b-42c9-f6df-83ba2776efaf"
      },
      "source": [
        "model=ARIMA(train['Total_Ed_Patients'],order=(2, 0, 1))\n",
        "result=model.fit()\n",
        "result.summary()"
      ],
      "id": "eac9ad7b",
      "execution_count": null,
      "outputs": [
        {
          "name": "stderr",
          "output_type": "stream",
          "text": [
            "C:\\Users\\Ntaoufi\\Anaconda3\\lib\\site-packages\\statsmodels\\tsa\\arima_model.py:472: FutureWarning: \n",
            "statsmodels.tsa.arima_model.ARMA and statsmodels.tsa.arima_model.ARIMA have\n",
            "been deprecated in favor of statsmodels.tsa.arima.model.ARIMA (note the .\n",
            "between arima and model) and\n",
            "statsmodels.tsa.SARIMAX. These will be removed after the 0.12 release.\n",
            "\n",
            "statsmodels.tsa.arima.model.ARIMA makes use of the statespace framework and\n",
            "is both well tested and maintained.\n",
            "\n",
            "To silence this warning and continue using ARMA and ARIMA until they are\n",
            "removed, use:\n",
            "\n",
            "import warnings\n",
            "warnings.filterwarnings('ignore', 'statsmodels.tsa.arima_model.ARMA',\n",
            "                        FutureWarning)\n",
            "warnings.filterwarnings('ignore', 'statsmodels.tsa.arima_model.ARIMA',\n",
            "                        FutureWarning)\n",
            "\n",
            "  warnings.warn(ARIMA_DEPRECATION_WARN, FutureWarning)\n"
          ]
        },
        {
          "data": {
            "text/html": [
              "<table class=\"simpletable\">\n",
              "<caption>ARMA Model Results</caption>\n",
              "<tr>\n",
              "  <th>Dep. Variable:</th> <td>Total_Ed_Patients</td> <th>  No. Observations:  </th>    <td>153</td>  \n",
              "</tr>\n",
              "<tr>\n",
              "  <th>Model:</th>            <td>ARMA(2, 1)</td>     <th>  Log Likelihood     </th> <td>-443.200</td>\n",
              "</tr>\n",
              "<tr>\n",
              "  <th>Method:</th>             <td>css-mle</td>      <th>  S.D. of innovations</th>   <td>4.337</td> \n",
              "</tr>\n",
              "<tr>\n",
              "  <th>Date:</th>          <td>Mon, 13 Sep 2021</td>  <th>  AIC                </th>  <td>896.401</td>\n",
              "</tr>\n",
              "<tr>\n",
              "  <th>Time:</th>              <td>12:31:56</td>      <th>  BIC                </th>  <td>911.553</td>\n",
              "</tr>\n",
              "<tr>\n",
              "  <th>Sample:</th>           <td>06-08-2018</td>     <th>  HQIC               </th>  <td>902.556</td>\n",
              "</tr>\n",
              "<tr>\n",
              "  <th></th>                 <td>- 06-14-2018</td>    <th>                     </th>     <td> </td>   \n",
              "</tr>\n",
              "</table>\n",
              "<table class=\"simpletable\">\n",
              "<tr>\n",
              "             <td></td>                <th>coef</th>     <th>std err</th>      <th>z</th>      <th>P>|z|</th>  <th>[0.025</th>    <th>0.975]</th>  \n",
              "</tr>\n",
              "<tr>\n",
              "  <th>const</th>                   <td>   33.3979</td> <td>    1.475</td> <td>   22.636</td> <td> 0.000</td> <td>   30.506</td> <td>   36.290</td>\n",
              "</tr>\n",
              "<tr>\n",
              "  <th>ar.L1.Total_Ed_Patients</th> <td>    1.8583</td> <td>    0.035</td> <td>   52.735</td> <td> 0.000</td> <td>    1.789</td> <td>    1.927</td>\n",
              "</tr>\n",
              "<tr>\n",
              "  <th>ar.L2.Total_Ed_Patients</th> <td>   -0.9221</td> <td>    0.033</td> <td>  -27.702</td> <td> 0.000</td> <td>   -0.987</td> <td>   -0.857</td>\n",
              "</tr>\n",
              "<tr>\n",
              "  <th>ma.L1.Total_Ed_Patients</th> <td>   -0.7364</td> <td>    0.060</td> <td>  -12.210</td> <td> 0.000</td> <td>   -0.855</td> <td>   -0.618</td>\n",
              "</tr>\n",
              "</table>\n",
              "<table class=\"simpletable\">\n",
              "<caption>Roots</caption>\n",
              "<tr>\n",
              "    <td></td>   <th>            Real</th>  <th>         Imaginary</th> <th>         Modulus</th>  <th>        Frequency</th>\n",
              "</tr>\n",
              "<tr>\n",
              "  <th>AR.1</th> <td>           1.0076</td> <td>          -0.2630j</td> <td>           1.0414</td> <td>          -0.0406</td>\n",
              "</tr>\n",
              "<tr>\n",
              "  <th>AR.2</th> <td>           1.0076</td> <td>          +0.2630j</td> <td>           1.0414</td> <td>           0.0406</td>\n",
              "</tr>\n",
              "<tr>\n",
              "  <th>MA.1</th> <td>           1.3580</td> <td>          +0.0000j</td> <td>           1.3580</td> <td>           0.0000</td>\n",
              "</tr>\n",
              "</table>"
            ],
            "text/plain": [
              "<class 'statsmodels.iolib.summary.Summary'>\n",
              "\"\"\"\n",
              "                              ARMA Model Results                              \n",
              "==============================================================================\n",
              "Dep. Variable:      Total_Ed_Patients   No. Observations:                  153\n",
              "Model:                     ARMA(2, 1)   Log Likelihood                -443.200\n",
              "Method:                       css-mle   S.D. of innovations              4.337\n",
              "Date:                Mon, 13 Sep 2021   AIC                            896.401\n",
              "Time:                        12:31:56   BIC                            911.553\n",
              "Sample:                    06-08-2018   HQIC                           902.556\n",
              "                         - 06-14-2018                                         \n",
              "===========================================================================================\n",
              "                              coef    std err          z      P>|z|      [0.025      0.975]\n",
              "-------------------------------------------------------------------------------------------\n",
              "const                      33.3979      1.475     22.636      0.000      30.506      36.290\n",
              "ar.L1.Total_Ed_Patients     1.8583      0.035     52.735      0.000       1.789       1.927\n",
              "ar.L2.Total_Ed_Patients    -0.9221      0.033    -27.702      0.000      -0.987      -0.857\n",
              "ma.L1.Total_Ed_Patients    -0.7364      0.060    -12.210      0.000      -0.855      -0.618\n",
              "                                    Roots                                    \n",
              "=============================================================================\n",
              "                  Real          Imaginary           Modulus         Frequency\n",
              "-----------------------------------------------------------------------------\n",
              "AR.1            1.0076           -0.2630j            1.0414           -0.0406\n",
              "AR.2            1.0076           +0.2630j            1.0414            0.0406\n",
              "MA.1            1.3580           +0.0000j            1.3580            0.0000\n",
              "-----------------------------------------------------------------------------\n",
              "\"\"\""
            ]
          },
          "execution_count": 302,
          "metadata": {},
          "output_type": "execute_result"
        }
      ]
    },
    {
      "cell_type": "code",
      "metadata": {
        "id": "f3995547"
      },
      "source": [
        "start=len(train)\n",
        "end=len(train)+len(test)-1"
      ],
      "id": "f3995547",
      "execution_count": null,
      "outputs": []
    },
    {
      "cell_type": "code",
      "metadata": {
        "id": "0ac2edde"
      },
      "source": [
        "predictions=result.predict(start,end,typ='levels').rename('prediction using ARIMA')"
      ],
      "id": "0ac2edde",
      "execution_count": null,
      "outputs": []
    },
    {
      "cell_type": "code",
      "metadata": {
        "id": "ad8a9d5a",
        "outputId": "d81ef618-0d77-4f64-d4ea-2cee1dd79fe8"
      },
      "source": [
        "test['Total_Ed_Patients']"
      ],
      "id": "ad8a9d5a",
      "execution_count": null,
      "outputs": [
        {
          "data": {
            "text/plain": [
              "Date\n",
              "2018-06-15 00:00:00    31.0\n",
              "2018-06-15 01:00:00    26.0\n",
              "2018-06-15 02:00:00    25.0\n",
              "2018-06-15 03:00:00    19.0\n",
              "2018-06-15 04:00:00    14.0\n",
              "2018-06-15 05:00:00    13.0\n",
              "2018-06-15 06:00:00    13.0\n",
              "2018-06-15 07:00:00    17.0\n",
              "2018-06-15 08:00:00    17.0\n",
              "2018-06-15 09:00:00    15.0\n",
              "2018-06-15 10:00:00    21.0\n",
              "2018-06-15 11:00:00    31.0\n",
              "2018-06-15 12:00:00    38.0\n",
              "2018-06-15 13:00:00    42.0\n",
              "2018-06-15 14:00:00    45.0\n",
              "2018-06-15 15:00:00    48.0\n",
              "2018-06-15 16:00:00    45.0\n",
              "2018-06-15 17:00:00    39.0\n",
              "2018-06-15 18:00:00    40.0\n",
              "2018-06-15 19:00:00    37.0\n",
              "2018-06-15 20:00:00    32.0\n",
              "2018-06-15 21:00:00    25.0\n",
              "2018-06-15 22:00:00    23.0\n",
              "2018-06-15 23:00:00    30.0\n",
              "Freq: H, Name: Total_Ed_Patients, dtype: float64"
            ]
          },
          "execution_count": 305,
          "metadata": {},
          "output_type": "execute_result"
        }
      ]
    },
    {
      "cell_type": "code",
      "metadata": {
        "id": "8e05593c",
        "outputId": "b6f4a081-4934-4831-9c2e-e94f846f6ad6"
      },
      "source": [
        "predictions"
      ],
      "id": "8e05593c",
      "execution_count": null,
      "outputs": [
        {
          "data": {
            "text/plain": [
              "2018-06-15 00:00:00    29.055683\n",
              "2018-06-15 01:00:00    25.695773\n",
              "2018-06-15 02:00:00    23.089317\n",
              "2018-06-15 03:00:00    21.344086\n",
              "2018-06-15 04:00:00    20.504462\n",
              "2018-06-15 05:00:00    20.553546\n",
              "2018-06-15 06:00:00    21.419001\n",
              "2018-06-15 07:00:00    22.981995\n",
              "2018-06-15 08:00:00    25.088406\n",
              "2018-06-15 09:00:00    27.561410\n",
              "2018-06-15 10:00:00    30.214545\n",
              "2018-06-15 11:00:00    32.864365\n",
              "2018-06-15 12:00:00    35.341918\n",
              "2018-06-15 13:00:00    37.502411\n",
              "2018-06-15 14:00:00    39.232571\n",
              "2018-06-15 15:00:00    40.455423\n",
              "2018-06-15 16:00:00    41.132383\n",
              "2018-06-15 17:00:00    41.262730\n",
              "2018-06-15 18:00:00    40.880702\n",
              "2018-06-15 19:00:00    40.050592\n",
              "2018-06-15 20:00:00    38.860299\n",
              "2018-06-15 21:00:00    37.413877\n",
              "2018-06-15 22:00:00    35.823633\n",
              "2018-06-15 23:00:00    34.202314\n",
              "Freq: H, Name: prediction using ARIMA, dtype: float64"
            ]
          },
          "execution_count": 306,
          "metadata": {},
          "output_type": "execute_result"
        }
      ]
    },
    {
      "cell_type": "code",
      "metadata": {
        "id": "94cc939a",
        "outputId": "a10c0655-77e8-4700-9ff8-ad6b2f357c60"
      },
      "source": [
        "test['Total_Ed_Patients'].plot(legend=True)\n",
        "predictions.plot(legend=True)\n"
      ],
      "id": "94cc939a",
      "execution_count": null,
      "outputs": [
        {
          "data": {
            "text/plain": [
              "<AxesSubplot:xlabel='Date'>"
            ]
          },
          "execution_count": 307,
          "metadata": {},
          "output_type": "execute_result"
        },
        {
          "data": {
            "image/png": "[encoded data removed]",
            "text/plain": [
              "<Figure size 432x288 with 1 Axes>"
            ]
          },
          "metadata": {
            "needs_background": "light"
          },
          "output_type": "display_data"
        }
      ]
    },
    {
      "cell_type": "code",
      "metadata": {
        "id": "f30ac2dc"
      },
      "source": [
        "from statsmodels.tools.eval_measures import rmse"
      ],
      "id": "f30ac2dc",
      "execution_count": null,
      "outputs": []
    },
    {
      "cell_type": "code",
      "metadata": {
        "id": "53501195",
        "outputId": "5a8a688d-e922-4188-8cf2-8352a00fbe64"
      },
      "source": [
        "rmse(test['Total_Ed_Patients'],predictions)"
      ],
      "id": "53501195",
      "execution_count": null,
      "outputs": [
        {
          "data": {
            "text/plain": [
              "6.6506644453694"
            ]
          },
          "execution_count": 309,
          "metadata": {},
          "output_type": "execute_result"
        }
      ]
    },
    {
      "cell_type": "code",
      "metadata": {
        "id": "264f3461",
        "outputId": "0a9e1263-9913-4f79-e52d-1f682ae5bec9"
      },
      "source": [
        "test['Total_Ed_Patients'].mean()"
      ],
      "id": "264f3461",
      "execution_count": null,
      "outputs": [
        {
          "data": {
            "text/plain": [
              "28.583333333333332"
            ]
          },
          "execution_count": 310,
          "metadata": {},
          "output_type": "execute_result"
        }
      ]
    },
    {
      "cell_type": "code",
      "metadata": {
        "id": "e9e0caba",
        "outputId": "876195b1-0917-478e-bdca-202c1759fc10"
      },
      "source": [
        "#test the performace with SARIMA\n",
        "auto_arima(df['Total_Ed_Patients'],seasonal=True,trace=True,m=24).summary()   #M=24 HOURLY "
      ],
      "id": "e9e0caba",
      "execution_count": null,
      "outputs": [
        {
          "name": "stdout",
          "output_type": "stream",
          "text": [
            "Performing stepwise search to minimize aic\n",
            " ARIMA(2,0,2)(1,0,1)[24] intercept   : AIC=inf, Time=2.52 sec\n",
            " ARIMA(0,0,0)(0,0,0)[24] intercept   : AIC=1463.259, Time=0.01 sec\n",
            " ARIMA(1,0,0)(1,0,0)[24] intercept   : AIC=1061.791, Time=0.44 sec\n",
            " ARIMA(0,0,1)(0,0,1)[24] intercept   : AIC=1233.026, Time=0.43 sec\n",
            " ARIMA(0,0,0)(0,0,0)[24]             : AIC=1778.879, Time=0.01 sec\n",
            " ARIMA(1,0,0)(0,0,0)[24] intercept   : AIC=1097.932, Time=0.03 sec\n",
            " ARIMA(1,0,0)(2,0,0)[24] intercept   : AIC=1060.472, Time=1.91 sec\n",
            " ARIMA(1,0,0)(2,0,1)[24] intercept   : AIC=inf, Time=5.84 sec\n",
            " ARIMA(1,0,0)(1,0,1)[24] intercept   : AIC=inf, Time=1.22 sec\n",
            " ARIMA(0,0,0)(2,0,0)[24] intercept   : AIC=inf, Time=3.69 sec\n",
            " ARIMA(2,0,0)(2,0,0)[24] intercept   : AIC=1050.134, Time=2.83 sec\n",
            " ARIMA(2,0,0)(1,0,0)[24] intercept   : AIC=1049.813, Time=0.72 sec\n",
            " ARIMA(2,0,0)(0,0,0)[24] intercept   : AIC=1054.315, Time=0.05 sec\n",
            " ARIMA(2,0,0)(1,0,1)[24] intercept   : AIC=inf, Time=1.50 sec\n",
            " ARIMA(2,0,0)(0,0,1)[24] intercept   : AIC=1050.950, Time=0.40 sec\n",
            " ARIMA(2,0,0)(2,0,1)[24] intercept   : AIC=inf, Time=6.61 sec\n",
            " ARIMA(3,0,0)(1,0,0)[24] intercept   : AIC=1042.167, Time=0.84 sec\n",
            " ARIMA(3,0,0)(0,0,0)[24] intercept   : AIC=1042.646, Time=0.08 sec\n",
            " ARIMA(3,0,0)(2,0,0)[24] intercept   : AIC=1044.157, Time=4.16 sec\n",
            " ARIMA(3,0,0)(1,0,1)[24] intercept   : AIC=inf, Time=1.91 sec\n",
            " ARIMA(3,0,0)(0,0,1)[24] intercept   : AIC=1041.961, Time=0.57 sec\n",
            " ARIMA(3,0,0)(0,0,2)[24] intercept   : AIC=1043.333, Time=2.38 sec\n",
            " ARIMA(3,0,0)(1,0,2)[24] intercept   : AIC=inf, Time=6.28 sec\n",
            " ARIMA(4,0,0)(0,0,1)[24] intercept   : AIC=1038.343, Time=0.80 sec\n",
            " ARIMA(4,0,0)(0,0,0)[24] intercept   : AIC=1039.411, Time=0.08 sec\n",
            " ARIMA(4,0,0)(1,0,1)[24] intercept   : AIC=inf, Time=1.86 sec\n",
            " ARIMA(4,0,0)(0,0,2)[24] intercept   : AIC=1038.869, Time=2.76 sec\n",
            " ARIMA(4,0,0)(1,0,0)[24] intercept   : AIC=1038.839, Time=1.37 sec\n",
            " ARIMA(4,0,0)(1,0,2)[24] intercept   : AIC=inf, Time=5.93 sec\n",
            " ARIMA(5,0,0)(0,0,1)[24] intercept   : AIC=1032.401, Time=0.79 sec\n",
            " ARIMA(5,0,0)(0,0,0)[24] intercept   : AIC=1033.707, Time=0.14 sec\n",
            " ARIMA(5,0,0)(1,0,1)[24] intercept   : AIC=inf, Time=2.51 sec\n",
            " ARIMA(5,0,0)(0,0,2)[24] intercept   : AIC=1033.225, Time=3.80 sec\n",
            " ARIMA(5,0,0)(1,0,0)[24] intercept   : AIC=1032.872, Time=2.97 sec\n",
            " ARIMA(5,0,0)(1,0,2)[24] intercept   : AIC=inf, Time=9.46 sec\n",
            " ARIMA(5,0,1)(0,0,1)[24] intercept   : AIC=1030.228, Time=1.78 sec\n",
            " ARIMA(5,0,1)(0,0,0)[24] intercept   : AIC=1030.943, Time=0.37 sec\n",
            " ARIMA(5,0,1)(1,0,1)[24] intercept   : AIC=1029.479, Time=2.99 sec\n",
            " ARIMA(5,0,1)(1,0,0)[24] intercept   : AIC=1030.647, Time=2.74 sec\n",
            " ARIMA(5,0,1)(2,0,1)[24] intercept   : AIC=1035.765, Time=12.52 sec\n",
            " ARIMA(5,0,1)(1,0,2)[24] intercept   : AIC=inf, Time=9.49 sec\n",
            " ARIMA(5,0,1)(0,0,2)[24] intercept   : AIC=1030.997, Time=6.93 sec\n",
            " ARIMA(5,0,1)(2,0,0)[24] intercept   : AIC=1032.077, Time=9.24 sec\n",
            " ARIMA(5,0,1)(2,0,2)[24] intercept   : AIC=inf, Time=11.20 sec\n",
            " ARIMA(4,0,1)(1,0,1)[24] intercept   : AIC=inf, Time=2.23 sec\n",
            " ARIMA(5,0,2)(1,0,1)[24] intercept   : AIC=1039.078, Time=3.47 sec\n",
            " ARIMA(4,0,2)(1,0,1)[24] intercept   : AIC=inf, Time=2.26 sec\n",
            " ARIMA(5,0,1)(1,0,1)[24]             : AIC=inf, Time=2.51 sec\n",
            "\n",
            "Best model:  ARIMA(5,0,1)(1,0,1)[24] intercept\n",
            "Total fit time: 144.661 seconds\n"
          ]
        },
        {
          "data": {
            "text/html": [
              "<table class=\"simpletable\">\n",
              "<caption>SARIMAX Results</caption>\n",
              "<tr>\n",
              "  <th>Dep. Variable:</th>                  <td>y</td>               <th>  No. Observations:  </th>    <td>177</td>  \n",
              "</tr>\n",
              "<tr>\n",
              "  <th>Model:</th>           <td>SARIMAX(5, 0, 1)x(1, 0, 1, 24)</td> <th>  Log Likelihood     </th> <td>-504.740</td>\n",
              "</tr>\n",
              "<tr>\n",
              "  <th>Date:</th>                   <td>Mon, 13 Sep 2021</td>        <th>  AIC                </th> <td>1029.479</td>\n",
              "</tr>\n",
              "<tr>\n",
              "  <th>Time:</th>                       <td>12:34:57</td>            <th>  BIC                </th> <td>1061.240</td>\n",
              "</tr>\n",
              "<tr>\n",
              "  <th>Sample:</th>                         <td>0</td>               <th>  HQIC               </th> <td>1042.360</td>\n",
              "</tr>\n",
              "<tr>\n",
              "  <th></th>                             <td> - 177</td>             <th>                     </th>     <td> </td>   \n",
              "</tr>\n",
              "<tr>\n",
              "  <th>Covariance Type:</th>               <td>opg</td>              <th>                     </th>     <td> </td>   \n",
              "</tr>\n",
              "</table>\n",
              "<table class=\"simpletable\">\n",
              "<tr>\n",
              "      <td></td>         <th>coef</th>     <th>std err</th>      <th>z</th>      <th>P>|z|</th>  <th>[0.025</th>    <th>0.975]</th>  \n",
              "</tr>\n",
              "<tr>\n",
              "  <th>intercept</th> <td>    3.9651</td> <td>    1.794</td> <td>    2.210</td> <td> 0.027</td> <td>    0.449</td> <td>    7.482</td>\n",
              "</tr>\n",
              "<tr>\n",
              "  <th>ar.L1</th>     <td>    1.7746</td> <td>    0.204</td> <td>    8.693</td> <td> 0.000</td> <td>    1.374</td> <td>    2.175</td>\n",
              "</tr>\n",
              "<tr>\n",
              "  <th>ar.L2</th>     <td>   -0.8149</td> <td>    0.249</td> <td>   -3.269</td> <td> 0.001</td> <td>   -1.303</td> <td>   -0.326</td>\n",
              "</tr>\n",
              "<tr>\n",
              "  <th>ar.L3</th>     <td>   -0.0547</td> <td>    0.208</td> <td>   -0.264</td> <td> 0.792</td> <td>   -0.462</td> <td>    0.352</td>\n",
              "</tr>\n",
              "<tr>\n",
              "  <th>ar.L4</th>     <td>    0.0879</td> <td>    0.178</td> <td>    0.495</td> <td> 0.621</td> <td>   -0.260</td> <td>    0.436</td>\n",
              "</tr>\n",
              "<tr>\n",
              "  <th>ar.L5</th>     <td>   -0.0682</td> <td>    0.099</td> <td>   -0.691</td> <td> 0.489</td> <td>   -0.262</td> <td>    0.125</td>\n",
              "</tr>\n",
              "<tr>\n",
              "  <th>ma.L1</th>     <td>   -0.6967</td> <td>    0.191</td> <td>   -3.655</td> <td> 0.000</td> <td>   -1.070</td> <td>   -0.323</td>\n",
              "</tr>\n",
              "<tr>\n",
              "  <th>ar.S.L24</th>  <td>   -0.5885</td> <td>    0.370</td> <td>   -1.592</td> <td> 0.111</td> <td>   -1.313</td> <td>    0.136</td>\n",
              "</tr>\n",
              "<tr>\n",
              "  <th>ma.S.L24</th>  <td>    0.7776</td> <td>    0.368</td> <td>    2.113</td> <td> 0.035</td> <td>    0.056</td> <td>    1.499</td>\n",
              "</tr>\n",
              "<tr>\n",
              "  <th>sigma2</th>    <td>   16.9151</td> <td>    1.667</td> <td>   10.146</td> <td> 0.000</td> <td>   13.647</td> <td>   20.183</td>\n",
              "</tr>\n",
              "</table>\n",
              "<table class=\"simpletable\">\n",
              "<tr>\n",
              "  <th>Ljung-Box (L1) (Q):</th>     <td>0.00</td> <th>  Jarque-Bera (JB):  </th> <td>34.29</td>\n",
              "</tr>\n",
              "<tr>\n",
              "  <th>Prob(Q):</th>                <td>0.98</td> <th>  Prob(JB):          </th> <td>0.00</td> \n",
              "</tr>\n",
              "<tr>\n",
              "  <th>Heteroskedasticity (H):</th> <td>1.02</td> <th>  Skew:              </th> <td>0.12</td> \n",
              "</tr>\n",
              "<tr>\n",
              "  <th>Prob(H) (two-sided):</th>    <td>0.94</td> <th>  Kurtosis:          </th> <td>5.14</td> \n",
              "</tr>\n",
              "</table><br/><br/>Warnings:<br/>[1] Covariance matrix calculated using the outer product of gradients (complex-step)."
            ],
            "text/plain": [
              "<class 'statsmodels.iolib.summary.Summary'>\n",
              "\"\"\"\n",
              "                                     SARIMAX Results                                      \n",
              "==========================================================================================\n",
              "Dep. Variable:                                  y   No. Observations:                  177\n",
              "Model:             SARIMAX(5, 0, 1)x(1, 0, 1, 24)   Log Likelihood                -504.740\n",
              "Date:                            Mon, 13 Sep 2021   AIC                           1029.479\n",
              "Time:                                    12:34:57   BIC                           1061.240\n",
              "Sample:                                         0   HQIC                          1042.360\n",
              "                                            - 177                                         \n",
              "Covariance Type:                              opg                                         \n",
              "==============================================================================\n",
              "                 coef    std err          z      P>|z|      [0.025      0.975]\n",
              "------------------------------------------------------------------------------\n",
              "intercept      3.9651      1.794      2.210      0.027       0.449       7.482\n",
              "ar.L1          1.7746      0.204      8.693      0.000       1.374       2.175\n",
              "ar.L2         -0.8149      0.249     -3.269      0.001      -1.303      -0.326\n",
              "ar.L3         -0.0547      0.208     -0.264      0.792      -0.462       0.352\n",
              "ar.L4          0.0879      0.178      0.495      0.621      -0.260       0.436\n",
              "ar.L5         -0.0682      0.099     -0.691      0.489      -0.262       0.125\n",
              "ma.L1         -0.6967      0.191     -3.655      0.000      -1.070      -0.323\n",
              "ar.S.L24      -0.5885      0.370     -1.592      0.111      -1.313       0.136\n",
              "ma.S.L24       0.7776      0.368      2.113      0.035       0.056       1.499\n",
              "sigma2        16.9151      1.667     10.146      0.000      13.647      20.183\n",
              "===================================================================================\n",
              "Ljung-Box (L1) (Q):                   0.00   Jarque-Bera (JB):                34.29\n",
              "Prob(Q):                              0.98   Prob(JB):                         0.00\n",
              "Heteroskedasticity (H):               1.02   Skew:                             0.12\n",
              "Prob(H) (two-sided):                  0.94   Kurtosis:                         5.14\n",
              "===================================================================================\n",
              "\n",
              "Warnings:\n",
              "[1] Covariance matrix calculated using the outer product of gradients (complex-step).\n",
              "\"\"\""
            ]
          },
          "execution_count": 312,
          "metadata": {},
          "output_type": "execute_result"
        }
      ]
    },
    {
      "cell_type": "code",
      "metadata": {
        "id": "dc86c7b3"
      },
      "source": [
        "from statsmodels.tsa.statespace.sarimax import SARIMAX"
      ],
      "id": "dc86c7b3",
      "execution_count": null,
      "outputs": []
    },
    {
      "cell_type": "code",
      "metadata": {
        "id": "5b802f6a"
      },
      "source": [
        "#(5,0,1)(1,0,1)[24]\n",
        "\n",
        "model=SARIMAX(train['Total_Ed_Patients'],order=(5,0,1),seasonal_order=(1,0,1,24))"
      ],
      "id": "5b802f6a",
      "execution_count": null,
      "outputs": []
    },
    {
      "cell_type": "code",
      "metadata": {
        "id": "ca94a2fb",
        "outputId": "401fe876-19f4-4747-e214-3c0ac89d8940"
      },
      "source": [
        "results=model.fit()"
      ],
      "id": "ca94a2fb",
      "execution_count": null,
      "outputs": [
        {
          "name": "stderr",
          "output_type": "stream",
          "text": [
            "C:\\Users\\Ntaoufi\\Anaconda3\\lib\\site-packages\\statsmodels\\tsa\\statespace\\sarimax.py:997: UserWarning: Non-stationary starting seasonal autoregressive Using zeros as starting parameters.\n",
            "  warn('Non-stationary starting seasonal autoregressive'\n"
          ]
        }
      ]
    },
    {
      "cell_type": "code",
      "metadata": {
        "id": "fbe77bce",
        "outputId": "2cc28da8-ddc7-4930-afc0-072b5e30dd1a"
      },
      "source": [
        "results.summary()"
      ],
      "id": "fbe77bce",
      "execution_count": null,
      "outputs": [
        {
          "data": {
            "text/html": [
              "<table class=\"simpletable\">\n",
              "<caption>SARIMAX Results</caption>\n",
              "<tr>\n",
              "  <th>Dep. Variable:</th>          <td>Total_Ed_Patients</td>       <th>  No. Observations:  </th>    <td>153</td>  \n",
              "</tr>\n",
              "<tr>\n",
              "  <th>Model:</th>           <td>SARIMAX(5, 0, 1)x(1, 0, 1, 24)</td> <th>  Log Likelihood     </th> <td>-453.189</td>\n",
              "</tr>\n",
              "<tr>\n",
              "  <th>Date:</th>                   <td>Mon, 13 Sep 2021</td>        <th>  AIC                </th>  <td>924.377</td>\n",
              "</tr>\n",
              "<tr>\n",
              "  <th>Time:</th>                       <td>12:35:37</td>            <th>  BIC                </th>  <td>951.651</td>\n",
              "</tr>\n",
              "<tr>\n",
              "  <th>Sample:</th>                    <td>06-08-2018</td>           <th>  HQIC               </th>  <td>935.456</td>\n",
              "</tr>\n",
              "<tr>\n",
              "  <th></th>                          <td>- 06-14-2018</td>          <th>                     </th>     <td> </td>   \n",
              "</tr>\n",
              "<tr>\n",
              "  <th>Covariance Type:</th>               <td>opg</td>              <th>                     </th>     <td> </td>   \n",
              "</tr>\n",
              "</table>\n",
              "<table class=\"simpletable\">\n",
              "<tr>\n",
              "      <td></td>        <th>coef</th>     <th>std err</th>      <th>z</th>      <th>P>|z|</th>  <th>[0.025</th>    <th>0.975]</th>  \n",
              "</tr>\n",
              "<tr>\n",
              "  <th>ar.L1</th>    <td>    0.4288</td> <td>    0.404</td> <td>    1.063</td> <td> 0.288</td> <td>   -0.362</td> <td>    1.220</td>\n",
              "</tr>\n",
              "<tr>\n",
              "  <th>ar.L2</th>    <td>    0.7658</td> <td>    0.501</td> <td>    1.527</td> <td> 0.127</td> <td>   -0.217</td> <td>    1.748</td>\n",
              "</tr>\n",
              "<tr>\n",
              "  <th>ar.L3</th>    <td>   -0.2027</td> <td>    0.117</td> <td>   -1.734</td> <td> 0.083</td> <td>   -0.432</td> <td>    0.026</td>\n",
              "</tr>\n",
              "<tr>\n",
              "  <th>ar.L4</th>    <td>    0.0056</td> <td>    0.167</td> <td>    0.034</td> <td> 0.973</td> <td>   -0.321</td> <td>    0.333</td>\n",
              "</tr>\n",
              "<tr>\n",
              "  <th>ar.L5</th>    <td>   -0.0615</td> <td>    0.107</td> <td>   -0.573</td> <td> 0.567</td> <td>   -0.272</td> <td>    0.149</td>\n",
              "</tr>\n",
              "<tr>\n",
              "  <th>ma.L1</th>    <td>    0.7281</td> <td>    0.412</td> <td>    1.766</td> <td> 0.077</td> <td>   -0.080</td> <td>    1.536</td>\n",
              "</tr>\n",
              "<tr>\n",
              "  <th>ar.S.L24</th> <td>    0.9963</td> <td>    0.097</td> <td>   10.276</td> <td> 0.000</td> <td>    0.806</td> <td>    1.186</td>\n",
              "</tr>\n",
              "<tr>\n",
              "  <th>ma.S.L24</th> <td>   -0.9435</td> <td>    0.723</td> <td>   -1.305</td> <td> 0.192</td> <td>   -2.361</td> <td>    0.474</td>\n",
              "</tr>\n",
              "<tr>\n",
              "  <th>sigma2</th>   <td>   18.2813</td> <td>   10.484</td> <td>    1.744</td> <td> 0.081</td> <td>   -2.267</td> <td>   38.829</td>\n",
              "</tr>\n",
              "</table>\n",
              "<table class=\"simpletable\">\n",
              "<tr>\n",
              "  <th>Ljung-Box (L1) (Q):</th>     <td>0.04</td> <th>  Jarque-Bera (JB):  </th> <td>20.81</td>\n",
              "</tr>\n",
              "<tr>\n",
              "  <th>Prob(Q):</th>                <td>0.84</td> <th>  Prob(JB):          </th> <td>0.00</td> \n",
              "</tr>\n",
              "<tr>\n",
              "  <th>Heteroskedasticity (H):</th> <td>0.98</td> <th>  Skew:              </th> <td>0.13</td> \n",
              "</tr>\n",
              "<tr>\n",
              "  <th>Prob(H) (two-sided):</th>    <td>0.94</td> <th>  Kurtosis:          </th> <td>4.79</td> \n",
              "</tr>\n",
              "</table><br/><br/>Warnings:<br/>[1] Covariance matrix calculated using the outer product of gradients (complex-step)."
            ],
            "text/plain": [
              "<class 'statsmodels.iolib.summary.Summary'>\n",
              "\"\"\"\n",
              "                                     SARIMAX Results                                      \n",
              "==========================================================================================\n",
              "Dep. Variable:                  Total_Ed_Patients   No. Observations:                  153\n",
              "Model:             SARIMAX(5, 0, 1)x(1, 0, 1, 24)   Log Likelihood                -453.189\n",
              "Date:                            Mon, 13 Sep 2021   AIC                            924.377\n",
              "Time:                                    12:35:37   BIC                            951.651\n",
              "Sample:                                06-08-2018   HQIC                           935.456\n",
              "                                     - 06-14-2018                                         \n",
              "Covariance Type:                              opg                                         \n",
              "==============================================================================\n",
              "                 coef    std err          z      P>|z|      [0.025      0.975]\n",
              "------------------------------------------------------------------------------\n",
              "ar.L1          0.4288      0.404      1.063      0.288      -0.362       1.220\n",
              "ar.L2          0.7658      0.501      1.527      0.127      -0.217       1.748\n",
              "ar.L3         -0.2027      0.117     -1.734      0.083      -0.432       0.026\n",
              "ar.L4          0.0056      0.167      0.034      0.973      -0.321       0.333\n",
              "ar.L5         -0.0615      0.107     -0.573      0.567      -0.272       0.149\n",
              "ma.L1          0.7281      0.412      1.766      0.077      -0.080       1.536\n",
              "ar.S.L24       0.9963      0.097     10.276      0.000       0.806       1.186\n",
              "ma.S.L24      -0.9435      0.723     -1.305      0.192      -2.361       0.474\n",
              "sigma2        18.2813     10.484      1.744      0.081      -2.267      38.829\n",
              "===================================================================================\n",
              "Ljung-Box (L1) (Q):                   0.04   Jarque-Bera (JB):                20.81\n",
              "Prob(Q):                              0.84   Prob(JB):                         0.00\n",
              "Heteroskedasticity (H):               0.98   Skew:                             0.13\n",
              "Prob(H) (two-sided):                  0.94   Kurtosis:                         4.79\n",
              "===================================================================================\n",
              "\n",
              "Warnings:\n",
              "[1] Covariance matrix calculated using the outer product of gradients (complex-step).\n",
              "\"\"\""
            ]
          },
          "execution_count": 315,
          "metadata": {},
          "output_type": "execute_result"
        }
      ]
    },
    {
      "cell_type": "code",
      "metadata": {
        "id": "1c8c308c"
      },
      "source": [
        "start=len(train)\n",
        "end=len(train)+len(test)-1\n",
        "predictions=results.predict(start,end,typ='levels').rename('SARIMA Predictions')"
      ],
      "id": "1c8c308c",
      "execution_count": null,
      "outputs": []
    },
    {
      "cell_type": "code",
      "metadata": {
        "id": "7e2f323e",
        "outputId": "be03faa2-34c1-475b-8a60-e31761801e9d"
      },
      "source": [
        "test"
      ],
      "id": "7e2f323e",
      "execution_count": null,
      "outputs": [
        {
          "data": {
            "text/html": [
              "<div>\n",
              "<style scoped>\n",
              "    .dataframe tbody tr th:only-of-type {\n",
              "        vertical-align: middle;\n",
              "    }\n",
              "\n",
              "    .dataframe tbody tr th {\n",
              "        vertical-align: top;\n",
              "    }\n",
              "\n",
              "    .dataframe thead th {\n",
              "        text-align: right;\n",
              "    }\n",
              "</style>\n",
              "<table border=\"1\" class=\"dataframe\">\n",
              "  <thead>\n",
              "    <tr style=\"text-align: right;\">\n",
              "      <th></th>\n",
              "      <th>Hour</th>\n",
              "      <th>Total_Ed_Patients</th>\n",
              "      <th>Minute</th>\n",
              "      <th>day</th>\n",
              "      <th>month</th>\n",
              "      <th>year</th>\n",
              "    </tr>\n",
              "    <tr>\n",
              "      <th>Date</th>\n",
              "      <th></th>\n",
              "      <th></th>\n",
              "      <th></th>\n",
              "      <th></th>\n",
              "      <th></th>\n",
              "      <th></th>\n",
              "    </tr>\n",
              "  </thead>\n",
              "  <tbody>\n",
              "    <tr>\n",
              "      <th>2018-06-15 00:00:00</th>\n",
              "      <td>0.0</td>\n",
              "      <td>31.0</td>\n",
              "      <td>0.0</td>\n",
              "      <td>15.0</td>\n",
              "      <td>6.0</td>\n",
              "      <td>2018.0</td>\n",
              "    </tr>\n",
              "    <tr>\n",
              "      <th>2018-06-15 01:00:00</th>\n",
              "      <td>1.0</td>\n",
              "      <td>26.0</td>\n",
              "      <td>0.0</td>\n",
              "      <td>15.0</td>\n",
              "      <td>6.0</td>\n",
              "      <td>2018.0</td>\n",
              "    </tr>\n",
              "    <tr>\n",
              "      <th>2018-06-15 02:00:00</th>\n",
              "      <td>2.0</td>\n",
              "      <td>25.0</td>\n",
              "      <td>0.0</td>\n",
              "      <td>15.0</td>\n",
              "      <td>6.0</td>\n",
              "      <td>2018.0</td>\n",
              "    </tr>\n",
              "    <tr>\n",
              "      <th>2018-06-15 03:00:00</th>\n",
              "      <td>3.0</td>\n",
              "      <td>19.0</td>\n",
              "      <td>0.0</td>\n",
              "      <td>15.0</td>\n",
              "      <td>6.0</td>\n",
              "      <td>2018.0</td>\n",
              "    </tr>\n",
              "    <tr>\n",
              "      <th>2018-06-15 04:00:00</th>\n",
              "      <td>4.0</td>\n",
              "      <td>14.0</td>\n",
              "      <td>0.0</td>\n",
              "      <td>15.0</td>\n",
              "      <td>6.0</td>\n",
              "      <td>2018.0</td>\n",
              "    </tr>\n",
              "    <tr>\n",
              "      <th>2018-06-15 05:00:00</th>\n",
              "      <td>5.0</td>\n",
              "      <td>13.0</td>\n",
              "      <td>0.0</td>\n",
              "      <td>15.0</td>\n",
              "      <td>6.0</td>\n",
              "      <td>2018.0</td>\n",
              "    </tr>\n",
              "    <tr>\n",
              "      <th>2018-06-15 06:00:00</th>\n",
              "      <td>6.0</td>\n",
              "      <td>13.0</td>\n",
              "      <td>0.0</td>\n",
              "      <td>15.0</td>\n",
              "      <td>6.0</td>\n",
              "      <td>2018.0</td>\n",
              "    </tr>\n",
              "    <tr>\n",
              "      <th>2018-06-15 07:00:00</th>\n",
              "      <td>7.0</td>\n",
              "      <td>17.0</td>\n",
              "      <td>0.0</td>\n",
              "      <td>15.0</td>\n",
              "      <td>6.0</td>\n",
              "      <td>2018.0</td>\n",
              "    </tr>\n",
              "    <tr>\n",
              "      <th>2018-06-15 08:00:00</th>\n",
              "      <td>8.0</td>\n",
              "      <td>17.0</td>\n",
              "      <td>0.0</td>\n",
              "      <td>15.0</td>\n",
              "      <td>6.0</td>\n",
              "      <td>2018.0</td>\n",
              "    </tr>\n",
              "    <tr>\n",
              "      <th>2018-06-15 09:00:00</th>\n",
              "      <td>9.0</td>\n",
              "      <td>15.0</td>\n",
              "      <td>0.0</td>\n",
              "      <td>15.0</td>\n",
              "      <td>6.0</td>\n",
              "      <td>2018.0</td>\n",
              "    </tr>\n",
              "    <tr>\n",
              "      <th>2018-06-15 10:00:00</th>\n",
              "      <td>10.0</td>\n",
              "      <td>21.0</td>\n",
              "      <td>0.0</td>\n",
              "      <td>15.0</td>\n",
              "      <td>6.0</td>\n",
              "      <td>2018.0</td>\n",
              "    </tr>\n",
              "    <tr>\n",
              "      <th>2018-06-15 11:00:00</th>\n",
              "      <td>11.0</td>\n",
              "      <td>31.0</td>\n",
              "      <td>0.0</td>\n",
              "      <td>15.0</td>\n",
              "      <td>6.0</td>\n",
              "      <td>2018.0</td>\n",
              "    </tr>\n",
              "    <tr>\n",
              "      <th>2018-06-15 12:00:00</th>\n",
              "      <td>12.0</td>\n",
              "      <td>38.0</td>\n",
              "      <td>0.0</td>\n",
              "      <td>15.0</td>\n",
              "      <td>6.0</td>\n",
              "      <td>2018.0</td>\n",
              "    </tr>\n",
              "    <tr>\n",
              "      <th>2018-06-15 13:00:00</th>\n",
              "      <td>13.0</td>\n",
              "      <td>42.0</td>\n",
              "      <td>0.0</td>\n",
              "      <td>15.0</td>\n",
              "      <td>6.0</td>\n",
              "      <td>2018.0</td>\n",
              "    </tr>\n",
              "    <tr>\n",
              "      <th>2018-06-15 14:00:00</th>\n",
              "      <td>14.0</td>\n",
              "      <td>45.0</td>\n",
              "      <td>0.0</td>\n",
              "      <td>15.0</td>\n",
              "      <td>6.0</td>\n",
              "      <td>2018.0</td>\n",
              "    </tr>\n",
              "    <tr>\n",
              "      <th>2018-06-15 15:00:00</th>\n",
              "      <td>15.0</td>\n",
              "      <td>48.0</td>\n",
              "      <td>0.0</td>\n",
              "      <td>15.0</td>\n",
              "      <td>6.0</td>\n",
              "      <td>2018.0</td>\n",
              "    </tr>\n",
              "    <tr>\n",
              "      <th>2018-06-15 16:00:00</th>\n",
              "      <td>16.0</td>\n",
              "      <td>45.0</td>\n",
              "      <td>0.0</td>\n",
              "      <td>15.0</td>\n",
              "      <td>6.0</td>\n",
              "      <td>2018.0</td>\n",
              "    </tr>\n",
              "    <tr>\n",
              "      <th>2018-06-15 17:00:00</th>\n",
              "      <td>17.0</td>\n",
              "      <td>39.0</td>\n",
              "      <td>0.0</td>\n",
              "      <td>15.0</td>\n",
              "      <td>6.0</td>\n",
              "      <td>2018.0</td>\n",
              "    </tr>\n",
              "    <tr>\n",
              "      <th>2018-06-15 18:00:00</th>\n",
              "      <td>18.0</td>\n",
              "      <td>40.0</td>\n",
              "      <td>0.0</td>\n",
              "      <td>15.0</td>\n",
              "      <td>6.0</td>\n",
              "      <td>2018.0</td>\n",
              "    </tr>\n",
              "    <tr>\n",
              "      <th>2018-06-15 19:00:00</th>\n",
              "      <td>19.0</td>\n",
              "      <td>37.0</td>\n",
              "      <td>0.0</td>\n",
              "      <td>15.0</td>\n",
              "      <td>6.0</td>\n",
              "      <td>2018.0</td>\n",
              "    </tr>\n",
              "    <tr>\n",
              "      <th>2018-06-15 20:00:00</th>\n",
              "      <td>20.0</td>\n",
              "      <td>32.0</td>\n",
              "      <td>0.0</td>\n",
              "      <td>15.0</td>\n",
              "      <td>6.0</td>\n",
              "      <td>2018.0</td>\n",
              "    </tr>\n",
              "    <tr>\n",
              "      <th>2018-06-15 21:00:00</th>\n",
              "      <td>21.0</td>\n",
              "      <td>25.0</td>\n",
              "      <td>0.0</td>\n",
              "      <td>15.0</td>\n",
              "      <td>6.0</td>\n",
              "      <td>2018.0</td>\n",
              "    </tr>\n",
              "    <tr>\n",
              "      <th>2018-06-15 22:00:00</th>\n",
              "      <td>22.0</td>\n",
              "      <td>23.0</td>\n",
              "      <td>0.0</td>\n",
              "      <td>15.0</td>\n",
              "      <td>6.0</td>\n",
              "      <td>2018.0</td>\n",
              "    </tr>\n",
              "    <tr>\n",
              "      <th>2018-06-15 23:00:00</th>\n",
              "      <td>23.0</td>\n",
              "      <td>30.0</td>\n",
              "      <td>0.0</td>\n",
              "      <td>15.0</td>\n",
              "      <td>6.0</td>\n",
              "      <td>2018.0</td>\n",
              "    </tr>\n",
              "  </tbody>\n",
              "</table>\n",
              "</div>"
            ],
            "text/plain": [
              "                     Hour  Total_Ed_Patients  Minute   day  month    year\n",
              "Date                                                                     \n",
              "2018-06-15 00:00:00   0.0               31.0     0.0  15.0    6.0  2018.0\n",
              "2018-06-15 01:00:00   1.0               26.0     0.0  15.0    6.0  2018.0\n",
              "2018-06-15 02:00:00   2.0               25.0     0.0  15.0    6.0  2018.0\n",
              "2018-06-15 03:00:00   3.0               19.0     0.0  15.0    6.0  2018.0\n",
              "2018-06-15 04:00:00   4.0               14.0     0.0  15.0    6.0  2018.0\n",
              "2018-06-15 05:00:00   5.0               13.0     0.0  15.0    6.0  2018.0\n",
              "2018-06-15 06:00:00   6.0               13.0     0.0  15.0    6.0  2018.0\n",
              "2018-06-15 07:00:00   7.0               17.0     0.0  15.0    6.0  2018.0\n",
              "2018-06-15 08:00:00   8.0               17.0     0.0  15.0    6.0  2018.0\n",
              "2018-06-15 09:00:00   9.0               15.0     0.0  15.0    6.0  2018.0\n",
              "2018-06-15 10:00:00  10.0               21.0     0.0  15.0    6.0  2018.0\n",
              "2018-06-15 11:00:00  11.0               31.0     0.0  15.0    6.0  2018.0\n",
              "2018-06-15 12:00:00  12.0               38.0     0.0  15.0    6.0  2018.0\n",
              "2018-06-15 13:00:00  13.0               42.0     0.0  15.0    6.0  2018.0\n",
              "2018-06-15 14:00:00  14.0               45.0     0.0  15.0    6.0  2018.0\n",
              "2018-06-15 15:00:00  15.0               48.0     0.0  15.0    6.0  2018.0\n",
              "2018-06-15 16:00:00  16.0               45.0     0.0  15.0    6.0  2018.0\n",
              "2018-06-15 17:00:00  17.0               39.0     0.0  15.0    6.0  2018.0\n",
              "2018-06-15 18:00:00  18.0               40.0     0.0  15.0    6.0  2018.0\n",
              "2018-06-15 19:00:00  19.0               37.0     0.0  15.0    6.0  2018.0\n",
              "2018-06-15 20:00:00  20.0               32.0     0.0  15.0    6.0  2018.0\n",
              "2018-06-15 21:00:00  21.0               25.0     0.0  15.0    6.0  2018.0\n",
              "2018-06-15 22:00:00  22.0               23.0     0.0  15.0    6.0  2018.0\n",
              "2018-06-15 23:00:00  23.0               30.0     0.0  15.0    6.0  2018.0"
            ]
          },
          "execution_count": 317,
          "metadata": {},
          "output_type": "execute_result"
        }
      ]
    },
    {
      "cell_type": "code",
      "metadata": {
        "id": "6a461287",
        "outputId": "6c90f98d-5ee0-43df-9b13-ca407b32df9f"
      },
      "source": [
        "test['Total_Ed_Patients'].plot(legend=True,figsize=(12,8))\n",
        "predictions.plot(figsize=(12,4),legend=True)"
      ],
      "id": "6a461287",
      "execution_count": null,
      "outputs": [
        {
          "data": {
            "text/plain": [
              "<AxesSubplot:xlabel='Date'>"
            ]
          },
          "execution_count": 318,
          "metadata": {},
          "output_type": "execute_result"
        },
        {
          "data": {
            "image/png": "[encoded data removed]",
            "text/plain": [
              "<Figure size 864x288 with 1 Axes>"
            ]
          },
          "metadata": {
            "needs_background": "light"
          },
          "output_type": "display_data"
        }
      ]
    },
    {
      "cell_type": "code",
      "metadata": {
        "id": "594a449c",
        "outputId": "e72f08e4-6084-4f72-b534-59e7f4a33dd2"
      },
      "source": [
        "error=rmse(test['Total_Ed_Patients'],predictions)\n",
        "error"
      ],
      "id": "594a449c",
      "execution_count": null,
      "outputs": [
        {
          "data": {
            "text/plain": [
              "5.063498555718719"
            ]
          },
          "execution_count": 319,
          "metadata": {},
          "output_type": "execute_result"
        }
      ]
    },
    {
      "cell_type": "code",
      "metadata": {
        "id": "061457f7",
        "outputId": "45c88fac-6be3-44bf-adb2-2db78da3eb49"
      },
      "source": [
        "test['Total_Ed_Patients'].mean()"
      ],
      "id": "061457f7",
      "execution_count": null,
      "outputs": [
        {
          "data": {
            "text/plain": [
              "28.583333333333332"
            ]
          },
          "execution_count": 320,
          "metadata": {},
          "output_type": "execute_result"
        }
      ]
    },
    {
      "cell_type": "code",
      "metadata": {
        "id": "31b6bd79"
      },
      "source": [
        "#forecast into the unkown future(coming 4 hours )----- order=(5,0,1),seasonal_order=(1,0,1,24)\n",
        "model=SARIMAX(df['Total_Ed_Patients'],order=(5,0,1),seasonal_order=(1,0,1,24))"
      ],
      "id": "31b6bd79",
      "execution_count": null,
      "outputs": []
    },
    {
      "cell_type": "code",
      "metadata": {
        "id": "5b422d27",
        "outputId": "fe70eea7-d543-4d2b-a356-44e37434f000"
      },
      "source": [
        "results=model.fit()"
      ],
      "id": "5b422d27",
      "execution_count": null,
      "outputs": [
        {
          "name": "stderr",
          "output_type": "stream",
          "text": [
            "C:\\Users\\Ntaoufi\\Anaconda3\\lib\\site-packages\\statsmodels\\base\\model.py:566: ConvergenceWarning: Maximum Likelihood optimization failed to converge. Check mle_retvals\n",
            "  warnings.warn(\"Maximum Likelihood optimization failed to \"\n"
          ]
        }
      ]
    },
    {
      "cell_type": "code",
      "metadata": {
        "id": "d66eff7b"
      },
      "source": [
        "fcast=results.predict(len(df),len(df)+3,typ='levels').rename('SARIMA FORCAST')"
      ],
      "id": "d66eff7b",
      "execution_count": null,
      "outputs": []
    },
    {
      "cell_type": "code",
      "metadata": {
        "id": "bd62367c",
        "outputId": "8b235ef0-0f79-4f55-8f2a-e4ecd18caf26"
      },
      "source": [
        "df['Total_Ed_Patients'].plot(figsize=(12,4),legend=True)\n",
        "fcast.plot(figsize=(12,4),legend=True)"
      ],
      "id": "bd62367c",
      "execution_count": null,
      "outputs": [
        {
          "data": {
            "text/plain": [
              "<AxesSubplot:xlabel='Date'>"
            ]
          },
          "execution_count": 324,
          "metadata": {},
          "output_type": "execute_result"
        },
        {
          "data": {
            "image/png": "[encoded data removed]",
            "text/plain": [
              "<Figure size 864x288 with 1 Axes>"
            ]
          },
          "metadata": {
            "needs_background": "light"
          },
          "output_type": "display_data"
        }
      ]
    },
    {
      "cell_type": "code",
      "metadata": {
        "id": "9019fb48",
        "outputId": "e7862f65-cd8f-435e-a19c-508cfe69fa07"
      },
      "source": [
        "fcast"
      ],
      "id": "9019fb48",
      "execution_count": null,
      "outputs": [
        {
          "data": {
            "text/plain": [
              "2018-06-16 00:00:00    27.524297\n",
              "2018-06-16 01:00:00    26.442883\n",
              "2018-06-16 02:00:00    23.595677\n",
              "2018-06-16 03:00:00    19.609593\n",
              "Freq: H, Name: SARIMA FORCAST, dtype: float64"
            ]
          },
          "execution_count": 325,
          "metadata": {},
          "output_type": "execute_result"
        }
      ]
    },
    {
      "cell_type": "code",
      "metadata": {
        "id": "67d9d469"
      },
      "source": [
        "#the True Total_Ed_Patients in the database\n",
        "#2018-06-16 00:00:00\t0.0\t26.0\t0.0\t16.0\t6.0\t2018.0\n",
        "#2018-06-16 01:00:00\t1.0\t20.0\t0.0\t16.0\t6.0\t2018.0\n",
        "#2018-06-16 02:00:00\t2.0\t16.0\t0.0\t16.0\t6.0\t2018.0\n",
        "#2018-06-16 03:00:00\t3.0\t17.0\t0.0\t16.0\t6.0\t2018.0\n",
        "\n"
      ],
      "id": "67d9d469",
      "execution_count": null,
      "outputs": []
    }
  ]
}