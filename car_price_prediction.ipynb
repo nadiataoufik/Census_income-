{
  "nbformat": 4,
  "nbformat_minor": 0,
  "metadata": {
    "colab": {
      "name": "car_price_prediction.ipynb",
      "provenance": [],
      "mount_file_id": "1kTYQji4v7IRpAV8Bpf6-z4EVAOGiedgv",
      "authorship_tag": "ABX9TyOAvioRWKgJsIaBoCk3ksQq",
      "include_colab_link": true
    },
    "kernelspec": {
      "name": "python3",
      "display_name": "Python 3"
    }
  },
  "cells": [
    {
      "cell_type": "markdown",
      "metadata": {
        "id": "view-in-github",
        "colab_type": "text"
      },
      "source": [
        "<a href=\"https://colab.research.google.com/github/nadiataoufik/Census_income-/blob/master/car_price_prediction.ipynb\" target=\"_parent\"><img src=\"https://colab.research.google.com/assets/colab-badge.svg\" alt=\"Open In Colab\"/></a>"
      ]
    },
    {
      "cell_type": "code",
      "metadata": {
        "id": "kEGAu7_o6vgv"
      },
      "source": [
        "# import libraries \r\n",
        "import pandas as pd \r\n",
        "import numpy as np\r\n",
        "import matplotlib.pyplot as plt\r\n",
        "import seaborn as sns \r\n"
      ],
      "execution_count": 5,
      "outputs": []
    },
    {
      "cell_type": "code",
      "metadata": {
        "id": "u4BnlR0rAwiz"
      },
      "source": [
        "#load data \r\n",
        "raw_data=pd.read_csv('/content/drive/MyDrive/1.04.+Real-life+example.csv')"
      ],
      "execution_count": 6,
      "outputs": []
    },
    {
      "cell_type": "code",
      "metadata": {
        "colab": {
          "base_uri": "https://localhost:8080/",
          "height": 199
        },
        "id": "hbrIz5z56vlm",
        "outputId": "c377d766-f148-4b51-e785-9c827922ca3b"
      },
      "source": [
        "raw_data.head()"
      ],
      "execution_count": 7,
      "outputs": [
        {
          "output_type": "execute_result",
          "data": {
            "text/html": [
              "<div>\n",
              "<style scoped>\n",
              "    .dataframe tbody tr th:only-of-type {\n",
              "        vertical-align: middle;\n",
              "    }\n",
              "\n",
              "    .dataframe tbody tr th {\n",
              "        vertical-align: top;\n",
              "    }\n",
              "\n",
              "    .dataframe thead th {\n",
              "        text-align: right;\n",
              "    }\n",
              "</style>\n",
              "<table border=\"1\" class=\"dataframe\">\n",
              "  <thead>\n",
              "    <tr style=\"text-align: right;\">\n",
              "      <th></th>\n",
              "      <th>Brand</th>\n",
              "      <th>Price</th>\n",
              "      <th>Body</th>\n",
              "      <th>Mileage</th>\n",
              "      <th>EngineV</th>\n",
              "      <th>Engine Type</th>\n",
              "      <th>Registration</th>\n",
              "      <th>Year</th>\n",
              "      <th>Model</th>\n",
              "    </tr>\n",
              "  </thead>\n",
              "  <tbody>\n",
              "    <tr>\n",
              "      <th>0</th>\n",
              "      <td>BMW</td>\n",
              "      <td>4200.0</td>\n",
              "      <td>sedan</td>\n",
              "      <td>277</td>\n",
              "      <td>2.0</td>\n",
              "      <td>Petrol</td>\n",
              "      <td>yes</td>\n",
              "      <td>1991</td>\n",
              "      <td>320</td>\n",
              "    </tr>\n",
              "    <tr>\n",
              "      <th>1</th>\n",
              "      <td>Mercedes-Benz</td>\n",
              "      <td>7900.0</td>\n",
              "      <td>van</td>\n",
              "      <td>427</td>\n",
              "      <td>2.9</td>\n",
              "      <td>Diesel</td>\n",
              "      <td>yes</td>\n",
              "      <td>1999</td>\n",
              "      <td>Sprinter 212</td>\n",
              "    </tr>\n",
              "    <tr>\n",
              "      <th>2</th>\n",
              "      <td>Mercedes-Benz</td>\n",
              "      <td>13300.0</td>\n",
              "      <td>sedan</td>\n",
              "      <td>358</td>\n",
              "      <td>5.0</td>\n",
              "      <td>Gas</td>\n",
              "      <td>yes</td>\n",
              "      <td>2003</td>\n",
              "      <td>S 500</td>\n",
              "    </tr>\n",
              "    <tr>\n",
              "      <th>3</th>\n",
              "      <td>Audi</td>\n",
              "      <td>23000.0</td>\n",
              "      <td>crossover</td>\n",
              "      <td>240</td>\n",
              "      <td>4.2</td>\n",
              "      <td>Petrol</td>\n",
              "      <td>yes</td>\n",
              "      <td>2007</td>\n",
              "      <td>Q7</td>\n",
              "    </tr>\n",
              "    <tr>\n",
              "      <th>4</th>\n",
              "      <td>Toyota</td>\n",
              "      <td>18300.0</td>\n",
              "      <td>crossover</td>\n",
              "      <td>120</td>\n",
              "      <td>2.0</td>\n",
              "      <td>Petrol</td>\n",
              "      <td>yes</td>\n",
              "      <td>2011</td>\n",
              "      <td>Rav 4</td>\n",
              "    </tr>\n",
              "  </tbody>\n",
              "</table>\n",
              "</div>"
            ],
            "text/plain": [
              "           Brand    Price       Body  ...  Registration  Year         Model\n",
              "0            BMW   4200.0      sedan  ...           yes  1991           320\n",
              "1  Mercedes-Benz   7900.0        van  ...           yes  1999  Sprinter 212\n",
              "2  Mercedes-Benz  13300.0      sedan  ...           yes  2003         S 500\n",
              "3           Audi  23000.0  crossover  ...           yes  2007            Q7\n",
              "4         Toyota  18300.0  crossover  ...           yes  2011         Rav 4\n",
              "\n",
              "[5 rows x 9 columns]"
            ]
          },
          "metadata": {
            "tags": []
          },
          "execution_count": 7
        }
      ]
    },
    {
      "cell_type": "code",
      "metadata": {
        "colab": {
          "base_uri": "https://localhost:8080/"
        },
        "id": "rN_YBMP1Ba76",
        "outputId": "b2452586-3a29-4569-9ca6-540e33f0130a"
      },
      "source": [
        "raw_data.isnull().sum()"
      ],
      "execution_count": 8,
      "outputs": [
        {
          "output_type": "execute_result",
          "data": {
            "text/plain": [
              "Brand             0\n",
              "Price           172\n",
              "Body              0\n",
              "Mileage           0\n",
              "EngineV         150\n",
              "Engine Type       0\n",
              "Registration      0\n",
              "Year              0\n",
              "Model             0\n",
              "dtype: int64"
            ]
          },
          "metadata": {
            "tags": []
          },
          "execution_count": 8
        }
      ]
    },
    {
      "cell_type": "code",
      "metadata": {
        "colab": {
          "base_uri": "https://localhost:8080/"
        },
        "id": "NBRoBHVSBbDK",
        "outputId": "9e692389-b2a2-429c-8624-eacc9f69d203"
      },
      "source": [
        "raw_data.shape"
      ],
      "execution_count": 9,
      "outputs": [
        {
          "output_type": "execute_result",
          "data": {
            "text/plain": [
              "(4345, 9)"
            ]
          },
          "metadata": {
            "tags": []
          },
          "execution_count": 9
        }
      ]
    },
    {
      "cell_type": "code",
      "metadata": {
        "id": "uXPHwrHWBzZt"
      },
      "source": [
        "data=raw_data.drop(['Model'],axis=1)"
      ],
      "execution_count": 10,
      "outputs": []
    },
    {
      "cell_type": "code",
      "metadata": {
        "colab": {
          "base_uri": "https://localhost:8080/"
        },
        "id": "ymLS0NC6r8HV",
        "outputId": "40bd45c8-9692-44df-fdba-e47d78a5f8d3"
      },
      "source": [
        "# dealing with missing values \r\n",
        "data.isnull().sum()"
      ],
      "execution_count": 11,
      "outputs": [
        {
          "output_type": "execute_result",
          "data": {
            "text/plain": [
              "Brand             0\n",
              "Price           172\n",
              "Body              0\n",
              "Mileage           0\n",
              "EngineV         150\n",
              "Engine Type       0\n",
              "Registration      0\n",
              "Year              0\n",
              "dtype: int64"
            ]
          },
          "metadata": {
            "tags": []
          },
          "execution_count": 11
        }
      ]
    },
    {
      "cell_type": "code",
      "metadata": {
        "id": "3DctgAC_sQ1S"
      },
      "source": [
        "data=data.dropna(axis=0)"
      ],
      "execution_count": 12,
      "outputs": []
    },
    {
      "cell_type": "code",
      "metadata": {
        "colab": {
          "base_uri": "https://localhost:8080/"
        },
        "id": "VBlX_MY7CNOj",
        "outputId": "f211ea5c-d5e4-4bf0-8bb7-07cf2327d31c"
      },
      "source": [
        "data.isnull().sum()"
      ],
      "execution_count": 13,
      "outputs": [
        {
          "output_type": "execute_result",
          "data": {
            "text/plain": [
              "Brand           0\n",
              "Price           0\n",
              "Body            0\n",
              "Mileage         0\n",
              "EngineV         0\n",
              "Engine Type     0\n",
              "Registration    0\n",
              "Year            0\n",
              "dtype: int64"
            ]
          },
          "metadata": {
            "tags": []
          },
          "execution_count": 13
        }
      ]
    },
    {
      "cell_type": "code",
      "metadata": {
        "id": "4aCfni1tCTbm"
      },
      "source": [
        "data_no_nv=data.dropna(axis=0)"
      ],
      "execution_count": 14,
      "outputs": []
    },
    {
      "cell_type": "code",
      "metadata": {
        "colab": {
          "base_uri": "https://localhost:8080/"
        },
        "id": "_8q7CC-wCTp2",
        "outputId": "ed3972da-ae3d-4072-e31b-0b583ce4e7c7"
      },
      "source": [
        "data_no_nv.isnull().sum()"
      ],
      "execution_count": 15,
      "outputs": [
        {
          "output_type": "execute_result",
          "data": {
            "text/plain": [
              "Brand           0\n",
              "Price           0\n",
              "Body            0\n",
              "Mileage         0\n",
              "EngineV         0\n",
              "Engine Type     0\n",
              "Registration    0\n",
              "Year            0\n",
              "dtype: int64"
            ]
          },
          "metadata": {
            "tags": []
          },
          "execution_count": 15
        }
      ]
    },
    {
      "cell_type": "code",
      "metadata": {
        "colab": {
          "base_uri": "https://localhost:8080/",
          "height": 386
        },
        "id": "CUqg5NbKCT3I",
        "outputId": "e1fc945e-d0b0-445c-c7aa-98448e4c9289"
      },
      "source": [
        "sns.displot(data_no_nv['Price'])"
      ],
      "execution_count": 16,
      "outputs": [
        {
          "output_type": "execute_result",
          "data": {
            "text/plain": [
              "<seaborn.axisgrid.FacetGrid at 0x7fb7f8986210>"
            ]
          },
          "metadata": {
            "tags": []
          },
          "execution_count": 16
        },
        {
          "output_type": "display_data",
          "data": {
            "image/png": "[encoded data removed]",
            "text/plain": [
              "<Figure size 360x360 with 1 Axes>"
            ]
          },
          "metadata": {
            "tags": [],
            "needs_background": "light"
          }
        }
      ]
    },
    {
      "cell_type": "code",
      "metadata": {
        "id": "CEMYV3-aCrsZ"
      },
      "source": [
        "# we have outliers we need to remove it because it will affect the regression \r\n",
        "# remove top 1 % : quantile method \r\n",
        "q=data_no_nv['Price'].quantile(0.99)"
      ],
      "execution_count": 17,
      "outputs": []
    },
    {
      "cell_type": "code",
      "metadata": {
        "id": "TNyVDVnFtBC9"
      },
      "source": [
        "data1=data_no_nv[data_no_nv['Price']<q]"
      ],
      "execution_count": 18,
      "outputs": []
    },
    {
      "cell_type": "code",
      "metadata": {
        "colab": {
          "base_uri": "https://localhost:8080/",
          "height": 362
        },
        "id": "KRh6kEiPtHMe",
        "outputId": "80576db6-206b-4b97-9e2e-efc17270d6d3"
      },
      "source": [
        "sns.distplot(data1['Price'])"
      ],
      "execution_count": 19,
      "outputs": [
        {
          "output_type": "stream",
          "text": [
            "/usr/local/lib/python3.7/dist-packages/seaborn/distributions.py:2557: FutureWarning: `distplot` is a deprecated function and will be removed in a future version. Please adapt your code to use either `displot` (a figure-level function with similar flexibility) or `histplot` (an axes-level function for histograms).\n",
            "  warnings.warn(msg, FutureWarning)\n"
          ],
          "name": "stderr"
        },
        {
          "output_type": "execute_result",
          "data": {
            "text/plain": [
              "<matplotlib.axes._subplots.AxesSubplot at 0x7fb7f92872d0>"
            ]
          },
          "metadata": {
            "tags": []
          },
          "execution_count": 19
        },
        {
          "output_type": "display_data",
          "data": {
            "image/png": "[encoded data removed]",
            "text/plain": [
              "<Figure size 432x288 with 1 Axes>"
            ]
          },
          "metadata": {
            "tags": [],
            "needs_background": "light"
          }
        }
      ]
    },
    {
      "cell_type": "code",
      "metadata": {
        "colab": {
          "base_uri": "https://localhost:8080/",
          "height": 290
        },
        "id": "KlE1eLEPDCcV",
        "outputId": "753dc7d1-b9c4-46d6-f7f1-5e1187208213"
      },
      "source": [
        "data1.describe()"
      ],
      "execution_count": 20,
      "outputs": [
        {
          "output_type": "execute_result",
          "data": {
            "text/html": [
              "<div>\n",
              "<style scoped>\n",
              "    .dataframe tbody tr th:only-of-type {\n",
              "        vertical-align: middle;\n",
              "    }\n",
              "\n",
              "    .dataframe tbody tr th {\n",
              "        vertical-align: top;\n",
              "    }\n",
              "\n",
              "    .dataframe thead th {\n",
              "        text-align: right;\n",
              "    }\n",
              "</style>\n",
              "<table border=\"1\" class=\"dataframe\">\n",
              "  <thead>\n",
              "    <tr style=\"text-align: right;\">\n",
              "      <th></th>\n",
              "      <th>Price</th>\n",
              "      <th>Mileage</th>\n",
              "      <th>EngineV</th>\n",
              "      <th>Year</th>\n",
              "    </tr>\n",
              "  </thead>\n",
              "  <tbody>\n",
              "    <tr>\n",
              "      <th>count</th>\n",
              "      <td>3984.000000</td>\n",
              "      <td>3984.000000</td>\n",
              "      <td>3984.000000</td>\n",
              "      <td>3984.000000</td>\n",
              "    </tr>\n",
              "    <tr>\n",
              "      <th>mean</th>\n",
              "      <td>17837.117460</td>\n",
              "      <td>165.116466</td>\n",
              "      <td>2.743770</td>\n",
              "      <td>2006.292922</td>\n",
              "    </tr>\n",
              "    <tr>\n",
              "      <th>std</th>\n",
              "      <td>18976.268315</td>\n",
              "      <td>102.766126</td>\n",
              "      <td>4.956057</td>\n",
              "      <td>6.672745</td>\n",
              "    </tr>\n",
              "    <tr>\n",
              "      <th>min</th>\n",
              "      <td>600.000000</td>\n",
              "      <td>0.000000</td>\n",
              "      <td>0.600000</td>\n",
              "      <td>1969.000000</td>\n",
              "    </tr>\n",
              "    <tr>\n",
              "      <th>25%</th>\n",
              "      <td>6980.000000</td>\n",
              "      <td>93.000000</td>\n",
              "      <td>1.800000</td>\n",
              "      <td>2002.750000</td>\n",
              "    </tr>\n",
              "    <tr>\n",
              "      <th>50%</th>\n",
              "      <td>11400.000000</td>\n",
              "      <td>160.000000</td>\n",
              "      <td>2.200000</td>\n",
              "      <td>2007.000000</td>\n",
              "    </tr>\n",
              "    <tr>\n",
              "      <th>75%</th>\n",
              "      <td>21000.000000</td>\n",
              "      <td>230.000000</td>\n",
              "      <td>3.000000</td>\n",
              "      <td>2011.000000</td>\n",
              "    </tr>\n",
              "    <tr>\n",
              "      <th>max</th>\n",
              "      <td>129222.000000</td>\n",
              "      <td>980.000000</td>\n",
              "      <td>99.990000</td>\n",
              "      <td>2016.000000</td>\n",
              "    </tr>\n",
              "  </tbody>\n",
              "</table>\n",
              "</div>"
            ],
            "text/plain": [
              "               Price      Mileage      EngineV         Year\n",
              "count    3984.000000  3984.000000  3984.000000  3984.000000\n",
              "mean    17837.117460   165.116466     2.743770  2006.292922\n",
              "std     18976.268315   102.766126     4.956057     6.672745\n",
              "min       600.000000     0.000000     0.600000  1969.000000\n",
              "25%      6980.000000    93.000000     1.800000  2002.750000\n",
              "50%     11400.000000   160.000000     2.200000  2007.000000\n",
              "75%     21000.000000   230.000000     3.000000  2011.000000\n",
              "max    129222.000000   980.000000    99.990000  2016.000000"
            ]
          },
          "metadata": {
            "tags": []
          },
          "execution_count": 20
        }
      ]
    },
    {
      "cell_type": "code",
      "metadata": {
        "colab": {
          "base_uri": "https://localhost:8080/",
          "height": 351
        },
        "id": "-hRm7YnjDc8a",
        "outputId": "1b06fd6b-85c8-46bd-e646-ed0fc67c3680"
      },
      "source": [
        "sns.distplot(data_no_nv['Mileage'])"
      ],
      "execution_count": 21,
      "outputs": [
        {
          "output_type": "stream",
          "text": [
            "/usr/local/lib/python3.7/dist-packages/seaborn/distributions.py:2557: FutureWarning: `distplot` is a deprecated function and will be removed in a future version. Please adapt your code to use either `displot` (a figure-level function with similar flexibility) or `histplot` (an axes-level function for histograms).\n",
            "  warnings.warn(msg, FutureWarning)\n"
          ],
          "name": "stderr"
        },
        {
          "output_type": "execute_result",
          "data": {
            "text/plain": [
              "<matplotlib.axes._subplots.AxesSubplot at 0x7fb7ef472ed0>"
            ]
          },
          "metadata": {
            "tags": []
          },
          "execution_count": 21
        },
        {
          "output_type": "display_data",
          "data": {
            "image/png": "[encoded data removed]",
            "text/plain": [
              "<Figure size 432x288 with 1 Axes>"
            ]
          },
          "metadata": {
            "tags": [],
            "needs_background": "light"
          }
        }
      ]
    },
    {
      "cell_type": "code",
      "metadata": {
        "id": "iSoPO6Y1Dlnf"
      },
      "source": [
        "q1=data_no_nv['Mileage'].quantile(0.99)"
      ],
      "execution_count": 22,
      "outputs": []
    },
    {
      "cell_type": "code",
      "metadata": {
        "id": "57NcIxYCuMdu"
      },
      "source": [
        "data2=data1[data1['Mileage']<q1]"
      ],
      "execution_count": 23,
      "outputs": []
    },
    {
      "cell_type": "code",
      "metadata": {
        "colab": {
          "base_uri": "https://localhost:8080/",
          "height": 354
        },
        "id": "3UvRe5fgDyOy",
        "outputId": "1269458a-701f-488a-c7b6-5aa8cbaa41e2"
      },
      "source": [
        "sns.distplot(data2['Mileage'])"
      ],
      "execution_count": 24,
      "outputs": [
        {
          "output_type": "stream",
          "text": [
            "/usr/local/lib/python3.7/dist-packages/seaborn/distributions.py:2557: FutureWarning: `distplot` is a deprecated function and will be removed in a future version. Please adapt your code to use either `displot` (a figure-level function with similar flexibility) or `histplot` (an axes-level function for histograms).\n",
            "  warnings.warn(msg, FutureWarning)\n"
          ],
          "name": "stderr"
        },
        {
          "output_type": "execute_result",
          "data": {
            "text/plain": [
              "<matplotlib.axes._subplots.AxesSubplot at 0x7fb7eedff090>"
            ]
          },
          "metadata": {
            "tags": []
          },
          "execution_count": 24
        },
        {
          "output_type": "display_data",
          "data": {
            "image/png": "[encoded data removed]",
            "text/plain": [
              "<Figure size 432x288 with 1 Axes>"
            ]
          },
          "metadata": {
            "tags": [],
            "needs_background": "light"
          }
        }
      ]
    },
    {
      "cell_type": "code",
      "metadata": {
        "colab": {
          "base_uri": "https://localhost:8080/",
          "height": 351
        },
        "id": "PMtv4CIYD8Ye",
        "outputId": "29bf7498-b654-4f6b-e1da-74baa9f2b8a3"
      },
      "source": [
        "#engine volume \r\n",
        "sns.distplot(data_no_nv['EngineV'])"
      ],
      "execution_count": 25,
      "outputs": [
        {
          "output_type": "stream",
          "text": [
            "/usr/local/lib/python3.7/dist-packages/seaborn/distributions.py:2557: FutureWarning: `distplot` is a deprecated function and will be removed in a future version. Please adapt your code to use either `displot` (a figure-level function with similar flexibility) or `histplot` (an axes-level function for histograms).\n",
            "  warnings.warn(msg, FutureWarning)\n"
          ],
          "name": "stderr"
        },
        {
          "output_type": "execute_result",
          "data": {
            "text/plain": [
              "<matplotlib.axes._subplots.AxesSubplot at 0x7fb7eece1650>"
            ]
          },
          "metadata": {
            "tags": []
          },
          "execution_count": 25
        },
        {
          "output_type": "display_data",
          "data": {
            "image/png": "[encoded data removed]",
            "text/plain": [
              "<Figure size 432x288 with 1 Axes>"
            ]
          },
          "metadata": {
            "tags": [],
            "needs_background": "light"
          }
        }
      ]
    },
    {
      "cell_type": "code",
      "metadata": {
        "id": "cLwFGtnBD8au"
      },
      "source": [
        "data3=data2[data2['EngineV']<6.5]"
      ],
      "execution_count": 26,
      "outputs": []
    },
    {
      "cell_type": "code",
      "metadata": {
        "colab": {
          "base_uri": "https://localhost:8080/",
          "height": 353
        },
        "id": "yy99rl0fD8eb",
        "outputId": "e1120020-86c5-47be-832a-eee6f05e21f8"
      },
      "source": [
        "sns.distplot(data3['EngineV'])"
      ],
      "execution_count": 27,
      "outputs": [
        {
          "output_type": "stream",
          "text": [
            "/usr/local/lib/python3.7/dist-packages/seaborn/distributions.py:2557: FutureWarning: `distplot` is a deprecated function and will be removed in a future version. Please adapt your code to use either `displot` (a figure-level function with similar flexibility) or `histplot` (an axes-level function for histograms).\n",
            "  warnings.warn(msg, FutureWarning)\n"
          ],
          "name": "stderr"
        },
        {
          "output_type": "execute_result",
          "data": {
            "text/plain": [
              "<matplotlib.axes._subplots.AxesSubplot at 0x7fb7eece11d0>"
            ]
          },
          "metadata": {
            "tags": []
          },
          "execution_count": 27
        },
        {
          "output_type": "display_data",
          "data": {
            "image/png": "[encoded data removed]",
            "text/plain": [
              "<Figure size 432x288 with 1 Axes>"
            ]
          },
          "metadata": {
            "tags": [],
            "needs_background": "light"
          }
        }
      ]
    },
    {
      "cell_type": "code",
      "metadata": {
        "colab": {
          "base_uri": "https://localhost:8080/",
          "height": 351
        },
        "id": "KMVvwt76DyQ8",
        "outputId": "c91b7a74-7973-481d-bf73-a2b78d7c24d9"
      },
      "source": [
        "sns.distplot(data_no_nv['Year'])"
      ],
      "execution_count": 28,
      "outputs": [
        {
          "output_type": "stream",
          "text": [
            "/usr/local/lib/python3.7/dist-packages/seaborn/distributions.py:2557: FutureWarning: `distplot` is a deprecated function and will be removed in a future version. Please adapt your code to use either `displot` (a figure-level function with similar flexibility) or `histplot` (an axes-level function for histograms).\n",
            "  warnings.warn(msg, FutureWarning)\n"
          ],
          "name": "stderr"
        },
        {
          "output_type": "execute_result",
          "data": {
            "text/plain": [
              "<matplotlib.axes._subplots.AxesSubplot at 0x7fb7eeb184d0>"
            ]
          },
          "metadata": {
            "tags": []
          },
          "execution_count": 28
        },
        {
          "output_type": "display_data",
          "data": {
            "image/png": "[encoded data removed]",
            "text/plain": [
              "<Figure size 432x288 with 1 Axes>"
            ]
          },
          "metadata": {
            "tags": [],
            "needs_background": "light"
          }
        }
      ]
    },
    {
      "cell_type": "code",
      "metadata": {
        "id": "s5RhHjUvDyUZ"
      },
      "source": [
        "q3=data_no_nv['Year'].quantile(0.01)"
      ],
      "execution_count": 29,
      "outputs": []
    },
    {
      "cell_type": "code",
      "metadata": {
        "id": "TCcJ987ZwV5L"
      },
      "source": [
        "data4=data3[data3['Year']>q3]"
      ],
      "execution_count": 30,
      "outputs": []
    },
    {
      "cell_type": "code",
      "metadata": {
        "colab": {
          "base_uri": "https://localhost:8080/",
          "height": 351
        },
        "id": "a2cHAibMwWKH",
        "outputId": "efd9cb43-c490-46a1-f877-0541c100b137"
      },
      "source": [
        "sns.distplot(data4['Year'])"
      ],
      "execution_count": 31,
      "outputs": [
        {
          "output_type": "stream",
          "text": [
            "/usr/local/lib/python3.7/dist-packages/seaborn/distributions.py:2557: FutureWarning: `distplot` is a deprecated function and will be removed in a future version. Please adapt your code to use either `displot` (a figure-level function with similar flexibility) or `histplot` (an axes-level function for histograms).\n",
            "  warnings.warn(msg, FutureWarning)\n"
          ],
          "name": "stderr"
        },
        {
          "output_type": "execute_result",
          "data": {
            "text/plain": [
              "<matplotlib.axes._subplots.AxesSubplot at 0x7fb7eeb38e50>"
            ]
          },
          "metadata": {
            "tags": []
          },
          "execution_count": 31
        },
        {
          "output_type": "display_data",
          "data": {
            "image/png": "[encoded data removed]",
            "text/plain": [
              "<Figure size 432x288 with 1 Axes>"
            ]
          },
          "metadata": {
            "tags": [],
            "needs_background": "light"
          }
        }
      ]
    },
    {
      "cell_type": "code",
      "metadata": {
        "id": "IIGvdWZWwWNI"
      },
      "source": [
        "#reset index \r\n",
        "data_cleaned=data4.reset_index(drop=True)"
      ],
      "execution_count": 32,
      "outputs": []
    },
    {
      "cell_type": "code",
      "metadata": {
        "colab": {
          "base_uri": "https://localhost:8080/",
          "height": 290
        },
        "id": "zhS0TnTyw6WE",
        "outputId": "5d51d09f-01d2-43a1-823a-af76d78ad61b"
      },
      "source": [
        "data_cleaned.describe()"
      ],
      "execution_count": 33,
      "outputs": [
        {
          "output_type": "execute_result",
          "data": {
            "text/html": [
              "<div>\n",
              "<style scoped>\n",
              "    .dataframe tbody tr th:only-of-type {\n",
              "        vertical-align: middle;\n",
              "    }\n",
              "\n",
              "    .dataframe tbody tr th {\n",
              "        vertical-align: top;\n",
              "    }\n",
              "\n",
              "    .dataframe thead th {\n",
              "        text-align: right;\n",
              "    }\n",
              "</style>\n",
              "<table border=\"1\" class=\"dataframe\">\n",
              "  <thead>\n",
              "    <tr style=\"text-align: right;\">\n",
              "      <th></th>\n",
              "      <th>Price</th>\n",
              "      <th>Mileage</th>\n",
              "      <th>EngineV</th>\n",
              "      <th>Year</th>\n",
              "    </tr>\n",
              "  </thead>\n",
              "  <tbody>\n",
              "    <tr>\n",
              "      <th>count</th>\n",
              "      <td>3866.000000</td>\n",
              "      <td>3866.000000</td>\n",
              "      <td>3866.000000</td>\n",
              "      <td>3866.000000</td>\n",
              "    </tr>\n",
              "    <tr>\n",
              "      <th>mean</th>\n",
              "      <td>18197.480629</td>\n",
              "      <td>160.471547</td>\n",
              "      <td>2.450246</td>\n",
              "      <td>2006.713140</td>\n",
              "    </tr>\n",
              "    <tr>\n",
              "      <th>std</th>\n",
              "      <td>19087.396949</td>\n",
              "      <td>95.543697</td>\n",
              "      <td>0.949413</td>\n",
              "      <td>6.101235</td>\n",
              "    </tr>\n",
              "    <tr>\n",
              "      <th>min</th>\n",
              "      <td>800.000000</td>\n",
              "      <td>0.000000</td>\n",
              "      <td>0.600000</td>\n",
              "      <td>1988.000000</td>\n",
              "    </tr>\n",
              "    <tr>\n",
              "      <th>25%</th>\n",
              "      <td>7200.000000</td>\n",
              "      <td>91.000000</td>\n",
              "      <td>1.800000</td>\n",
              "      <td>2003.000000</td>\n",
              "    </tr>\n",
              "    <tr>\n",
              "      <th>50%</th>\n",
              "      <td>11700.000000</td>\n",
              "      <td>157.000000</td>\n",
              "      <td>2.200000</td>\n",
              "      <td>2008.000000</td>\n",
              "    </tr>\n",
              "    <tr>\n",
              "      <th>75%</th>\n",
              "      <td>21700.000000</td>\n",
              "      <td>225.000000</td>\n",
              "      <td>3.000000</td>\n",
              "      <td>2012.000000</td>\n",
              "    </tr>\n",
              "    <tr>\n",
              "      <th>max</th>\n",
              "      <td>129222.000000</td>\n",
              "      <td>433.000000</td>\n",
              "      <td>6.300000</td>\n",
              "      <td>2016.000000</td>\n",
              "    </tr>\n",
              "  </tbody>\n",
              "</table>\n",
              "</div>"
            ],
            "text/plain": [
              "               Price      Mileage      EngineV         Year\n",
              "count    3866.000000  3866.000000  3866.000000  3866.000000\n",
              "mean    18197.480629   160.471547     2.450246  2006.713140\n",
              "std     19087.396949    95.543697     0.949413     6.101235\n",
              "min       800.000000     0.000000     0.600000  1988.000000\n",
              "25%      7200.000000    91.000000     1.800000  2003.000000\n",
              "50%     11700.000000   157.000000     2.200000  2008.000000\n",
              "75%     21700.000000   225.000000     3.000000  2012.000000\n",
              "max    129222.000000   433.000000     6.300000  2016.000000"
            ]
          },
          "metadata": {
            "tags": []
          },
          "execution_count": 33
        }
      ]
    },
    {
      "cell_type": "code",
      "metadata": {
        "colab": {
          "base_uri": "https://localhost:8080/",
          "height": 299
        },
        "id": "lK9owLYbw_sc",
        "outputId": "8acf2674-5902-458c-8215-2847e3150a48"
      },
      "source": [
        "#check OLS assumptions \r\n",
        "#1. check the linearity \r\n",
        "\r\n",
        "f,(ax1,ax2,ax3)=plt.subplots(1,3,sharey=True,figsize=(12,4))\r\n",
        "ax1.scatter(data_cleaned['Year'],data_cleaned['Price'])\r\n",
        "ax1.set_title('years and price ')\r\n",
        "ax2.scatter(data_cleaned['Mileage'],data_cleaned['Price'])\r\n",
        "ax2.set_title('Mileage and price ')\r\n",
        "ax3.scatter(data_cleaned['EngineV'],data_cleaned['Price'])\r\n",
        "ax3.set_title('Engine volume and price ')"
      ],
      "execution_count": 34,
      "outputs": [
        {
          "output_type": "execute_result",
          "data": {
            "text/plain": [
              "Text(0.5, 1.0, 'Engine volume and price ')"
            ]
          },
          "metadata": {
            "tags": []
          },
          "execution_count": 34
        },
        {
          "output_type": "display_data",
          "data": {
            "image/png": "[encoded data removed]",
            "text/plain": [
              "<Figure size 864x288 with 3 Axes>"
            ]
          },
          "metadata": {
            "tags": [],
            "needs_background": "light"
          }
        }
      ]
    },
    {
      "cell_type": "code",
      "metadata": {
        "colab": {
          "base_uri": "https://localhost:8080/",
          "height": 199
        },
        "id": "nlTDaueDw6Y-",
        "outputId": "a4388acd-f339-4f4a-bc27-4334b022537b"
      },
      "source": [
        "# use log transformation : expo \r\n",
        "# relaxing the assumptions \r\n",
        "log_price=np.log(data_cleaned['Price'])\r\n",
        "data_cleaned['log_price']=log_price\r\n",
        "data_cleaned.head()"
      ],
      "execution_count": 35,
      "outputs": [
        {
          "output_type": "execute_result",
          "data": {
            "text/html": [
              "<div>\n",
              "<style scoped>\n",
              "    .dataframe tbody tr th:only-of-type {\n",
              "        vertical-align: middle;\n",
              "    }\n",
              "\n",
              "    .dataframe tbody tr th {\n",
              "        vertical-align: top;\n",
              "    }\n",
              "\n",
              "    .dataframe thead th {\n",
              "        text-align: right;\n",
              "    }\n",
              "</style>\n",
              "<table border=\"1\" class=\"dataframe\">\n",
              "  <thead>\n",
              "    <tr style=\"text-align: right;\">\n",
              "      <th></th>\n",
              "      <th>Brand</th>\n",
              "      <th>Price</th>\n",
              "      <th>Body</th>\n",
              "      <th>Mileage</th>\n",
              "      <th>EngineV</th>\n",
              "      <th>Engine Type</th>\n",
              "      <th>Registration</th>\n",
              "      <th>Year</th>\n",
              "      <th>log_price</th>\n",
              "    </tr>\n",
              "  </thead>\n",
              "  <tbody>\n",
              "    <tr>\n",
              "      <th>0</th>\n",
              "      <td>BMW</td>\n",
              "      <td>4200.0</td>\n",
              "      <td>sedan</td>\n",
              "      <td>277</td>\n",
              "      <td>2.0</td>\n",
              "      <td>Petrol</td>\n",
              "      <td>yes</td>\n",
              "      <td>1991</td>\n",
              "      <td>8.342840</td>\n",
              "    </tr>\n",
              "    <tr>\n",
              "      <th>1</th>\n",
              "      <td>Mercedes-Benz</td>\n",
              "      <td>7900.0</td>\n",
              "      <td>van</td>\n",
              "      <td>427</td>\n",
              "      <td>2.9</td>\n",
              "      <td>Diesel</td>\n",
              "      <td>yes</td>\n",
              "      <td>1999</td>\n",
              "      <td>8.974618</td>\n",
              "    </tr>\n",
              "    <tr>\n",
              "      <th>2</th>\n",
              "      <td>Mercedes-Benz</td>\n",
              "      <td>13300.0</td>\n",
              "      <td>sedan</td>\n",
              "      <td>358</td>\n",
              "      <td>5.0</td>\n",
              "      <td>Gas</td>\n",
              "      <td>yes</td>\n",
              "      <td>2003</td>\n",
              "      <td>9.495519</td>\n",
              "    </tr>\n",
              "    <tr>\n",
              "      <th>3</th>\n",
              "      <td>Audi</td>\n",
              "      <td>23000.0</td>\n",
              "      <td>crossover</td>\n",
              "      <td>240</td>\n",
              "      <td>4.2</td>\n",
              "      <td>Petrol</td>\n",
              "      <td>yes</td>\n",
              "      <td>2007</td>\n",
              "      <td>10.043249</td>\n",
              "    </tr>\n",
              "    <tr>\n",
              "      <th>4</th>\n",
              "      <td>Toyota</td>\n",
              "      <td>18300.0</td>\n",
              "      <td>crossover</td>\n",
              "      <td>120</td>\n",
              "      <td>2.0</td>\n",
              "      <td>Petrol</td>\n",
              "      <td>yes</td>\n",
              "      <td>2011</td>\n",
              "      <td>9.814656</td>\n",
              "    </tr>\n",
              "  </tbody>\n",
              "</table>\n",
              "</div>"
            ],
            "text/plain": [
              "           Brand    Price       Body  ...  Registration  Year  log_price\n",
              "0            BMW   4200.0      sedan  ...           yes  1991   8.342840\n",
              "1  Mercedes-Benz   7900.0        van  ...           yes  1999   8.974618\n",
              "2  Mercedes-Benz  13300.0      sedan  ...           yes  2003   9.495519\n",
              "3           Audi  23000.0  crossover  ...           yes  2007  10.043249\n",
              "4         Toyota  18300.0  crossover  ...           yes  2011   9.814656\n",
              "\n",
              "[5 rows x 9 columns]"
            ]
          },
          "metadata": {
            "tags": []
          },
          "execution_count": 35
        }
      ]
    },
    {
      "cell_type": "code",
      "metadata": {
        "colab": {
          "base_uri": "https://localhost:8080/",
          "height": 245
        },
        "id": "td6j-jYMw6bw",
        "outputId": "a7f6f31e-0650-4952-d1df-73835938a820"
      },
      "source": [
        "#data visualization \r\n",
        "f,(ax1,ax2,ax3)=plt.subplots(1,3,sharey=True,figsize=(12,3))\r\n",
        "ax1.scatter(data_cleaned['Year'],data_cleaned['log_price'])\r\n",
        "ax1.set_title('year and price ')\r\n",
        "ax2.scatter(data_cleaned['Mileage'],data_cleaned['log_price'])\r\n",
        "ax2.set_title('mileage and price ')\r\n",
        "ax3.scatter(data_cleaned['EngineV'],data_cleaned['log_price'])\r\n",
        "ax3.set_title('engine and price ')"
      ],
      "execution_count": 36,
      "outputs": [
        {
          "output_type": "execute_result",
          "data": {
            "text/plain": [
              "Text(0.5, 1.0, 'engine and price ')"
            ]
          },
          "metadata": {
            "tags": []
          },
          "execution_count": 36
        },
        {
          "output_type": "display_data",
          "data": {
            "image/png": "[encoded data removed]",
            "text/plain": [
              "<Figure size 864x216 with 3 Axes>"
            ]
          },
          "metadata": {
            "tags": [],
            "needs_background": "light"
          }
        }
      ]
    },
    {
      "cell_type": "code",
      "metadata": {
        "id": "v1DffVKDw6fJ"
      },
      "source": [
        "data_cleaned=data_cleaned.drop(['Price'],axis=1)"
      ],
      "execution_count": 37,
      "outputs": []
    },
    {
      "cell_type": "code",
      "metadata": {
        "colab": {
          "base_uri": "https://localhost:8080/"
        },
        "id": "DWR-u8ND1Xvh",
        "outputId": "f23af87c-45bd-454d-e4fd-664ee8418831"
      },
      "source": [
        "#no endogeneity \r\n",
        "# normality and homoscedasticity(normality ,zero mean )\r\n",
        "#no autocorrelation : no time series data >observations are not dependents on each others \r\n",
        "#multicollinearity \r\n",
        "data_cleaned.columns.values"
      ],
      "execution_count": 38,
      "outputs": [
        {
          "output_type": "execute_result",
          "data": {
            "text/plain": [
              "array(['Brand', 'Body', 'Mileage', 'EngineV', 'Engine Type',\n",
              "       'Registration', 'Year', 'log_price'], dtype=object)"
            ]
          },
          "metadata": {
            "tags": []
          },
          "execution_count": 38
        }
      ]
    },
    {
      "cell_type": "code",
      "metadata": {
        "colab": {
          "base_uri": "https://localhost:8080/"
        },
        "id": "EYCD7jYY2sMB",
        "outputId": "55d4b8b8-6592-4527-c7c7-804bfe845628"
      },
      "source": [
        "# check the multicollinearity \r\n",
        "from statsmodels.stats.outliers_influence import variance_inflation_factor"
      ],
      "execution_count": 39,
      "outputs": [
        {
          "output_type": "stream",
          "text": [
            "/usr/local/lib/python3.7/dist-packages/statsmodels/tools/_testing.py:19: FutureWarning: pandas.util.testing is deprecated. Use the functions in the public API at pandas.testing instead.\n",
            "  import pandas.util.testing as tm\n"
          ],
          "name": "stderr"
        }
      ]
    },
    {
      "cell_type": "code",
      "metadata": {
        "id": "ne0VhYTI2sO5"
      },
      "source": [
        "variable=data_cleaned[['Mileage','Year','EngineV']]"
      ],
      "execution_count": 40,
      "outputs": []
    },
    {
      "cell_type": "code",
      "metadata": {
        "id": "-e-4fqke2sSl"
      },
      "source": [
        "vif=pd.DataFrame()"
      ],
      "execution_count": 41,
      "outputs": []
    },
    {
      "cell_type": "code",
      "metadata": {
        "id": "ug0_DP5C1XyJ"
      },
      "source": [
        "vif['VIF']=[variance_inflation_factor(variable.values,i) for i in range(variable.shape[1])]\r\n",
        "vif['features']=variable.columns "
      ],
      "execution_count": 42,
      "outputs": []
    },
    {
      "cell_type": "code",
      "metadata": {
        "colab": {
          "base_uri": "https://localhost:8080/",
          "height": 139
        },
        "id": "BZcEAXBD1X1K",
        "outputId": "caffca6b-8d52-49b0-efb3-fb1f2f060c73"
      },
      "source": [
        "vif"
      ],
      "execution_count": 43,
      "outputs": [
        {
          "output_type": "execute_result",
          "data": {
            "text/html": [
              "<div>\n",
              "<style scoped>\n",
              "    .dataframe tbody tr th:only-of-type {\n",
              "        vertical-align: middle;\n",
              "    }\n",
              "\n",
              "    .dataframe tbody tr th {\n",
              "        vertical-align: top;\n",
              "    }\n",
              "\n",
              "    .dataframe thead th {\n",
              "        text-align: right;\n",
              "    }\n",
              "</style>\n",
              "<table border=\"1\" class=\"dataframe\">\n",
              "  <thead>\n",
              "    <tr style=\"text-align: right;\">\n",
              "      <th></th>\n",
              "      <th>VIF</th>\n",
              "      <th>features</th>\n",
              "    </tr>\n",
              "  </thead>\n",
              "  <tbody>\n",
              "    <tr>\n",
              "      <th>0</th>\n",
              "      <td>3.794319</td>\n",
              "      <td>Mileage</td>\n",
              "    </tr>\n",
              "    <tr>\n",
              "      <th>1</th>\n",
              "      <td>10.360888</td>\n",
              "      <td>Year</td>\n",
              "    </tr>\n",
              "    <tr>\n",
              "      <th>2</th>\n",
              "      <td>7.660317</td>\n",
              "      <td>EngineV</td>\n",
              "    </tr>\n",
              "  </tbody>\n",
              "</table>\n",
              "</div>"
            ],
            "text/plain": [
              "         VIF features\n",
              "0   3.794319  Mileage\n",
              "1  10.360888     Year\n",
              "2   7.660317  EngineV"
            ]
          },
          "metadata": {
            "tags": []
          },
          "execution_count": 43
        }
      ]
    },
    {
      "cell_type": "code",
      "metadata": {
        "id": "THxt0sC76ZLd"
      },
      "source": [
        "data_no_multicollinearity=data_cleaned.drop(['Year'],axis=1)"
      ],
      "execution_count": 44,
      "outputs": []
    },
    {
      "cell_type": "code",
      "metadata": {
        "id": "hO1vlthl6Amk"
      },
      "source": [
        "# create dummy variables \r\n",
        "data_with_dummies=pd.get_dummies(data_no_multicollinearity,drop_first=True)"
      ],
      "execution_count": 45,
      "outputs": []
    },
    {
      "cell_type": "code",
      "metadata": {
        "colab": {
          "base_uri": "https://localhost:8080/",
          "height": 447
        },
        "id": "idPRx1yo6A_j",
        "outputId": "d4a53224-7e49-4b34-b70d-02e3dfa6df4c"
      },
      "source": [
        "data_with_dummies"
      ],
      "execution_count": 46,
      "outputs": [
        {
          "output_type": "execute_result",
          "data": {
            "text/html": [
              "<div>\n",
              "<style scoped>\n",
              "    .dataframe tbody tr th:only-of-type {\n",
              "        vertical-align: middle;\n",
              "    }\n",
              "\n",
              "    .dataframe tbody tr th {\n",
              "        vertical-align: top;\n",
              "    }\n",
              "\n",
              "    .dataframe thead th {\n",
              "        text-align: right;\n",
              "    }\n",
              "</style>\n",
              "<table border=\"1\" class=\"dataframe\">\n",
              "  <thead>\n",
              "    <tr style=\"text-align: right;\">\n",
              "      <th></th>\n",
              "      <th>Mileage</th>\n",
              "      <th>EngineV</th>\n",
              "      <th>log_price</th>\n",
              "      <th>Brand_BMW</th>\n",
              "      <th>Brand_Mercedes-Benz</th>\n",
              "      <th>Brand_Mitsubishi</th>\n",
              "      <th>Brand_Renault</th>\n",
              "      <th>Brand_Toyota</th>\n",
              "      <th>Brand_Volkswagen</th>\n",
              "      <th>Body_hatch</th>\n",
              "      <th>Body_other</th>\n",
              "      <th>Body_sedan</th>\n",
              "      <th>Body_vagon</th>\n",
              "      <th>Body_van</th>\n",
              "      <th>Engine Type_Gas</th>\n",
              "      <th>Engine Type_Other</th>\n",
              "      <th>Engine Type_Petrol</th>\n",
              "      <th>Registration_yes</th>\n",
              "    </tr>\n",
              "  </thead>\n",
              "  <tbody>\n",
              "    <tr>\n",
              "      <th>0</th>\n",
              "      <td>277</td>\n",
              "      <td>2.0</td>\n",
              "      <td>8.342840</td>\n",
              "      <td>1</td>\n",
              "      <td>0</td>\n",
              "      <td>0</td>\n",
              "      <td>0</td>\n",
              "      <td>0</td>\n",
              "      <td>0</td>\n",
              "      <td>0</td>\n",
              "      <td>0</td>\n",
              "      <td>1</td>\n",
              "      <td>0</td>\n",
              "      <td>0</td>\n",
              "      <td>0</td>\n",
              "      <td>0</td>\n",
              "      <td>1</td>\n",
              "      <td>1</td>\n",
              "    </tr>\n",
              "    <tr>\n",
              "      <th>1</th>\n",
              "      <td>427</td>\n",
              "      <td>2.9</td>\n",
              "      <td>8.974618</td>\n",
              "      <td>0</td>\n",
              "      <td>1</td>\n",
              "      <td>0</td>\n",
              "      <td>0</td>\n",
              "      <td>0</td>\n",
              "      <td>0</td>\n",
              "      <td>0</td>\n",
              "      <td>0</td>\n",
              "      <td>0</td>\n",
              "      <td>0</td>\n",
              "      <td>1</td>\n",
              "      <td>0</td>\n",
              "      <td>0</td>\n",
              "      <td>0</td>\n",
              "      <td>1</td>\n",
              "    </tr>\n",
              "    <tr>\n",
              "      <th>2</th>\n",
              "      <td>358</td>\n",
              "      <td>5.0</td>\n",
              "      <td>9.495519</td>\n",
              "      <td>0</td>\n",
              "      <td>1</td>\n",
              "      <td>0</td>\n",
              "      <td>0</td>\n",
              "      <td>0</td>\n",
              "      <td>0</td>\n",
              "      <td>0</td>\n",
              "      <td>0</td>\n",
              "      <td>1</td>\n",
              "      <td>0</td>\n",
              "      <td>0</td>\n",
              "      <td>1</td>\n",
              "      <td>0</td>\n",
              "      <td>0</td>\n",
              "      <td>1</td>\n",
              "    </tr>\n",
              "    <tr>\n",
              "      <th>3</th>\n",
              "      <td>240</td>\n",
              "      <td>4.2</td>\n",
              "      <td>10.043249</td>\n",
              "      <td>0</td>\n",
              "      <td>0</td>\n",
              "      <td>0</td>\n",
              "      <td>0</td>\n",
              "      <td>0</td>\n",
              "      <td>0</td>\n",
              "      <td>0</td>\n",
              "      <td>0</td>\n",
              "      <td>0</td>\n",
              "      <td>0</td>\n",
              "      <td>0</td>\n",
              "      <td>0</td>\n",
              "      <td>0</td>\n",
              "      <td>1</td>\n",
              "      <td>1</td>\n",
              "    </tr>\n",
              "    <tr>\n",
              "      <th>4</th>\n",
              "      <td>120</td>\n",
              "      <td>2.0</td>\n",
              "      <td>9.814656</td>\n",
              "      <td>0</td>\n",
              "      <td>0</td>\n",
              "      <td>0</td>\n",
              "      <td>0</td>\n",
              "      <td>1</td>\n",
              "      <td>0</td>\n",
              "      <td>0</td>\n",
              "      <td>0</td>\n",
              "      <td>0</td>\n",
              "      <td>0</td>\n",
              "      <td>0</td>\n",
              "      <td>0</td>\n",
              "      <td>0</td>\n",
              "      <td>1</td>\n",
              "      <td>1</td>\n",
              "    </tr>\n",
              "    <tr>\n",
              "      <th>...</th>\n",
              "      <td>...</td>\n",
              "      <td>...</td>\n",
              "      <td>...</td>\n",
              "      <td>...</td>\n",
              "      <td>...</td>\n",
              "      <td>...</td>\n",
              "      <td>...</td>\n",
              "      <td>...</td>\n",
              "      <td>...</td>\n",
              "      <td>...</td>\n",
              "      <td>...</td>\n",
              "      <td>...</td>\n",
              "      <td>...</td>\n",
              "      <td>...</td>\n",
              "      <td>...</td>\n",
              "      <td>...</td>\n",
              "      <td>...</td>\n",
              "      <td>...</td>\n",
              "    </tr>\n",
              "    <tr>\n",
              "      <th>3861</th>\n",
              "      <td>163</td>\n",
              "      <td>2.5</td>\n",
              "      <td>9.350102</td>\n",
              "      <td>0</td>\n",
              "      <td>0</td>\n",
              "      <td>0</td>\n",
              "      <td>0</td>\n",
              "      <td>0</td>\n",
              "      <td>1</td>\n",
              "      <td>0</td>\n",
              "      <td>0</td>\n",
              "      <td>0</td>\n",
              "      <td>0</td>\n",
              "      <td>1</td>\n",
              "      <td>0</td>\n",
              "      <td>0</td>\n",
              "      <td>0</td>\n",
              "      <td>1</td>\n",
              "    </tr>\n",
              "    <tr>\n",
              "      <th>3862</th>\n",
              "      <td>35</td>\n",
              "      <td>1.6</td>\n",
              "      <td>9.792556</td>\n",
              "      <td>0</td>\n",
              "      <td>0</td>\n",
              "      <td>0</td>\n",
              "      <td>0</td>\n",
              "      <td>1</td>\n",
              "      <td>0</td>\n",
              "      <td>0</td>\n",
              "      <td>0</td>\n",
              "      <td>1</td>\n",
              "      <td>0</td>\n",
              "      <td>0</td>\n",
              "      <td>0</td>\n",
              "      <td>0</td>\n",
              "      <td>1</td>\n",
              "      <td>1</td>\n",
              "    </tr>\n",
              "    <tr>\n",
              "      <th>3863</th>\n",
              "      <td>9</td>\n",
              "      <td>3.0</td>\n",
              "      <td>11.736069</td>\n",
              "      <td>0</td>\n",
              "      <td>1</td>\n",
              "      <td>0</td>\n",
              "      <td>0</td>\n",
              "      <td>0</td>\n",
              "      <td>0</td>\n",
              "      <td>0</td>\n",
              "      <td>0</td>\n",
              "      <td>1</td>\n",
              "      <td>0</td>\n",
              "      <td>0</td>\n",
              "      <td>0</td>\n",
              "      <td>0</td>\n",
              "      <td>0</td>\n",
              "      <td>1</td>\n",
              "    </tr>\n",
              "    <tr>\n",
              "      <th>3864</th>\n",
              "      <td>1</td>\n",
              "      <td>3.5</td>\n",
              "      <td>8.779557</td>\n",
              "      <td>1</td>\n",
              "      <td>0</td>\n",
              "      <td>0</td>\n",
              "      <td>0</td>\n",
              "      <td>0</td>\n",
              "      <td>0</td>\n",
              "      <td>0</td>\n",
              "      <td>0</td>\n",
              "      <td>1</td>\n",
              "      <td>0</td>\n",
              "      <td>0</td>\n",
              "      <td>0</td>\n",
              "      <td>0</td>\n",
              "      <td>1</td>\n",
              "      <td>1</td>\n",
              "    </tr>\n",
              "    <tr>\n",
              "      <th>3865</th>\n",
              "      <td>124</td>\n",
              "      <td>2.0</td>\n",
              "      <td>9.510445</td>\n",
              "      <td>0</td>\n",
              "      <td>0</td>\n",
              "      <td>0</td>\n",
              "      <td>0</td>\n",
              "      <td>0</td>\n",
              "      <td>1</td>\n",
              "      <td>0</td>\n",
              "      <td>0</td>\n",
              "      <td>0</td>\n",
              "      <td>0</td>\n",
              "      <td>1</td>\n",
              "      <td>0</td>\n",
              "      <td>0</td>\n",
              "      <td>0</td>\n",
              "      <td>1</td>\n",
              "    </tr>\n",
              "  </tbody>\n",
              "</table>\n",
              "<p>3866 rows × 18 columns</p>\n",
              "</div>"
            ],
            "text/plain": [
              "      Mileage  EngineV  ...  Engine Type_Petrol  Registration_yes\n",
              "0         277      2.0  ...                   1                 1\n",
              "1         427      2.9  ...                   0                 1\n",
              "2         358      5.0  ...                   0                 1\n",
              "3         240      4.2  ...                   1                 1\n",
              "4         120      2.0  ...                   1                 1\n",
              "...       ...      ...  ...                 ...               ...\n",
              "3861      163      2.5  ...                   0                 1\n",
              "3862       35      1.6  ...                   1                 1\n",
              "3863        9      3.0  ...                   0                 1\n",
              "3864        1      3.5  ...                   1                 1\n",
              "3865      124      2.0  ...                   0                 1\n",
              "\n",
              "[3866 rows x 18 columns]"
            ]
          },
          "metadata": {
            "tags": []
          },
          "execution_count": 46
        }
      ]
    },
    {
      "cell_type": "code",
      "metadata": {
        "id": "w6a4TM3t67Kc"
      },
      "source": [
        "from statsmodels.stats.outliers_influence import variance_inflation_factor"
      ],
      "execution_count": 47,
      "outputs": []
    },
    {
      "cell_type": "code",
      "metadata": {
        "colab": {
          "base_uri": "https://localhost:8080/"
        },
        "id": "wgpdIiRr7Fx-",
        "outputId": "04e268b7-5c81-4d65-ae2b-c9d72b319f72"
      },
      "source": [
        "data_with_dummies.columns.values"
      ],
      "execution_count": 48,
      "outputs": [
        {
          "output_type": "execute_result",
          "data": {
            "text/plain": [
              "array(['Mileage', 'EngineV', 'log_price', 'Brand_BMW',\n",
              "       'Brand_Mercedes-Benz', 'Brand_Mitsubishi', 'Brand_Renault',\n",
              "       'Brand_Toyota', 'Brand_Volkswagen', 'Body_hatch', 'Body_other',\n",
              "       'Body_sedan', 'Body_vagon', 'Body_van', 'Engine Type_Gas',\n",
              "       'Engine Type_Other', 'Engine Type_Petrol', 'Registration_yes'],\n",
              "      dtype=object)"
            ]
          },
          "metadata": {
            "tags": []
          },
          "execution_count": 48
        }
      ]
    },
    {
      "cell_type": "code",
      "metadata": {
        "id": "QIZJrCej7Vr3"
      },
      "source": [
        "variables=data_with_dummies[['Brand_BMW',\r\n",
        "       'Brand_Mercedes-Benz', 'Brand_Mitsubishi', 'Brand_Renault',\r\n",
        "       'Brand_Toyota', 'Brand_Volkswagen']]"
      ],
      "execution_count": 49,
      "outputs": []
    },
    {
      "cell_type": "code",
      "metadata": {
        "id": "3y41BBOC7Yp8"
      },
      "source": [
        "vif=pd.DataFrame()"
      ],
      "execution_count": 50,
      "outputs": []
    },
    {
      "cell_type": "code",
      "metadata": {
        "id": "taMfP23P7cnL"
      },
      "source": [
        "vif['VIF']=[variance_inflation_factor(variables.values,i)for i in  range(variables.shape[1])]\r\n",
        "vif['features']=variables.columns"
      ],
      "execution_count": 51,
      "outputs": []
    },
    {
      "cell_type": "code",
      "metadata": {
        "colab": {
          "base_uri": "https://localhost:8080/",
          "height": 230
        },
        "id": "pbBAS2738GzS",
        "outputId": "4fdbc989-7001-41a9-8d96-5ef88ee546a2"
      },
      "source": [
        "vif"
      ],
      "execution_count": 52,
      "outputs": [
        {
          "output_type": "execute_result",
          "data": {
            "text/html": [
              "<div>\n",
              "<style scoped>\n",
              "    .dataframe tbody tr th:only-of-type {\n",
              "        vertical-align: middle;\n",
              "    }\n",
              "\n",
              "    .dataframe tbody tr th {\n",
              "        vertical-align: top;\n",
              "    }\n",
              "\n",
              "    .dataframe thead th {\n",
              "        text-align: right;\n",
              "    }\n",
              "</style>\n",
              "<table border=\"1\" class=\"dataframe\">\n",
              "  <thead>\n",
              "    <tr style=\"text-align: right;\">\n",
              "      <th></th>\n",
              "      <th>VIF</th>\n",
              "      <th>features</th>\n",
              "    </tr>\n",
              "  </thead>\n",
              "  <tbody>\n",
              "    <tr>\n",
              "      <th>0</th>\n",
              "      <td>0.179487</td>\n",
              "      <td>Brand_BMW</td>\n",
              "    </tr>\n",
              "    <tr>\n",
              "      <th>1</th>\n",
              "      <td>0.320955</td>\n",
              "      <td>Brand_Mercedes-Benz</td>\n",
              "    </tr>\n",
              "    <tr>\n",
              "      <th>2</th>\n",
              "      <td>0.152318</td>\n",
              "      <td>Brand_Mitsubishi</td>\n",
              "    </tr>\n",
              "    <tr>\n",
              "      <th>3</th>\n",
              "      <td>0.407407</td>\n",
              "      <td>Brand_Renault</td>\n",
              "    </tr>\n",
              "    <tr>\n",
              "      <th>4</th>\n",
              "      <td>0.485944</td>\n",
              "      <td>Brand_Toyota</td>\n",
              "    </tr>\n",
              "    <tr>\n",
              "      <th>5</th>\n",
              "      <td>0.094340</td>\n",
              "      <td>Brand_Volkswagen</td>\n",
              "    </tr>\n",
              "  </tbody>\n",
              "</table>\n",
              "</div>"
            ],
            "text/plain": [
              "        VIF             features\n",
              "0  0.179487            Brand_BMW\n",
              "1  0.320955  Brand_Mercedes-Benz\n",
              "2  0.152318     Brand_Mitsubishi\n",
              "3  0.407407        Brand_Renault\n",
              "4  0.485944         Brand_Toyota\n",
              "5  0.094340     Brand_Volkswagen"
            ]
          },
          "metadata": {
            "tags": []
          },
          "execution_count": 52
        }
      ]
    },
    {
      "cell_type": "code",
      "metadata": {
        "colab": {
          "base_uri": "https://localhost:8080/",
          "height": 236
        },
        "id": "Sjxq-1Lz8LAs",
        "outputId": "8d528b88-07fd-4983-d856-da921ac54b6a"
      },
      "source": [
        "data_with_dummies.head()"
      ],
      "execution_count": 53,
      "outputs": [
        {
          "output_type": "execute_result",
          "data": {
            "text/html": [
              "<div>\n",
              "<style scoped>\n",
              "    .dataframe tbody tr th:only-of-type {\n",
              "        vertical-align: middle;\n",
              "    }\n",
              "\n",
              "    .dataframe tbody tr th {\n",
              "        vertical-align: top;\n",
              "    }\n",
              "\n",
              "    .dataframe thead th {\n",
              "        text-align: right;\n",
              "    }\n",
              "</style>\n",
              "<table border=\"1\" class=\"dataframe\">\n",
              "  <thead>\n",
              "    <tr style=\"text-align: right;\">\n",
              "      <th></th>\n",
              "      <th>Mileage</th>\n",
              "      <th>EngineV</th>\n",
              "      <th>log_price</th>\n",
              "      <th>Brand_BMW</th>\n",
              "      <th>Brand_Mercedes-Benz</th>\n",
              "      <th>Brand_Mitsubishi</th>\n",
              "      <th>Brand_Renault</th>\n",
              "      <th>Brand_Toyota</th>\n",
              "      <th>Brand_Volkswagen</th>\n",
              "      <th>Body_hatch</th>\n",
              "      <th>Body_other</th>\n",
              "      <th>Body_sedan</th>\n",
              "      <th>Body_vagon</th>\n",
              "      <th>Body_van</th>\n",
              "      <th>Engine Type_Gas</th>\n",
              "      <th>Engine Type_Other</th>\n",
              "      <th>Engine Type_Petrol</th>\n",
              "      <th>Registration_yes</th>\n",
              "    </tr>\n",
              "  </thead>\n",
              "  <tbody>\n",
              "    <tr>\n",
              "      <th>0</th>\n",
              "      <td>277</td>\n",
              "      <td>2.0</td>\n",
              "      <td>8.342840</td>\n",
              "      <td>1</td>\n",
              "      <td>0</td>\n",
              "      <td>0</td>\n",
              "      <td>0</td>\n",
              "      <td>0</td>\n",
              "      <td>0</td>\n",
              "      <td>0</td>\n",
              "      <td>0</td>\n",
              "      <td>1</td>\n",
              "      <td>0</td>\n",
              "      <td>0</td>\n",
              "      <td>0</td>\n",
              "      <td>0</td>\n",
              "      <td>1</td>\n",
              "      <td>1</td>\n",
              "    </tr>\n",
              "    <tr>\n",
              "      <th>1</th>\n",
              "      <td>427</td>\n",
              "      <td>2.9</td>\n",
              "      <td>8.974618</td>\n",
              "      <td>0</td>\n",
              "      <td>1</td>\n",
              "      <td>0</td>\n",
              "      <td>0</td>\n",
              "      <td>0</td>\n",
              "      <td>0</td>\n",
              "      <td>0</td>\n",
              "      <td>0</td>\n",
              "      <td>0</td>\n",
              "      <td>0</td>\n",
              "      <td>1</td>\n",
              "      <td>0</td>\n",
              "      <td>0</td>\n",
              "      <td>0</td>\n",
              "      <td>1</td>\n",
              "    </tr>\n",
              "    <tr>\n",
              "      <th>2</th>\n",
              "      <td>358</td>\n",
              "      <td>5.0</td>\n",
              "      <td>9.495519</td>\n",
              "      <td>0</td>\n",
              "      <td>1</td>\n",
              "      <td>0</td>\n",
              "      <td>0</td>\n",
              "      <td>0</td>\n",
              "      <td>0</td>\n",
              "      <td>0</td>\n",
              "      <td>0</td>\n",
              "      <td>1</td>\n",
              "      <td>0</td>\n",
              "      <td>0</td>\n",
              "      <td>1</td>\n",
              "      <td>0</td>\n",
              "      <td>0</td>\n",
              "      <td>1</td>\n",
              "    </tr>\n",
              "    <tr>\n",
              "      <th>3</th>\n",
              "      <td>240</td>\n",
              "      <td>4.2</td>\n",
              "      <td>10.043249</td>\n",
              "      <td>0</td>\n",
              "      <td>0</td>\n",
              "      <td>0</td>\n",
              "      <td>0</td>\n",
              "      <td>0</td>\n",
              "      <td>0</td>\n",
              "      <td>0</td>\n",
              "      <td>0</td>\n",
              "      <td>0</td>\n",
              "      <td>0</td>\n",
              "      <td>0</td>\n",
              "      <td>0</td>\n",
              "      <td>0</td>\n",
              "      <td>1</td>\n",
              "      <td>1</td>\n",
              "    </tr>\n",
              "    <tr>\n",
              "      <th>4</th>\n",
              "      <td>120</td>\n",
              "      <td>2.0</td>\n",
              "      <td>9.814656</td>\n",
              "      <td>0</td>\n",
              "      <td>0</td>\n",
              "      <td>0</td>\n",
              "      <td>0</td>\n",
              "      <td>1</td>\n",
              "      <td>0</td>\n",
              "      <td>0</td>\n",
              "      <td>0</td>\n",
              "      <td>0</td>\n",
              "      <td>0</td>\n",
              "      <td>0</td>\n",
              "      <td>0</td>\n",
              "      <td>0</td>\n",
              "      <td>1</td>\n",
              "      <td>1</td>\n",
              "    </tr>\n",
              "  </tbody>\n",
              "</table>\n",
              "</div>"
            ],
            "text/plain": [
              "   Mileage  EngineV  ...  Engine Type_Petrol  Registration_yes\n",
              "0      277      2.0  ...                   1                 1\n",
              "1      427      2.9  ...                   0                 1\n",
              "2      358      5.0  ...                   0                 1\n",
              "3      240      4.2  ...                   1                 1\n",
              "4      120      2.0  ...                   1                 1\n",
              "\n",
              "[5 rows x 18 columns]"
            ]
          },
          "metadata": {
            "tags": []
          },
          "execution_count": 53
        }
      ]
    },
    {
      "cell_type": "code",
      "metadata": {
        "colab": {
          "base_uri": "https://localhost:8080/"
        },
        "id": "Q4ZH1uQ2Lx-_",
        "outputId": "3c860e69-b812-4df6-be14-59109d836278"
      },
      "source": [
        "data_with_dummies.columns .values"
      ],
      "execution_count": 54,
      "outputs": [
        {
          "output_type": "execute_result",
          "data": {
            "text/plain": [
              "array(['Mileage', 'EngineV', 'log_price', 'Brand_BMW',\n",
              "       'Brand_Mercedes-Benz', 'Brand_Mitsubishi', 'Brand_Renault',\n",
              "       'Brand_Toyota', 'Brand_Volkswagen', 'Body_hatch', 'Body_other',\n",
              "       'Body_sedan', 'Body_vagon', 'Body_van', 'Engine Type_Gas',\n",
              "       'Engine Type_Other', 'Engine Type_Petrol', 'Registration_yes'],\n",
              "      dtype=object)"
            ]
          },
          "metadata": {
            "tags": []
          },
          "execution_count": 54
        }
      ]
    },
    {
      "cell_type": "code",
      "metadata": {
        "id": "Jkraj-GAMJZc"
      },
      "source": [
        "cols=[ 'log_price', 'Mileage', 'EngineV','Brand_BMW',\r\n",
        "       'Brand_Mercedes-Benz', 'Brand_Mitsubishi', 'Brand_Renault',\r\n",
        "       'Brand_Toyota', 'Brand_Volkswagen', 'Body_hatch', 'Body_other',\r\n",
        "       'Body_sedan', 'Body_vagon', 'Body_van', 'Engine Type_Gas',\r\n",
        "       'Engine Type_Other', 'Engine Type_Petrol', 'Registration_yes']\r\n",
        "  "
      ],
      "execution_count": 55,
      "outputs": []
    },
    {
      "cell_type": "code",
      "metadata": {
        "id": "2BD7q2-hL2sk"
      },
      "source": [
        "#Linear regression \r\n",
        "#declare the inputs and the targets\r\n",
        "data_preprocessed =data_with_dummies[cols]"
      ],
      "execution_count": 56,
      "outputs": []
    },
    {
      "cell_type": "code",
      "metadata": {
        "colab": {
          "base_uri": "https://localhost:8080/",
          "height": 236
        },
        "id": "YpHIviOgL4jb",
        "outputId": "e794a2ac-77aa-4917-e2fd-2e1318cd6796"
      },
      "source": [
        "data_preprocessed.head()"
      ],
      "execution_count": 57,
      "outputs": [
        {
          "output_type": "execute_result",
          "data": {
            "text/html": [
              "<div>\n",
              "<style scoped>\n",
              "    .dataframe tbody tr th:only-of-type {\n",
              "        vertical-align: middle;\n",
              "    }\n",
              "\n",
              "    .dataframe tbody tr th {\n",
              "        vertical-align: top;\n",
              "    }\n",
              "\n",
              "    .dataframe thead th {\n",
              "        text-align: right;\n",
              "    }\n",
              "</style>\n",
              "<table border=\"1\" class=\"dataframe\">\n",
              "  <thead>\n",
              "    <tr style=\"text-align: right;\">\n",
              "      <th></th>\n",
              "      <th>log_price</th>\n",
              "      <th>Mileage</th>\n",
              "      <th>EngineV</th>\n",
              "      <th>Brand_BMW</th>\n",
              "      <th>Brand_Mercedes-Benz</th>\n",
              "      <th>Brand_Mitsubishi</th>\n",
              "      <th>Brand_Renault</th>\n",
              "      <th>Brand_Toyota</th>\n",
              "      <th>Brand_Volkswagen</th>\n",
              "      <th>Body_hatch</th>\n",
              "      <th>Body_other</th>\n",
              "      <th>Body_sedan</th>\n",
              "      <th>Body_vagon</th>\n",
              "      <th>Body_van</th>\n",
              "      <th>Engine Type_Gas</th>\n",
              "      <th>Engine Type_Other</th>\n",
              "      <th>Engine Type_Petrol</th>\n",
              "      <th>Registration_yes</th>\n",
              "    </tr>\n",
              "  </thead>\n",
              "  <tbody>\n",
              "    <tr>\n",
              "      <th>0</th>\n",
              "      <td>8.342840</td>\n",
              "      <td>277</td>\n",
              "      <td>2.0</td>\n",
              "      <td>1</td>\n",
              "      <td>0</td>\n",
              "      <td>0</td>\n",
              "      <td>0</td>\n",
              "      <td>0</td>\n",
              "      <td>0</td>\n",
              "      <td>0</td>\n",
              "      <td>0</td>\n",
              "      <td>1</td>\n",
              "      <td>0</td>\n",
              "      <td>0</td>\n",
              "      <td>0</td>\n",
              "      <td>0</td>\n",
              "      <td>1</td>\n",
              "      <td>1</td>\n",
              "    </tr>\n",
              "    <tr>\n",
              "      <th>1</th>\n",
              "      <td>8.974618</td>\n",
              "      <td>427</td>\n",
              "      <td>2.9</td>\n",
              "      <td>0</td>\n",
              "      <td>1</td>\n",
              "      <td>0</td>\n",
              "      <td>0</td>\n",
              "      <td>0</td>\n",
              "      <td>0</td>\n",
              "      <td>0</td>\n",
              "      <td>0</td>\n",
              "      <td>0</td>\n",
              "      <td>0</td>\n",
              "      <td>1</td>\n",
              "      <td>0</td>\n",
              "      <td>0</td>\n",
              "      <td>0</td>\n",
              "      <td>1</td>\n",
              "    </tr>\n",
              "    <tr>\n",
              "      <th>2</th>\n",
              "      <td>9.495519</td>\n",
              "      <td>358</td>\n",
              "      <td>5.0</td>\n",
              "      <td>0</td>\n",
              "      <td>1</td>\n",
              "      <td>0</td>\n",
              "      <td>0</td>\n",
              "      <td>0</td>\n",
              "      <td>0</td>\n",
              "      <td>0</td>\n",
              "      <td>0</td>\n",
              "      <td>1</td>\n",
              "      <td>0</td>\n",
              "      <td>0</td>\n",
              "      <td>1</td>\n",
              "      <td>0</td>\n",
              "      <td>0</td>\n",
              "      <td>1</td>\n",
              "    </tr>\n",
              "    <tr>\n",
              "      <th>3</th>\n",
              "      <td>10.043249</td>\n",
              "      <td>240</td>\n",
              "      <td>4.2</td>\n",
              "      <td>0</td>\n",
              "      <td>0</td>\n",
              "      <td>0</td>\n",
              "      <td>0</td>\n",
              "      <td>0</td>\n",
              "      <td>0</td>\n",
              "      <td>0</td>\n",
              "      <td>0</td>\n",
              "      <td>0</td>\n",
              "      <td>0</td>\n",
              "      <td>0</td>\n",
              "      <td>0</td>\n",
              "      <td>0</td>\n",
              "      <td>1</td>\n",
              "      <td>1</td>\n",
              "    </tr>\n",
              "    <tr>\n",
              "      <th>4</th>\n",
              "      <td>9.814656</td>\n",
              "      <td>120</td>\n",
              "      <td>2.0</td>\n",
              "      <td>0</td>\n",
              "      <td>0</td>\n",
              "      <td>0</td>\n",
              "      <td>0</td>\n",
              "      <td>1</td>\n",
              "      <td>0</td>\n",
              "      <td>0</td>\n",
              "      <td>0</td>\n",
              "      <td>0</td>\n",
              "      <td>0</td>\n",
              "      <td>0</td>\n",
              "      <td>0</td>\n",
              "      <td>0</td>\n",
              "      <td>1</td>\n",
              "      <td>1</td>\n",
              "    </tr>\n",
              "  </tbody>\n",
              "</table>\n",
              "</div>"
            ],
            "text/plain": [
              "   log_price  Mileage  ...  Engine Type_Petrol  Registration_yes\n",
              "0   8.342840      277  ...                   1                 1\n",
              "1   8.974618      427  ...                   0                 1\n",
              "2   9.495519      358  ...                   0                 1\n",
              "3  10.043249      240  ...                   1                 1\n",
              "4   9.814656      120  ...                   1                 1\n",
              "\n",
              "[5 rows x 18 columns]"
            ]
          },
          "metadata": {
            "tags": []
          },
          "execution_count": 57
        }
      ]
    },
    {
      "cell_type": "code",
      "metadata": {
        "id": "Onk1hXb5Meek"
      },
      "source": [
        "target=data_preprocessed['log_price']"
      ],
      "execution_count": 58,
      "outputs": []
    },
    {
      "cell_type": "code",
      "metadata": {
        "id": "kWYEv9NKMe1R"
      },
      "source": [
        "inputs=data_preprocessed.drop(['log_price'],axis=1)"
      ],
      "execution_count": 59,
      "outputs": []
    },
    {
      "cell_type": "code",
      "metadata": {
        "id": "E48YlXMrMe4-"
      },
      "source": [
        "#scale the data \r\n",
        "from sklearn.preprocessing import StandardScaler"
      ],
      "execution_count": 60,
      "outputs": []
    },
    {
      "cell_type": "code",
      "metadata": {
        "id": "AVh8Ulp5MxFu"
      },
      "source": [
        "scaler=StandardScaler"
      ],
      "execution_count": 61,
      "outputs": []
    },
    {
      "cell_type": "code",
      "metadata": {
        "colab": {
          "base_uri": "https://localhost:8080/",
          "height": 447
        },
        "id": "WICIYkKyMxJD",
        "outputId": "fc02c12d-443c-4bc1-d77c-bed7f6b5440f"
      },
      "source": [
        "inputs"
      ],
      "execution_count": 62,
      "outputs": [
        {
          "output_type": "execute_result",
          "data": {
            "text/html": [
              "<div>\n",
              "<style scoped>\n",
              "    .dataframe tbody tr th:only-of-type {\n",
              "        vertical-align: middle;\n",
              "    }\n",
              "\n",
              "    .dataframe tbody tr th {\n",
              "        vertical-align: top;\n",
              "    }\n",
              "\n",
              "    .dataframe thead th {\n",
              "        text-align: right;\n",
              "    }\n",
              "</style>\n",
              "<table border=\"1\" class=\"dataframe\">\n",
              "  <thead>\n",
              "    <tr style=\"text-align: right;\">\n",
              "      <th></th>\n",
              "      <th>Mileage</th>\n",
              "      <th>EngineV</th>\n",
              "      <th>Brand_BMW</th>\n",
              "      <th>Brand_Mercedes-Benz</th>\n",
              "      <th>Brand_Mitsubishi</th>\n",
              "      <th>Brand_Renault</th>\n",
              "      <th>Brand_Toyota</th>\n",
              "      <th>Brand_Volkswagen</th>\n",
              "      <th>Body_hatch</th>\n",
              "      <th>Body_other</th>\n",
              "      <th>Body_sedan</th>\n",
              "      <th>Body_vagon</th>\n",
              "      <th>Body_van</th>\n",
              "      <th>Engine Type_Gas</th>\n",
              "      <th>Engine Type_Other</th>\n",
              "      <th>Engine Type_Petrol</th>\n",
              "      <th>Registration_yes</th>\n",
              "    </tr>\n",
              "  </thead>\n",
              "  <tbody>\n",
              "    <tr>\n",
              "      <th>0</th>\n",
              "      <td>277</td>\n",
              "      <td>2.0</td>\n",
              "      <td>1</td>\n",
              "      <td>0</td>\n",
              "      <td>0</td>\n",
              "      <td>0</td>\n",
              "      <td>0</td>\n",
              "      <td>0</td>\n",
              "      <td>0</td>\n",
              "      <td>0</td>\n",
              "      <td>1</td>\n",
              "      <td>0</td>\n",
              "      <td>0</td>\n",
              "      <td>0</td>\n",
              "      <td>0</td>\n",
              "      <td>1</td>\n",
              "      <td>1</td>\n",
              "    </tr>\n",
              "    <tr>\n",
              "      <th>1</th>\n",
              "      <td>427</td>\n",
              "      <td>2.9</td>\n",
              "      <td>0</td>\n",
              "      <td>1</td>\n",
              "      <td>0</td>\n",
              "      <td>0</td>\n",
              "      <td>0</td>\n",
              "      <td>0</td>\n",
              "      <td>0</td>\n",
              "      <td>0</td>\n",
              "      <td>0</td>\n",
              "      <td>0</td>\n",
              "      <td>1</td>\n",
              "      <td>0</td>\n",
              "      <td>0</td>\n",
              "      <td>0</td>\n",
              "      <td>1</td>\n",
              "    </tr>\n",
              "    <tr>\n",
              "      <th>2</th>\n",
              "      <td>358</td>\n",
              "      <td>5.0</td>\n",
              "      <td>0</td>\n",
              "      <td>1</td>\n",
              "      <td>0</td>\n",
              "      <td>0</td>\n",
              "      <td>0</td>\n",
              "      <td>0</td>\n",
              "      <td>0</td>\n",
              "      <td>0</td>\n",
              "      <td>1</td>\n",
              "      <td>0</td>\n",
              "      <td>0</td>\n",
              "      <td>1</td>\n",
              "      <td>0</td>\n",
              "      <td>0</td>\n",
              "      <td>1</td>\n",
              "    </tr>\n",
              "    <tr>\n",
              "      <th>3</th>\n",
              "      <td>240</td>\n",
              "      <td>4.2</td>\n",
              "      <td>0</td>\n",
              "      <td>0</td>\n",
              "      <td>0</td>\n",
              "      <td>0</td>\n",
              "      <td>0</td>\n",
              "      <td>0</td>\n",
              "      <td>0</td>\n",
              "      <td>0</td>\n",
              "      <td>0</td>\n",
              "      <td>0</td>\n",
              "      <td>0</td>\n",
              "      <td>0</td>\n",
              "      <td>0</td>\n",
              "      <td>1</td>\n",
              "      <td>1</td>\n",
              "    </tr>\n",
              "    <tr>\n",
              "      <th>4</th>\n",
              "      <td>120</td>\n",
              "      <td>2.0</td>\n",
              "      <td>0</td>\n",
              "      <td>0</td>\n",
              "      <td>0</td>\n",
              "      <td>0</td>\n",
              "      <td>1</td>\n",
              "      <td>0</td>\n",
              "      <td>0</td>\n",
              "      <td>0</td>\n",
              "      <td>0</td>\n",
              "      <td>0</td>\n",
              "      <td>0</td>\n",
              "      <td>0</td>\n",
              "      <td>0</td>\n",
              "      <td>1</td>\n",
              "      <td>1</td>\n",
              "    </tr>\n",
              "    <tr>\n",
              "      <th>...</th>\n",
              "      <td>...</td>\n",
              "      <td>...</td>\n",
              "      <td>...</td>\n",
              "      <td>...</td>\n",
              "      <td>...</td>\n",
              "      <td>...</td>\n",
              "      <td>...</td>\n",
              "      <td>...</td>\n",
              "      <td>...</td>\n",
              "      <td>...</td>\n",
              "      <td>...</td>\n",
              "      <td>...</td>\n",
              "      <td>...</td>\n",
              "      <td>...</td>\n",
              "      <td>...</td>\n",
              "      <td>...</td>\n",
              "      <td>...</td>\n",
              "    </tr>\n",
              "    <tr>\n",
              "      <th>3861</th>\n",
              "      <td>163</td>\n",
              "      <td>2.5</td>\n",
              "      <td>0</td>\n",
              "      <td>0</td>\n",
              "      <td>0</td>\n",
              "      <td>0</td>\n",
              "      <td>0</td>\n",
              "      <td>1</td>\n",
              "      <td>0</td>\n",
              "      <td>0</td>\n",
              "      <td>0</td>\n",
              "      <td>0</td>\n",
              "      <td>1</td>\n",
              "      <td>0</td>\n",
              "      <td>0</td>\n",
              "      <td>0</td>\n",
              "      <td>1</td>\n",
              "    </tr>\n",
              "    <tr>\n",
              "      <th>3862</th>\n",
              "      <td>35</td>\n",
              "      <td>1.6</td>\n",
              "      <td>0</td>\n",
              "      <td>0</td>\n",
              "      <td>0</td>\n",
              "      <td>0</td>\n",
              "      <td>1</td>\n",
              "      <td>0</td>\n",
              "      <td>0</td>\n",
              "      <td>0</td>\n",
              "      <td>1</td>\n",
              "      <td>0</td>\n",
              "      <td>0</td>\n",
              "      <td>0</td>\n",
              "      <td>0</td>\n",
              "      <td>1</td>\n",
              "      <td>1</td>\n",
              "    </tr>\n",
              "    <tr>\n",
              "      <th>3863</th>\n",
              "      <td>9</td>\n",
              "      <td>3.0</td>\n",
              "      <td>0</td>\n",
              "      <td>1</td>\n",
              "      <td>0</td>\n",
              "      <td>0</td>\n",
              "      <td>0</td>\n",
              "      <td>0</td>\n",
              "      <td>0</td>\n",
              "      <td>0</td>\n",
              "      <td>1</td>\n",
              "      <td>0</td>\n",
              "      <td>0</td>\n",
              "      <td>0</td>\n",
              "      <td>0</td>\n",
              "      <td>0</td>\n",
              "      <td>1</td>\n",
              "    </tr>\n",
              "    <tr>\n",
              "      <th>3864</th>\n",
              "      <td>1</td>\n",
              "      <td>3.5</td>\n",
              "      <td>1</td>\n",
              "      <td>0</td>\n",
              "      <td>0</td>\n",
              "      <td>0</td>\n",
              "      <td>0</td>\n",
              "      <td>0</td>\n",
              "      <td>0</td>\n",
              "      <td>0</td>\n",
              "      <td>1</td>\n",
              "      <td>0</td>\n",
              "      <td>0</td>\n",
              "      <td>0</td>\n",
              "      <td>0</td>\n",
              "      <td>1</td>\n",
              "      <td>1</td>\n",
              "    </tr>\n",
              "    <tr>\n",
              "      <th>3865</th>\n",
              "      <td>124</td>\n",
              "      <td>2.0</td>\n",
              "      <td>0</td>\n",
              "      <td>0</td>\n",
              "      <td>0</td>\n",
              "      <td>0</td>\n",
              "      <td>0</td>\n",
              "      <td>1</td>\n",
              "      <td>0</td>\n",
              "      <td>0</td>\n",
              "      <td>0</td>\n",
              "      <td>0</td>\n",
              "      <td>1</td>\n",
              "      <td>0</td>\n",
              "      <td>0</td>\n",
              "      <td>0</td>\n",
              "      <td>1</td>\n",
              "    </tr>\n",
              "  </tbody>\n",
              "</table>\n",
              "<p>3866 rows × 17 columns</p>\n",
              "</div>"
            ],
            "text/plain": [
              "      Mileage  EngineV  ...  Engine Type_Petrol  Registration_yes\n",
              "0         277      2.0  ...                   1                 1\n",
              "1         427      2.9  ...                   0                 1\n",
              "2         358      5.0  ...                   0                 1\n",
              "3         240      4.2  ...                   1                 1\n",
              "4         120      2.0  ...                   1                 1\n",
              "...       ...      ...  ...                 ...               ...\n",
              "3861      163      2.5  ...                   0                 1\n",
              "3862       35      1.6  ...                   1                 1\n",
              "3863        9      3.0  ...                   0                 1\n",
              "3864        1      3.5  ...                   1                 1\n",
              "3865      124      2.0  ...                   0                 1\n",
              "\n",
              "[3866 rows x 17 columns]"
            ]
          },
          "metadata": {
            "tags": []
          },
          "execution_count": 62
        }
      ]
    },
    {
      "cell_type": "code",
      "metadata": {
        "id": "8aPlGBImNnEg"
      },
      "source": [
        "scaler=StandardScaler()"
      ],
      "execution_count": 63,
      "outputs": []
    },
    {
      "cell_type": "code",
      "metadata": {
        "id": "6Hyafg2iNvWA"
      },
      "source": [
        "scaled_input=scaler.fit_transform(inputs)"
      ],
      "execution_count": 64,
      "outputs": []
    },
    {
      "cell_type": "code",
      "metadata": {
        "colab": {
          "base_uri": "https://localhost:8080/"
        },
        "id": "UqU0BBfOMxYu",
        "outputId": "7ee3bea1-a431-4a6e-e9d1-dd081811fe47"
      },
      "source": [
        "scaled_input"
      ],
      "execution_count": 65,
      "outputs": [
        {
          "output_type": "execute_result",
          "data": {
            "text/plain": [
              "array([[ 1.21979294, -0.47429745,  2.27936676, ..., -0.16211373,\n",
              "         1.33315372,  0.32141951],\n",
              "       [ 2.7899583 ,  0.47377973, -0.43871834, ..., -0.16211373,\n",
              "        -0.75010104,  0.32141951],\n",
              "       [ 2.06768224,  2.68595982, -0.43871834, ..., -0.16211373,\n",
              "        -0.75010104,  0.32141951],\n",
              "       ...,\n",
              "       [-1.58556918,  0.57912164, -0.43871834, ..., -0.16211373,\n",
              "        -0.75010104,  0.32141951],\n",
              "       [-1.66931133,  1.10583119,  2.27936676, ..., -0.16211373,\n",
              "         1.33315372,  0.32141951],\n",
              "       [-0.38177573, -0.47429745, -0.43871834, ..., -0.16211373,\n",
              "        -0.75010104,  0.32141951]])"
            ]
          },
          "metadata": {
            "tags": []
          },
          "execution_count": 65
        }
      ]
    },
    {
      "cell_type": "code",
      "metadata": {
        "id": "ANSq47X2OFmG"
      },
      "source": [
        "#split the data set \r\n",
        "from sklearn.model_selection import train_test_split"
      ],
      "execution_count": 66,
      "outputs": []
    },
    {
      "cell_type": "code",
      "metadata": {
        "id": "waApjir1OLB4"
      },
      "source": [
        "x_train,x_test,y_train,y_test=train_test_split(scaled_input,target,test_size=0.2,random_state=365)"
      ],
      "execution_count": 67,
      "outputs": []
    },
    {
      "cell_type": "code",
      "metadata": {
        "colab": {
          "base_uri": "https://localhost:8080/"
        },
        "id": "5coGKGH2OZJi",
        "outputId": "9e7089fa-a000-46c1-efc4-6e0393c5db72"
      },
      "source": [
        "x_train.shape"
      ],
      "execution_count": 68,
      "outputs": [
        {
          "output_type": "execute_result",
          "data": {
            "text/plain": [
              "(3092, 17)"
            ]
          },
          "metadata": {
            "tags": []
          },
          "execution_count": 68
        }
      ]
    },
    {
      "cell_type": "code",
      "metadata": {
        "colab": {
          "base_uri": "https://localhost:8080/"
        },
        "id": "-mnFUG9iOb_Z",
        "outputId": "3f6c2fae-f1ac-4818-f7d8-2f4a89e91d5f"
      },
      "source": [
        "x_test.shape"
      ],
      "execution_count": 69,
      "outputs": [
        {
          "output_type": "execute_result",
          "data": {
            "text/plain": [
              "(774, 17)"
            ]
          },
          "metadata": {
            "tags": []
          },
          "execution_count": 69
        }
      ]
    },
    {
      "cell_type": "code",
      "metadata": {
        "id": "f8mYZ0nUMxk_"
      },
      "source": [
        "#create the regression \r\n",
        "from sklearn.linear_model import LinearRegression"
      ],
      "execution_count": 70,
      "outputs": []
    },
    {
      "cell_type": "code",
      "metadata": {
        "id": "yw2clh8YL4lx"
      },
      "source": [
        "reg=LinearRegression()"
      ],
      "execution_count": 71,
      "outputs": []
    },
    {
      "cell_type": "code",
      "metadata": {
        "colab": {
          "base_uri": "https://localhost:8080/"
        },
        "id": "-eypzZntOxsz",
        "outputId": "5ab44900-94f3-4af0-8d76-72fe19c5984b"
      },
      "source": [
        "reg.fit(x_train,y_train)"
      ],
      "execution_count": 72,
      "outputs": [
        {
          "output_type": "execute_result",
          "data": {
            "text/plain": [
              "LinearRegression(copy_X=True, fit_intercept=True, n_jobs=None, normalize=False)"
            ]
          },
          "metadata": {
            "tags": []
          },
          "execution_count": 72
        }
      ]
    },
    {
      "cell_type": "code",
      "metadata": {
        "colab": {
          "base_uri": "https://localhost:8080/"
        },
        "id": "0D5PtlEUO1m9",
        "outputId": "c163b0ee-44ed-43cf-9cd4-15eca5b8258e"
      },
      "source": [
        "reg.coef_"
      ],
      "execution_count": 73,
      "outputs": [
        {
          "output_type": "execute_result",
          "data": {
            "text/plain": [
              "array([-0.44838367,  0.21092609,  0.01217236,  0.01091936, -0.13381235,\n",
              "       -0.18243069, -0.05551416, -0.08742151, -0.15127967, -0.10115164,\n",
              "       -0.19711525, -0.1281566 , -0.16265036, -0.12418232, -0.03326347,\n",
              "       -0.14940858,  0.31944559])"
            ]
          },
          "metadata": {
            "tags": []
          },
          "execution_count": 73
        }
      ]
    },
    {
      "cell_type": "code",
      "metadata": {
        "id": "DrCbAdcLL4pd"
      },
      "source": [
        "y_hat=reg.predict(x_train)"
      ],
      "execution_count": 74,
      "outputs": []
    },
    {
      "cell_type": "code",
      "metadata": {
        "colab": {
          "base_uri": "https://localhost:8080/",
          "height": 280
        },
        "id": "nZznyDnKPCb8",
        "outputId": "3fe8c7ff-5c8a-423f-f1f3-cac6f77ecc16"
      },
      "source": [
        "plt.scatter(y_train,y_hat)\r\n",
        "plt.xlabel('target y_train')\r\n",
        "plt.ylabel('predicted y_hat')\r\n",
        "plt.show()"
      ],
      "execution_count": 75,
      "outputs": [
        {
          "output_type": "display_data",
          "data": {
            "image/png": "[encoded data removed]",
            "text/plain": [
              "<Figure size 432x288 with 1 Axes>"
            ]
          },
          "metadata": {
            "tags": [],
            "needs_background": "light"
          }
        }
      ]
    },
    {
      "cell_type": "code",
      "metadata": {
        "colab": {
          "base_uri": "https://localhost:8080/",
          "height": 353
        },
        "id": "zPG_jRV_PgS4",
        "outputId": "0040aa27-1106-4666-b399-b6ac24901496"
      },
      "source": [
        "#residual plot \r\n",
        "sns.distplot(y_train-y_hat)"
      ],
      "execution_count": 76,
      "outputs": [
        {
          "output_type": "stream",
          "text": [
            "/usr/local/lib/python3.7/dist-packages/seaborn/distributions.py:2557: FutureWarning: `distplot` is a deprecated function and will be removed in a future version. Please adapt your code to use either `displot` (a figure-level function with similar flexibility) or `histplot` (an axes-level function for histograms).\n",
            "  warnings.warn(msg, FutureWarning)\n"
          ],
          "name": "stderr"
        },
        {
          "output_type": "execute_result",
          "data": {
            "text/plain": [
              "<matplotlib.axes._subplots.AxesSubplot at 0x7fb7e8760e90>"
            ]
          },
          "metadata": {
            "tags": []
          },
          "execution_count": 76
        },
        {
          "output_type": "display_data",
          "data": {
            "image/png": "[encoded data removed]",
            "text/plain": [
              "<Figure size 432x288 with 1 Axes>"
            ]
          },
          "metadata": {
            "tags": [],
            "needs_background": "light"
          }
        }
      ]
    },
    {
      "cell_type": "code",
      "metadata": {
        "colab": {
          "base_uri": "https://localhost:8080/"
        },
        "id": "PTmjuuj7P4aA",
        "outputId": "bb6543a5-0737-4479-f2e1-a4e69a6a3aba"
      },
      "source": [
        "r2=reg.score(x_train,y_train)\r\n",
        "r2"
      ],
      "execution_count": 77,
      "outputs": [
        {
          "output_type": "execute_result",
          "data": {
            "text/plain": [
              "0.7415645182486199"
            ]
          },
          "metadata": {
            "tags": []
          },
          "execution_count": 77
        }
      ]
    },
    {
      "cell_type": "code",
      "metadata": {
        "id": "T0RCaOcLP4lb"
      },
      "source": [
        "#conc:\r\n",
        "#the model is explaining 75 percent of the variablity of the data \r\n"
      ],
      "execution_count": 78,
      "outputs": []
    },
    {
      "cell_type": "code",
      "metadata": {
        "colab": {
          "base_uri": "https://localhost:8080/"
        },
        "id": "EhRE06rGPmYC",
        "outputId": "2f09c2ed-7dc9-4df3-def0-5822527ea5b0"
      },
      "source": [
        "#finding weights and bais \r\n",
        "reg.coef_"
      ],
      "execution_count": 79,
      "outputs": [
        {
          "output_type": "execute_result",
          "data": {
            "text/plain": [
              "array([-0.44838367,  0.21092609,  0.01217236,  0.01091936, -0.13381235,\n",
              "       -0.18243069, -0.05551416, -0.08742151, -0.15127967, -0.10115164,\n",
              "       -0.19711525, -0.1281566 , -0.16265036, -0.12418232, -0.03326347,\n",
              "       -0.14940858,  0.31944559])"
            ]
          },
          "metadata": {
            "tags": []
          },
          "execution_count": 79
        }
      ]
    },
    {
      "cell_type": "code",
      "metadata": {
        "colab": {
          "base_uri": "https://localhost:8080/"
        },
        "id": "a4arvSMGQiqU",
        "outputId": "156c13f3-8043-45e5-99a9-bdd85e8c78e9"
      },
      "source": [
        "reg.intercept_"
      ],
      "execution_count": 80,
      "outputs": [
        {
          "output_type": "execute_result",
          "data": {
            "text/plain": [
              "9.413280072375791"
            ]
          },
          "metadata": {
            "tags": []
          },
          "execution_count": 80
        }
      ]
    },
    {
      "cell_type": "code",
      "metadata": {
        "id": "rm3aaKNhQin9"
      },
      "source": [
        "reg_summary=pd.DataFrame(inputs.columns.values,columns=['features'])"
      ],
      "execution_count": 81,
      "outputs": []
    },
    {
      "cell_type": "code",
      "metadata": {
        "colab": {
          "base_uri": "https://localhost:8080/",
          "height": 563
        },
        "id": "9gMtOOfDQit6",
        "outputId": "87c1e087-39d6-482a-88ed-a55838236781"
      },
      "source": [
        "reg_summary['weights']=reg.coef_\r\n",
        "reg_summary"
      ],
      "execution_count": 82,
      "outputs": [
        {
          "output_type": "execute_result",
          "data": {
            "text/html": [
              "<div>\n",
              "<style scoped>\n",
              "    .dataframe tbody tr th:only-of-type {\n",
              "        vertical-align: middle;\n",
              "    }\n",
              "\n",
              "    .dataframe tbody tr th {\n",
              "        vertical-align: top;\n",
              "    }\n",
              "\n",
              "    .dataframe thead th {\n",
              "        text-align: right;\n",
              "    }\n",
              "</style>\n",
              "<table border=\"1\" class=\"dataframe\">\n",
              "  <thead>\n",
              "    <tr style=\"text-align: right;\">\n",
              "      <th></th>\n",
              "      <th>features</th>\n",
              "      <th>weights</th>\n",
              "    </tr>\n",
              "  </thead>\n",
              "  <tbody>\n",
              "    <tr>\n",
              "      <th>0</th>\n",
              "      <td>Mileage</td>\n",
              "      <td>-0.448384</td>\n",
              "    </tr>\n",
              "    <tr>\n",
              "      <th>1</th>\n",
              "      <td>EngineV</td>\n",
              "      <td>0.210926</td>\n",
              "    </tr>\n",
              "    <tr>\n",
              "      <th>2</th>\n",
              "      <td>Brand_BMW</td>\n",
              "      <td>0.012172</td>\n",
              "    </tr>\n",
              "    <tr>\n",
              "      <th>3</th>\n",
              "      <td>Brand_Mercedes-Benz</td>\n",
              "      <td>0.010919</td>\n",
              "    </tr>\n",
              "    <tr>\n",
              "      <th>4</th>\n",
              "      <td>Brand_Mitsubishi</td>\n",
              "      <td>-0.133812</td>\n",
              "    </tr>\n",
              "    <tr>\n",
              "      <th>5</th>\n",
              "      <td>Brand_Renault</td>\n",
              "      <td>-0.182431</td>\n",
              "    </tr>\n",
              "    <tr>\n",
              "      <th>6</th>\n",
              "      <td>Brand_Toyota</td>\n",
              "      <td>-0.055514</td>\n",
              "    </tr>\n",
              "    <tr>\n",
              "      <th>7</th>\n",
              "      <td>Brand_Volkswagen</td>\n",
              "      <td>-0.087422</td>\n",
              "    </tr>\n",
              "    <tr>\n",
              "      <th>8</th>\n",
              "      <td>Body_hatch</td>\n",
              "      <td>-0.151280</td>\n",
              "    </tr>\n",
              "    <tr>\n",
              "      <th>9</th>\n",
              "      <td>Body_other</td>\n",
              "      <td>-0.101152</td>\n",
              "    </tr>\n",
              "    <tr>\n",
              "      <th>10</th>\n",
              "      <td>Body_sedan</td>\n",
              "      <td>-0.197115</td>\n",
              "    </tr>\n",
              "    <tr>\n",
              "      <th>11</th>\n",
              "      <td>Body_vagon</td>\n",
              "      <td>-0.128157</td>\n",
              "    </tr>\n",
              "    <tr>\n",
              "      <th>12</th>\n",
              "      <td>Body_van</td>\n",
              "      <td>-0.162650</td>\n",
              "    </tr>\n",
              "    <tr>\n",
              "      <th>13</th>\n",
              "      <td>Engine Type_Gas</td>\n",
              "      <td>-0.124182</td>\n",
              "    </tr>\n",
              "    <tr>\n",
              "      <th>14</th>\n",
              "      <td>Engine Type_Other</td>\n",
              "      <td>-0.033263</td>\n",
              "    </tr>\n",
              "    <tr>\n",
              "      <th>15</th>\n",
              "      <td>Engine Type_Petrol</td>\n",
              "      <td>-0.149409</td>\n",
              "    </tr>\n",
              "    <tr>\n",
              "      <th>16</th>\n",
              "      <td>Registration_yes</td>\n",
              "      <td>0.319446</td>\n",
              "    </tr>\n",
              "  </tbody>\n",
              "</table>\n",
              "</div>"
            ],
            "text/plain": [
              "               features   weights\n",
              "0               Mileage -0.448384\n",
              "1               EngineV  0.210926\n",
              "2             Brand_BMW  0.012172\n",
              "3   Brand_Mercedes-Benz  0.010919\n",
              "4      Brand_Mitsubishi -0.133812\n",
              "5         Brand_Renault -0.182431\n",
              "6          Brand_Toyota -0.055514\n",
              "7      Brand_Volkswagen -0.087422\n",
              "8            Body_hatch -0.151280\n",
              "9            Body_other -0.101152\n",
              "10           Body_sedan -0.197115\n",
              "11           Body_vagon -0.128157\n",
              "12             Body_van -0.162650\n",
              "13      Engine Type_Gas -0.124182\n",
              "14    Engine Type_Other -0.033263\n",
              "15   Engine Type_Petrol -0.149409\n",
              "16     Registration_yes  0.319446"
            ]
          },
          "metadata": {
            "tags": []
          },
          "execution_count": 82
        }
      ]
    },
    {
      "cell_type": "code",
      "metadata": {
        "id": "vmHjBYd8PmnH"
      },
      "source": [
        "#testing \r\n",
        "y_hat_test=reg.predict(x_test)"
      ],
      "execution_count": 84,
      "outputs": []
    },
    {
      "cell_type": "code",
      "metadata": {
        "colab": {
          "base_uri": "https://localhost:8080/",
          "height": 288
        },
        "id": "zeQpJxk3gYDB",
        "outputId": "d7cb53c5-4dc5-44bd-ac06-1207dc1f4742"
      },
      "source": [
        "plt.scatter(y_test,y_hat_test)\r\n",
        "plt.xlabel(' y_test ',size=19)\r\n",
        "plt.ylabel('predicted y_hat')\r\n",
        "plt.show()"
      ],
      "execution_count": 87,
      "outputs": [
        {
          "output_type": "display_data",
          "data": {
            "image/png": "[encoded data removed]",
            "text/plain": [
              "<Figure size 432x288 with 1 Axes>"
            ]
          },
          "metadata": {
            "tags": [],
            "needs_background": "light"
          }
        }
      ]
    },
    {
      "cell_type": "code",
      "metadata": {
        "colab": {
          "base_uri": "https://localhost:8080/",
          "height": 353
        },
        "id": "BmzygMnwRk0F",
        "outputId": "05408bd9-0106-49d2-d034-53fa441eb9e5"
      },
      "source": [
        "sns.distplot(y_test-y_hat_test)"
      ],
      "execution_count": 89,
      "outputs": [
        {
          "output_type": "stream",
          "text": [
            "/usr/local/lib/python3.7/dist-packages/seaborn/distributions.py:2557: FutureWarning: `distplot` is a deprecated function and will be removed in a future version. Please adapt your code to use either `displot` (a figure-level function with similar flexibility) or `histplot` (an axes-level function for histograms).\n",
            "  warnings.warn(msg, FutureWarning)\n"
          ],
          "name": "stderr"
        },
        {
          "output_type": "execute_result",
          "data": {
            "text/plain": [
              "<matplotlib.axes._subplots.AxesSubplot at 0x7fb7e7eff610>"
            ]
          },
          "metadata": {
            "tags": []
          },
          "execution_count": 89
        },
        {
          "output_type": "display_data",
          "data": {
            "image/png": "[encoded data removed]",
            "text/plain": [
              "<Figure size 432x288 with 1 Axes>"
            ]
          },
          "metadata": {
            "tags": [],
            "needs_background": "light"
          }
        }
      ]
    },
    {
      "cell_type": "code",
      "metadata": {
        "id": "-IHLX-kYRk4I"
      },
      "source": [
        "df_pf=pd.DataFrame(np.exp(y_hat_test),columns=['predictions'])"
      ],
      "execution_count": 93,
      "outputs": []
    },
    {
      "cell_type": "code",
      "metadata": {
        "colab": {
          "base_uri": "https://localhost:8080/",
          "height": 199
        },
        "id": "udXPCJKMRBZS",
        "outputId": "e18ef56b-503d-4f13-82ae-2eadcd465848"
      },
      "source": [
        "df_pf.head()"
      ],
      "execution_count": 94,
      "outputs": [
        {
          "output_type": "execute_result",
          "data": {
            "text/html": [
              "<div>\n",
              "<style scoped>\n",
              "    .dataframe tbody tr th:only-of-type {\n",
              "        vertical-align: middle;\n",
              "    }\n",
              "\n",
              "    .dataframe tbody tr th {\n",
              "        vertical-align: top;\n",
              "    }\n",
              "\n",
              "    .dataframe thead th {\n",
              "        text-align: right;\n",
              "    }\n",
              "</style>\n",
              "<table border=\"1\" class=\"dataframe\">\n",
              "  <thead>\n",
              "    <tr style=\"text-align: right;\">\n",
              "      <th></th>\n",
              "      <th>predictions</th>\n",
              "    </tr>\n",
              "  </thead>\n",
              "  <tbody>\n",
              "    <tr>\n",
              "      <th>0</th>\n",
              "      <td>10650.438709</td>\n",
              "    </tr>\n",
              "    <tr>\n",
              "      <th>1</th>\n",
              "      <td>8041.555683</td>\n",
              "    </tr>\n",
              "    <tr>\n",
              "      <th>2</th>\n",
              "      <td>6799.069945</td>\n",
              "    </tr>\n",
              "    <tr>\n",
              "      <th>3</th>\n",
              "      <td>7606.977689</td>\n",
              "    </tr>\n",
              "    <tr>\n",
              "      <th>4</th>\n",
              "      <td>11309.799759</td>\n",
              "    </tr>\n",
              "  </tbody>\n",
              "</table>\n",
              "</div>"
            ],
            "text/plain": [
              "    predictions\n",
              "0  10650.438709\n",
              "1   8041.555683\n",
              "2   6799.069945\n",
              "3   7606.977689\n",
              "4  11309.799759"
            ]
          },
          "metadata": {
            "tags": []
          },
          "execution_count": 94
        }
      ]
    },
    {
      "cell_type": "code",
      "metadata": {
        "id": "PcudP02URBcL"
      },
      "source": [
        "df_pf['target']=np.exp(y_test)"
      ],
      "execution_count": 98,
      "outputs": []
    },
    {
      "cell_type": "code",
      "metadata": {
        "id": "v9DhSdqXRBez"
      },
      "source": [
        "y_test=y_test.reset_index(drop=True)"
      ],
      "execution_count": 97,
      "outputs": []
    },
    {
      "cell_type": "code",
      "metadata": {
        "colab": {
          "base_uri": "https://localhost:8080/",
          "height": 410
        },
        "id": "U0hoIAwliYZ-",
        "outputId": "1d0f8252-6556-4b4a-bf8a-8f76653e5adc"
      },
      "source": [
        "df_pf"
      ],
      "execution_count": 99,
      "outputs": [
        {
          "output_type": "execute_result",
          "data": {
            "text/html": [
              "<div>\n",
              "<style scoped>\n",
              "    .dataframe tbody tr th:only-of-type {\n",
              "        vertical-align: middle;\n",
              "    }\n",
              "\n",
              "    .dataframe tbody tr th {\n",
              "        vertical-align: top;\n",
              "    }\n",
              "\n",
              "    .dataframe thead th {\n",
              "        text-align: right;\n",
              "    }\n",
              "</style>\n",
              "<table border=\"1\" class=\"dataframe\">\n",
              "  <thead>\n",
              "    <tr style=\"text-align: right;\">\n",
              "      <th></th>\n",
              "      <th>predictions</th>\n",
              "      <th>target</th>\n",
              "    </tr>\n",
              "  </thead>\n",
              "  <tbody>\n",
              "    <tr>\n",
              "      <th>0</th>\n",
              "      <td>10650.438709</td>\n",
              "      <td>2300.0</td>\n",
              "    </tr>\n",
              "    <tr>\n",
              "      <th>1</th>\n",
              "      <td>8041.555683</td>\n",
              "      <td>13200.0</td>\n",
              "    </tr>\n",
              "    <tr>\n",
              "      <th>2</th>\n",
              "      <td>6799.069945</td>\n",
              "      <td>8100.0</td>\n",
              "    </tr>\n",
              "    <tr>\n",
              "      <th>3</th>\n",
              "      <td>7606.977689</td>\n",
              "      <td>6400.0</td>\n",
              "    </tr>\n",
              "    <tr>\n",
              "      <th>4</th>\n",
              "      <td>11309.799759</td>\n",
              "      <td>9150.0</td>\n",
              "    </tr>\n",
              "    <tr>\n",
              "      <th>...</th>\n",
              "      <td>...</td>\n",
              "      <td>...</td>\n",
              "    </tr>\n",
              "    <tr>\n",
              "      <th>769</th>\n",
              "      <td>14874.949923</td>\n",
              "      <td>29500.0</td>\n",
              "    </tr>\n",
              "    <tr>\n",
              "      <th>770</th>\n",
              "      <td>5735.556226</td>\n",
              "      <td>5300.0</td>\n",
              "    </tr>\n",
              "    <tr>\n",
              "      <th>771</th>\n",
              "      <td>13623.775492</td>\n",
              "      <td>18300.0</td>\n",
              "    </tr>\n",
              "    <tr>\n",
              "      <th>772</th>\n",
              "      <td>28096.133846</td>\n",
              "      <td>68500.0</td>\n",
              "    </tr>\n",
              "    <tr>\n",
              "      <th>773</th>\n",
              "      <td>13476.554459</td>\n",
              "      <td>10800.0</td>\n",
              "    </tr>\n",
              "  </tbody>\n",
              "</table>\n",
              "<p>774 rows × 2 columns</p>\n",
              "</div>"
            ],
            "text/plain": [
              "      predictions   target\n",
              "0    10650.438709   2300.0\n",
              "1     8041.555683  13200.0\n",
              "2     6799.069945   8100.0\n",
              "3     7606.977689   6400.0\n",
              "4    11309.799759   9150.0\n",
              "..            ...      ...\n",
              "769  14874.949923  29500.0\n",
              "770   5735.556226   5300.0\n",
              "771  13623.775492  18300.0\n",
              "772  28096.133846  68500.0\n",
              "773  13476.554459  10800.0\n",
              "\n",
              "[774 rows x 2 columns]"
            ]
          },
          "metadata": {
            "tags": []
          },
          "execution_count": 99
        }
      ]
    },
    {
      "cell_type": "code",
      "metadata": {
        "id": "1k4J91x6ihUM"
      },
      "source": [
        "df_pf['residual']=df_pf['target']-df_pf['predictions']"
      ],
      "execution_count": 100,
      "outputs": []
    },
    {
      "cell_type": "code",
      "metadata": {
        "colab": {
          "base_uri": "https://localhost:8080/",
          "height": 199
        },
        "id": "pKZM9mtDisiW",
        "outputId": "e12fcec4-fe1b-4454-d61a-0c2acedccdb5"
      },
      "source": [
        "df_pf.head()"
      ],
      "execution_count": 101,
      "outputs": [
        {
          "output_type": "execute_result",
          "data": {
            "text/html": [
              "<div>\n",
              "<style scoped>\n",
              "    .dataframe tbody tr th:only-of-type {\n",
              "        vertical-align: middle;\n",
              "    }\n",
              "\n",
              "    .dataframe tbody tr th {\n",
              "        vertical-align: top;\n",
              "    }\n",
              "\n",
              "    .dataframe thead th {\n",
              "        text-align: right;\n",
              "    }\n",
              "</style>\n",
              "<table border=\"1\" class=\"dataframe\">\n",
              "  <thead>\n",
              "    <tr style=\"text-align: right;\">\n",
              "      <th></th>\n",
              "      <th>predictions</th>\n",
              "      <th>target</th>\n",
              "      <th>residual</th>\n",
              "    </tr>\n",
              "  </thead>\n",
              "  <tbody>\n",
              "    <tr>\n",
              "      <th>0</th>\n",
              "      <td>10650.438709</td>\n",
              "      <td>2300.0</td>\n",
              "      <td>-8350.438709</td>\n",
              "    </tr>\n",
              "    <tr>\n",
              "      <th>1</th>\n",
              "      <td>8041.555683</td>\n",
              "      <td>13200.0</td>\n",
              "      <td>5158.444317</td>\n",
              "    </tr>\n",
              "    <tr>\n",
              "      <th>2</th>\n",
              "      <td>6799.069945</td>\n",
              "      <td>8100.0</td>\n",
              "      <td>1300.930055</td>\n",
              "    </tr>\n",
              "    <tr>\n",
              "      <th>3</th>\n",
              "      <td>7606.977689</td>\n",
              "      <td>6400.0</td>\n",
              "      <td>-1206.977689</td>\n",
              "    </tr>\n",
              "    <tr>\n",
              "      <th>4</th>\n",
              "      <td>11309.799759</td>\n",
              "      <td>9150.0</td>\n",
              "      <td>-2159.799759</td>\n",
              "    </tr>\n",
              "  </tbody>\n",
              "</table>\n",
              "</div>"
            ],
            "text/plain": [
              "    predictions   target     residual\n",
              "0  10650.438709   2300.0 -8350.438709\n",
              "1   8041.555683  13200.0  5158.444317\n",
              "2   6799.069945   8100.0  1300.930055\n",
              "3   7606.977689   6400.0 -1206.977689\n",
              "4  11309.799759   9150.0 -2159.799759"
            ]
          },
          "metadata": {
            "tags": []
          },
          "execution_count": 101
        }
      ]
    },
    {
      "cell_type": "code",
      "metadata": {
        "id": "zoK7ibETi1Aa"
      },
      "source": [
        "df_pf['differences%']=np.absolute(df_pf['residual']/df_pf['target']*100)"
      ],
      "execution_count": 102,
      "outputs": []
    },
    {
      "cell_type": "code",
      "metadata": {
        "colab": {
          "base_uri": "https://localhost:8080/",
          "height": 199
        },
        "id": "oJve7YiajIN5",
        "outputId": "edfe0176-766b-4f85-987b-486a0d6f50d0"
      },
      "source": [
        "df_pf.head()"
      ],
      "execution_count": 103,
      "outputs": [
        {
          "output_type": "execute_result",
          "data": {
            "text/html": [
              "<div>\n",
              "<style scoped>\n",
              "    .dataframe tbody tr th:only-of-type {\n",
              "        vertical-align: middle;\n",
              "    }\n",
              "\n",
              "    .dataframe tbody tr th {\n",
              "        vertical-align: top;\n",
              "    }\n",
              "\n",
              "    .dataframe thead th {\n",
              "        text-align: right;\n",
              "    }\n",
              "</style>\n",
              "<table border=\"1\" class=\"dataframe\">\n",
              "  <thead>\n",
              "    <tr style=\"text-align: right;\">\n",
              "      <th></th>\n",
              "      <th>predictions</th>\n",
              "      <th>target</th>\n",
              "      <th>residual</th>\n",
              "      <th>differences%</th>\n",
              "    </tr>\n",
              "  </thead>\n",
              "  <tbody>\n",
              "    <tr>\n",
              "      <th>0</th>\n",
              "      <td>10650.438709</td>\n",
              "      <td>2300.0</td>\n",
              "      <td>-8350.438709</td>\n",
              "      <td>363.062553</td>\n",
              "    </tr>\n",
              "    <tr>\n",
              "      <th>1</th>\n",
              "      <td>8041.555683</td>\n",
              "      <td>13200.0</td>\n",
              "      <td>5158.444317</td>\n",
              "      <td>39.079124</td>\n",
              "    </tr>\n",
              "    <tr>\n",
              "      <th>2</th>\n",
              "      <td>6799.069945</td>\n",
              "      <td>8100.0</td>\n",
              "      <td>1300.930055</td>\n",
              "      <td>16.060865</td>\n",
              "    </tr>\n",
              "    <tr>\n",
              "      <th>3</th>\n",
              "      <td>7606.977689</td>\n",
              "      <td>6400.0</td>\n",
              "      <td>-1206.977689</td>\n",
              "      <td>18.859026</td>\n",
              "    </tr>\n",
              "    <tr>\n",
              "      <th>4</th>\n",
              "      <td>11309.799759</td>\n",
              "      <td>9150.0</td>\n",
              "      <td>-2159.799759</td>\n",
              "      <td>23.604369</td>\n",
              "    </tr>\n",
              "  </tbody>\n",
              "</table>\n",
              "</div>"
            ],
            "text/plain": [
              "    predictions   target     residual  differences%\n",
              "0  10650.438709   2300.0 -8350.438709    363.062553\n",
              "1   8041.555683  13200.0  5158.444317     39.079124\n",
              "2   6799.069945   8100.0  1300.930055     16.060865\n",
              "3   7606.977689   6400.0 -1206.977689     18.859026\n",
              "4  11309.799759   9150.0 -2159.799759     23.604369"
            ]
          },
          "metadata": {
            "tags": []
          },
          "execution_count": 103
        }
      ]
    },
    {
      "cell_type": "code",
      "metadata": {
        "colab": {
          "base_uri": "https://localhost:8080/",
          "height": 290
        },
        "id": "p8Em_0DvjN0V",
        "outputId": "108242ae-ed31-4962-9ef1-48125e9a6b2d"
      },
      "source": [
        "df_pf.describe()"
      ],
      "execution_count": 104,
      "outputs": [
        {
          "output_type": "execute_result",
          "data": {
            "text/html": [
              "<div>\n",
              "<style scoped>\n",
              "    .dataframe tbody tr th:only-of-type {\n",
              "        vertical-align: middle;\n",
              "    }\n",
              "\n",
              "    .dataframe tbody tr th {\n",
              "        vertical-align: top;\n",
              "    }\n",
              "\n",
              "    .dataframe thead th {\n",
              "        text-align: right;\n",
              "    }\n",
              "</style>\n",
              "<table border=\"1\" class=\"dataframe\">\n",
              "  <thead>\n",
              "    <tr style=\"text-align: right;\">\n",
              "      <th></th>\n",
              "      <th>predictions</th>\n",
              "      <th>target</th>\n",
              "      <th>residual</th>\n",
              "      <th>differences%</th>\n",
              "    </tr>\n",
              "  </thead>\n",
              "  <tbody>\n",
              "    <tr>\n",
              "      <th>count</th>\n",
              "      <td>774.000000</td>\n",
              "      <td>774.000000</td>\n",
              "      <td>774.000000</td>\n",
              "      <td>774.000000</td>\n",
              "    </tr>\n",
              "    <tr>\n",
              "      <th>mean</th>\n",
              "      <td>16170.746881</td>\n",
              "      <td>18612.010504</td>\n",
              "      <td>2441.263622</td>\n",
              "      <td>33.814041</td>\n",
              "    </tr>\n",
              "    <tr>\n",
              "      <th>std</th>\n",
              "      <td>13742.956902</td>\n",
              "      <td>20953.006281</td>\n",
              "      <td>10835.145339</td>\n",
              "      <td>48.272151</td>\n",
              "    </tr>\n",
              "    <tr>\n",
              "      <th>min</th>\n",
              "      <td>1284.843010</td>\n",
              "      <td>1400.000000</td>\n",
              "      <td>-29171.365746</td>\n",
              "      <td>0.056793</td>\n",
              "    </tr>\n",
              "    <tr>\n",
              "      <th>25%</th>\n",
              "      <td>7489.039002</td>\n",
              "      <td>6999.250000</td>\n",
              "      <td>-2013.351405</td>\n",
              "      <td>11.277214</td>\n",
              "    </tr>\n",
              "    <tr>\n",
              "      <th>50%</th>\n",
              "      <td>11561.730997</td>\n",
              "      <td>11500.000000</td>\n",
              "      <td>150.474574</td>\n",
              "      <td>23.239276</td>\n",
              "    </tr>\n",
              "    <tr>\n",
              "      <th>75%</th>\n",
              "      <td>19726.158072</td>\n",
              "      <td>20500.000000</td>\n",
              "      <td>3293.698161</td>\n",
              "      <td>39.023878</td>\n",
              "    </tr>\n",
              "    <tr>\n",
              "      <th>max</th>\n",
              "      <td>77447.771561</td>\n",
              "      <td>124000.000000</td>\n",
              "      <td>80642.598057</td>\n",
              "      <td>507.418465</td>\n",
              "    </tr>\n",
              "  </tbody>\n",
              "</table>\n",
              "</div>"
            ],
            "text/plain": [
              "        predictions         target      residual  differences%\n",
              "count    774.000000     774.000000    774.000000    774.000000\n",
              "mean   16170.746881   18612.010504   2441.263622     33.814041\n",
              "std    13742.956902   20953.006281  10835.145339     48.272151\n",
              "min     1284.843010    1400.000000 -29171.365746      0.056793\n",
              "25%     7489.039002    6999.250000  -2013.351405     11.277214\n",
              "50%    11561.730997   11500.000000    150.474574     23.239276\n",
              "75%    19726.158072   20500.000000   3293.698161     39.023878\n",
              "max    77447.771561  124000.000000  80642.598057    507.418465"
            ]
          },
          "metadata": {
            "tags": []
          },
          "execution_count": 104
        }
      ]
    },
    {
      "cell_type": "code",
      "metadata": {
        "id": "ca6PmXKYjON3"
      },
      "source": [
        ""
      ],
      "execution_count": null,
      "outputs": []
    },
    {
      "cell_type": "code",
      "metadata": {
        "id": "axZLMuZ9jOTC"
      },
      "source": [
        ""
      ],
      "execution_count": null,
      "outputs": []
    }
  ]
}